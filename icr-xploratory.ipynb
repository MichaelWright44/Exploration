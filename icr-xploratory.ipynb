{
 "cells": [
  {
   "cell_type": "code",
   "execution_count": 1,
   "id": "83b00f26",
   "metadata": {
    "execution": {
     "iopub.execute_input": "2023-07-22T20:28:19.908446Z",
     "iopub.status.busy": "2023-07-22T20:28:19.907508Z",
     "iopub.status.idle": "2023-07-22T20:28:19.912772Z",
     "shell.execute_reply": "2023-07-22T20:28:19.911830Z"
    },
    "papermill": {
     "duration": 0.017854,
     "end_time": "2023-07-22T20:28:19.916555",
     "exception": false,
     "start_time": "2023-07-22T20:28:19.898701",
     "status": "completed"
    },
    "tags": []
   },
   "outputs": [],
   "source": [
    "#Required Installs\n",
    "#!pip install fivecentplots # will need to remove for submission"
   ]
  },
  {
   "cell_type": "code",
   "execution_count": 2,
   "id": "a5bd7962",
   "metadata": {
    "execution": {
     "iopub.execute_input": "2023-07-22T20:28:19.931519Z",
     "iopub.status.busy": "2023-07-22T20:28:19.931014Z",
     "iopub.status.idle": "2023-07-22T20:28:21.425331Z",
     "shell.execute_reply": "2023-07-22T20:28:21.424405Z"
    },
    "papermill": {
     "duration": 1.50433,
     "end_time": "2023-07-22T20:28:21.427687",
     "exception": false,
     "start_time": "2023-07-22T20:28:19.923357",
     "status": "completed"
    },
    "tags": []
   },
   "outputs": [],
   "source": [
    "#Standard Imports\n",
    "import os\n",
    "\n",
    "#Third Party Imports\n",
    "from sklearn.metrics import accuracy_score, log_loss, roc_auc_score, make_scorer\n",
    "import xgboost as xgb\n",
    "#import fivecentplots as fcp #clean data vis library for easy pandas integration | will need to remove for submission\n",
    "from sklearn.preprocessing import LabelEncoder\n",
    "import numpy as np\n",
    "import pandas as pd\n",
    "from sklearn.pipeline import Pipeline\n",
    "import seaborn as sns\n",
    "from tqdm import tqdm\n",
    "from sklearn.model_selection import cross_val_score, KFold, train_test_split, GridSearchCV\n"
   ]
  },
  {
   "cell_type": "code",
   "execution_count": 3,
   "id": "df3cc57d",
   "metadata": {
    "execution": {
     "iopub.execute_input": "2023-07-22T20:28:21.442890Z",
     "iopub.status.busy": "2023-07-22T20:28:21.442599Z",
     "iopub.status.idle": "2023-07-22T20:28:21.503533Z",
     "shell.execute_reply": "2023-07-22T20:28:21.502698Z"
    },
    "papermill": {
     "duration": 0.071508,
     "end_time": "2023-07-22T20:28:21.506144",
     "exception": false,
     "start_time": "2023-07-22T20:28:21.434636",
     "status": "completed"
    },
    "tags": []
   },
   "outputs": [
    {
     "data": {
      "text/html": [
       "<div>\n",
       "<style scoped>\n",
       "    .dataframe tbody tr th:only-of-type {\n",
       "        vertical-align: middle;\n",
       "    }\n",
       "\n",
       "    .dataframe tbody tr th {\n",
       "        vertical-align: top;\n",
       "    }\n",
       "\n",
       "    .dataframe thead th {\n",
       "        text-align: right;\n",
       "    }\n",
       "</style>\n",
       "<table border=\"1\" class=\"dataframe\">\n",
       "  <thead>\n",
       "    <tr style=\"text-align: right;\">\n",
       "      <th></th>\n",
       "      <th>AB</th>\n",
       "      <th>AF</th>\n",
       "      <th>AH</th>\n",
       "      <th>AM</th>\n",
       "      <th>AR</th>\n",
       "      <th>AX</th>\n",
       "      <th>AY</th>\n",
       "      <th>AZ</th>\n",
       "      <th>BC</th>\n",
       "      <th>BD</th>\n",
       "      <th>...</th>\n",
       "      <th>FL</th>\n",
       "      <th>FR</th>\n",
       "      <th>FS</th>\n",
       "      <th>GB</th>\n",
       "      <th>GE</th>\n",
       "      <th>GF</th>\n",
       "      <th>GH</th>\n",
       "      <th>GI</th>\n",
       "      <th>GL</th>\n",
       "      <th>Class</th>\n",
       "    </tr>\n",
       "    <tr>\n",
       "      <th>Id</th>\n",
       "      <th></th>\n",
       "      <th></th>\n",
       "      <th></th>\n",
       "      <th></th>\n",
       "      <th></th>\n",
       "      <th></th>\n",
       "      <th></th>\n",
       "      <th></th>\n",
       "      <th></th>\n",
       "      <th></th>\n",
       "      <th></th>\n",
       "      <th></th>\n",
       "      <th></th>\n",
       "      <th></th>\n",
       "      <th></th>\n",
       "      <th></th>\n",
       "      <th></th>\n",
       "      <th></th>\n",
       "      <th></th>\n",
       "      <th></th>\n",
       "      <th></th>\n",
       "    </tr>\n",
       "  </thead>\n",
       "  <tbody>\n",
       "    <tr>\n",
       "      <th>000ff2bfdfe9</th>\n",
       "      <td>0.209377</td>\n",
       "      <td>3109.03329</td>\n",
       "      <td>85.200147</td>\n",
       "      <td>22.394407</td>\n",
       "      <td>8.138688</td>\n",
       "      <td>0.699861</td>\n",
       "      <td>0.025578</td>\n",
       "      <td>9.812214</td>\n",
       "      <td>5.555634</td>\n",
       "      <td>4126.58731</td>\n",
       "      <td>...</td>\n",
       "      <td>7.298162</td>\n",
       "      <td>1.73855</td>\n",
       "      <td>0.094822</td>\n",
       "      <td>11.339138</td>\n",
       "      <td>72.611063</td>\n",
       "      <td>2003.810319</td>\n",
       "      <td>22.136229</td>\n",
       "      <td>69.834944</td>\n",
       "      <td>0.120343</td>\n",
       "      <td>1</td>\n",
       "    </tr>\n",
       "    <tr>\n",
       "      <th>007255e47698</th>\n",
       "      <td>0.145282</td>\n",
       "      <td>978.76416</td>\n",
       "      <td>85.200147</td>\n",
       "      <td>36.968889</td>\n",
       "      <td>8.138688</td>\n",
       "      <td>3.632190</td>\n",
       "      <td>0.025578</td>\n",
       "      <td>13.517790</td>\n",
       "      <td>1.229900</td>\n",
       "      <td>5496.92824</td>\n",
       "      <td>...</td>\n",
       "      <td>0.173229</td>\n",
       "      <td>0.49706</td>\n",
       "      <td>0.568932</td>\n",
       "      <td>9.292698</td>\n",
       "      <td>72.611063</td>\n",
       "      <td>27981.562750</td>\n",
       "      <td>29.135430</td>\n",
       "      <td>32.131996</td>\n",
       "      <td>21.978000</td>\n",
       "      <td>0</td>\n",
       "    </tr>\n",
       "    <tr>\n",
       "      <th>013f2bd269f5</th>\n",
       "      <td>0.470030</td>\n",
       "      <td>2635.10654</td>\n",
       "      <td>85.200147</td>\n",
       "      <td>32.360553</td>\n",
       "      <td>8.138688</td>\n",
       "      <td>6.732840</td>\n",
       "      <td>0.025578</td>\n",
       "      <td>12.824570</td>\n",
       "      <td>1.229900</td>\n",
       "      <td>5135.78024</td>\n",
       "      <td>...</td>\n",
       "      <td>7.709560</td>\n",
       "      <td>0.97556</td>\n",
       "      <td>1.198821</td>\n",
       "      <td>37.077772</td>\n",
       "      <td>88.609437</td>\n",
       "      <td>13676.957810</td>\n",
       "      <td>28.022851</td>\n",
       "      <td>35.192676</td>\n",
       "      <td>0.196941</td>\n",
       "      <td>0</td>\n",
       "    </tr>\n",
       "    <tr>\n",
       "      <th>043ac50845d5</th>\n",
       "      <td>0.252107</td>\n",
       "      <td>3819.65177</td>\n",
       "      <td>120.201618</td>\n",
       "      <td>77.112203</td>\n",
       "      <td>8.138688</td>\n",
       "      <td>3.685344</td>\n",
       "      <td>0.025578</td>\n",
       "      <td>11.053708</td>\n",
       "      <td>1.229900</td>\n",
       "      <td>4169.67738</td>\n",
       "      <td>...</td>\n",
       "      <td>6.122162</td>\n",
       "      <td>0.49706</td>\n",
       "      <td>0.284466</td>\n",
       "      <td>18.529584</td>\n",
       "      <td>82.416803</td>\n",
       "      <td>2094.262452</td>\n",
       "      <td>39.948656</td>\n",
       "      <td>90.493248</td>\n",
       "      <td>0.155829</td>\n",
       "      <td>0</td>\n",
       "    </tr>\n",
       "    <tr>\n",
       "      <th>044fb8a146ec</th>\n",
       "      <td>0.380297</td>\n",
       "      <td>3733.04844</td>\n",
       "      <td>85.200147</td>\n",
       "      <td>14.103738</td>\n",
       "      <td>8.138688</td>\n",
       "      <td>3.942255</td>\n",
       "      <td>0.054810</td>\n",
       "      <td>3.396778</td>\n",
       "      <td>102.151980</td>\n",
       "      <td>5728.73412</td>\n",
       "      <td>...</td>\n",
       "      <td>8.153058</td>\n",
       "      <td>48.50134</td>\n",
       "      <td>0.121914</td>\n",
       "      <td>16.408728</td>\n",
       "      <td>146.109943</td>\n",
       "      <td>8524.370502</td>\n",
       "      <td>45.381316</td>\n",
       "      <td>36.262628</td>\n",
       "      <td>0.096614</td>\n",
       "      <td>1</td>\n",
       "    </tr>\n",
       "  </tbody>\n",
       "</table>\n",
       "<p>5 rows × 57 columns</p>\n",
       "</div>"
      ],
      "text/plain": [
       "                    AB          AF          AH         AM        AR        AX  \\\n",
       "Id                                                                              \n",
       "000ff2bfdfe9  0.209377  3109.03329   85.200147  22.394407  8.138688  0.699861   \n",
       "007255e47698  0.145282   978.76416   85.200147  36.968889  8.138688  3.632190   \n",
       "013f2bd269f5  0.470030  2635.10654   85.200147  32.360553  8.138688  6.732840   \n",
       "043ac50845d5  0.252107  3819.65177  120.201618  77.112203  8.138688  3.685344   \n",
       "044fb8a146ec  0.380297  3733.04844   85.200147  14.103738  8.138688  3.942255   \n",
       "\n",
       "                    AY         AZ          BC         BD   ...        FL  \\\n",
       "Id                                                         ...             \n",
       "000ff2bfdfe9  0.025578   9.812214    5.555634  4126.58731  ...  7.298162   \n",
       "007255e47698  0.025578  13.517790    1.229900  5496.92824  ...  0.173229   \n",
       "013f2bd269f5  0.025578  12.824570    1.229900  5135.78024  ...  7.709560   \n",
       "043ac50845d5  0.025578  11.053708    1.229900  4169.67738  ...  6.122162   \n",
       "044fb8a146ec  0.054810   3.396778  102.151980  5728.73412  ...  8.153058   \n",
       "\n",
       "                    FR        FS         GB          GE            GF  \\\n",
       "Id                                                                      \n",
       "000ff2bfdfe9   1.73855  0.094822  11.339138   72.611063   2003.810319   \n",
       "007255e47698   0.49706  0.568932   9.292698   72.611063  27981.562750   \n",
       "013f2bd269f5   0.97556  1.198821  37.077772   88.609437  13676.957810   \n",
       "043ac50845d5   0.49706  0.284466  18.529584   82.416803   2094.262452   \n",
       "044fb8a146ec  48.50134  0.121914  16.408728  146.109943   8524.370502   \n",
       "\n",
       "                     GH         GI         GL  Class  \n",
       "Id                                                    \n",
       "000ff2bfdfe9  22.136229  69.834944   0.120343      1  \n",
       "007255e47698  29.135430  32.131996  21.978000      0  \n",
       "013f2bd269f5  28.022851  35.192676   0.196941      0  \n",
       "043ac50845d5  39.948656  90.493248   0.155829      0  \n",
       "044fb8a146ec  45.381316  36.262628   0.096614      1  \n",
       "\n",
       "[5 rows x 57 columns]"
      ]
     },
     "execution_count": 3,
     "metadata": {},
     "output_type": "execute_result"
    }
   ],
   "source": [
    "train_raw = pd.read_csv('/kaggle/input/icr-identify-age-related-conditions/train.csv',index_col='Id')\n",
    "test_raw = pd.read_csv('/kaggle/input/icr-identify-age-related-conditions/test.csv',index_col='Id')\n",
    "\n",
    "#confirm data\n",
    "train_raw.head()"
   ]
  },
  {
   "cell_type": "code",
   "execution_count": 4,
   "id": "aac25eff",
   "metadata": {
    "execution": {
     "iopub.execute_input": "2023-07-22T20:28:21.523044Z",
     "iopub.status.busy": "2023-07-22T20:28:21.521605Z",
     "iopub.status.idle": "2023-07-22T20:28:21.526839Z",
     "shell.execute_reply": "2023-07-22T20:28:21.526035Z"
    },
    "papermill": {
     "duration": 0.015145,
     "end_time": "2023-07-22T20:28:21.528643",
     "exception": false,
     "start_time": "2023-07-22T20:28:21.513498",
     "status": "completed"
    },
    "tags": []
   },
   "outputs": [],
   "source": [
    "#fcp.hist(df=train_raw, x='AB', kde=True, kde_width=2)"
   ]
  },
  {
   "cell_type": "code",
   "execution_count": 5,
   "id": "81f4df89",
   "metadata": {
    "execution": {
     "iopub.execute_input": "2023-07-22T20:28:21.545031Z",
     "iopub.status.busy": "2023-07-22T20:28:21.544152Z",
     "iopub.status.idle": "2023-07-22T20:28:21.623929Z",
     "shell.execute_reply": "2023-07-22T20:28:21.623146Z"
    },
    "papermill": {
     "duration": 0.090021,
     "end_time": "2023-07-22T20:28:21.626156",
     "exception": false,
     "start_time": "2023-07-22T20:28:21.536135",
     "status": "completed"
    },
    "tags": []
   },
   "outputs": [
    {
     "name": "stdout",
     "output_type": "stream",
     "text": [
      "Categorical spread for EJ:\n",
      " B    395\n",
      "A    222\n",
      "Name: EJ, dtype: int64\n",
      "istribution of target:\n",
      " 0    509\n",
      "1    108\n",
      "Name: Class, dtype: int64\n"
     ]
    }
   ],
   "source": [
    "#Seperate out our target feature\n",
    "X = train_raw.iloc[:, :-1]\n",
    "y = train_raw.iloc[:, -1]\n",
    "\n",
    "#Now is a good time to confirm a few things about our data:\n",
    "# 1: lets check how our encoding looks and we can decide if we need a new approach\n",
    "# 2: lets check the distribution of our target feature\n",
    "\n",
    "print(\"Categorical spread for EJ:\\n\", X.EJ.value_counts())\n",
    "print(\"istribution of target:\\n\", y.value_counts())\n",
    "\n",
    "#Add encoding for our only categorical col\n",
    "encoder = LabelEncoder()\n",
    "X.EJ = encoder.fit_transform(X.EJ)\n",
    "\n",
    "#Now we'll generate our prediction CSV\n",
    "X_val = test_raw\n",
    "encoder = LabelEncoder()\n",
    "X_val.EJ = encoder.fit_transform(X_val.EJ)\n",
    "\n",
    "#finally we want to convert our testdata to an xgb.Dmatrix\n",
    "val_index = X_val.index\n",
    "X_val = xgb.DMatrix(X_val)\n",
    "\n",
    "#define problem specific balanced log loss function\n",
    "def balanced_log_loss(y_true, y_pred):\n",
    "    nc = np.bincount(y_true)\n",
    "    return log_loss(y_true, y_pred, sample_weight = 1/nc[y_true], eps=1e-15)"
   ]
  },
  {
   "cell_type": "code",
   "execution_count": 6,
   "id": "1e6ba4f6",
   "metadata": {
    "execution": {
     "iopub.execute_input": "2023-07-22T20:28:21.643123Z",
     "iopub.status.busy": "2023-07-22T20:28:21.642836Z",
     "iopub.status.idle": "2023-07-22T20:28:21.650465Z",
     "shell.execute_reply": "2023-07-22T20:28:21.649449Z"
    },
    "papermill": {
     "duration": 0.017941,
     "end_time": "2023-07-22T20:28:21.652635",
     "exception": false,
     "start_time": "2023-07-22T20:28:21.634694",
     "status": "completed"
    },
    "tags": []
   },
   "outputs": [
    {
     "data": {
      "text/plain": [
       "'\\n%%time\\n\\n#HYPERPARAM TUNING, make sure to turn it off before submission!!!\\nfrom xgboost import XGBClassifier\\n\\n# Define our classifier\\nclf = XGBClassifier(\\n    learning_rate=0.005,\\n    objective=\\'multi:softprob\\',\\n    num_class=2,\\n    eval_metric=\\'auc\\',\\n    tree_method=\\'gpu_hist\\',\\n    predictor=\\'gpu_predictor\\',\\n    gpu_id=0,\\n    max_bin=623,\\n    max_depth=3,\\n    gamma=2,\\n    reg_lambda=5,\\n    colsample_bytree=0.75,\\n    subsample=0.85,\\n    min_child_weight=5,\\n    n_jobs=-1  # Use all CPU cores\\n)\\n\\n# Create a scorer\\nbalanced_log_loss_scorer = make_scorer(balanced_log_loss, greater_is_better=False, needs_proba=True)\\n\\n# Define our parameter grid\\nparam_grid = {\\n    \\'max_depth\\': [1, 2, 3, 5, 7, 9],  # Increase max_depth for higher complexity\\n    \\'gamma\\': [0.5, 1, 2],  # Vary the minimum loss reduction to create a new split\\n    \\'reg_lambda\\': [1, 5, 10],  # Vary the L2 regularization term\\n    \\'subsample\\': [0.6, 0.8, 1.0],  # Vary the fraction of observations to subsample\\n    \\'colsample_bytree\\': [0.6, 0.8, 1.0]  # Vary the fraction of columns to sample\\n}\\n\\n# Initialize GridSearchCV\\ngrid_clf = GridSearchCV(clf, param_grid, cv=4, scoring=balanced_log_loss_scorer)\\n\\n# Fit GridSearchCV\\ngrid_clf.fit(X, y)\\n\\n# Get the best parameters\\nbest_parameters = grid_clf.best_params_\\n\\nprint(f\"Best parameters: {best_parameters}\")\\n'"
      ]
     },
     "execution_count": 6,
     "metadata": {},
     "output_type": "execute_result"
    }
   ],
   "source": [
    "'''\n",
    "%%time\n",
    "\n",
    "#HYPERPARAM TUNING, make sure to turn it off before submission!!!\n",
    "from xgboost import XGBClassifier\n",
    "\n",
    "# Define our classifier\n",
    "clf = XGBClassifier(\n",
    "    learning_rate=0.005,\n",
    "    objective='multi:softprob',\n",
    "    num_class=2,\n",
    "    eval_metric='auc',\n",
    "    tree_method='gpu_hist',\n",
    "    predictor='gpu_predictor',\n",
    "    gpu_id=0,\n",
    "    max_bin=623,\n",
    "    max_depth=3,\n",
    "    gamma=2,\n",
    "    reg_lambda=5,\n",
    "    colsample_bytree=0.75,\n",
    "    subsample=0.85,\n",
    "    min_child_weight=5,\n",
    "    n_jobs=-1  # Use all CPU cores\n",
    ")\n",
    "\n",
    "# Create a scorer\n",
    "balanced_log_loss_scorer = make_scorer(balanced_log_loss, greater_is_better=False, needs_proba=True)\n",
    "\n",
    "# Define our parameter grid\n",
    "param_grid = {\n",
    "    'max_depth': [1, 2, 3, 5, 7, 9],  # Increase max_depth for higher complexity\n",
    "    'gamma': [0.5, 1, 2],  # Vary the minimum loss reduction to create a new split\n",
    "    'reg_lambda': [1, 5, 10],  # Vary the L2 regularization term\n",
    "    'subsample': [0.6, 0.8, 1.0],  # Vary the fraction of observations to subsample\n",
    "    'colsample_bytree': [0.6, 0.8, 1.0]  # Vary the fraction of columns to sample\n",
    "}\n",
    "\n",
    "# Initialize GridSearchCV\n",
    "grid_clf = GridSearchCV(clf, param_grid, cv=4, scoring=balanced_log_loss_scorer)\n",
    "\n",
    "# Fit GridSearchCV\n",
    "grid_clf.fit(X, y)\n",
    "\n",
    "# Get the best parameters\n",
    "best_parameters = grid_clf.best_params_\n",
    "\n",
    "print(f\"Best parameters: {best_parameters}\")\n",
    "'''\n"
   ]
  },
  {
   "cell_type": "code",
   "execution_count": 7,
   "id": "c878d550",
   "metadata": {
    "execution": {
     "iopub.execute_input": "2023-07-22T20:28:21.669586Z",
     "iopub.status.busy": "2023-07-22T20:28:21.668088Z",
     "iopub.status.idle": "2023-07-22T20:28:21.675626Z",
     "shell.execute_reply": "2023-07-22T20:28:21.675008Z"
    },
    "papermill": {
     "duration": 0.017666,
     "end_time": "2023-07-22T20:28:21.677685",
     "exception": false,
     "start_time": "2023-07-22T20:28:21.660019",
     "status": "completed"
    },
    "tags": []
   },
   "outputs": [],
   "source": [
    "#setting our tuned values up to use without the sklearn API for later\n",
    "best_parameters = {'colsample_bytree': 1.0, 'gamma': 0.5, 'max_depth': 7, 'reg_lambda': 1, 'subsample': 1.0}\n",
    "\n",
    "\"\"\"\n",
    "xgb_params=  {'learning_rate': 0.005,\n",
    "                'objective': 'multi:softprob',\n",
    "                'num_class': 2,\n",
    "                'eval_metric': 'auc',\n",
    "                'tree_method': 'gpu_hist',\n",
    "                'predictor': 'gpu_predictor',\n",
    "                'gpu_id': 0,\n",
    "                'max_bin': 623,\n",
    "                'max_depth': best_parameters['max_depth'],\n",
    "                'gamma': best_parameters['gamma'],\n",
    "                'reg_lambda': best_parameters['reg_lambda'],\n",
    "                'colsample_bytree': best_parameters['colsample_bytree'],\n",
    "                'subsample': best_parameters['subsample'],\n",
    "                'min_child_weight': 5,\n",
    "             }\n",
    "\"\"\"\n",
    "xgb_params= {'learning_rate': 0.2,\n",
    "                'max_depth': 2,\n",
    "                'tree_method': 'gpu_hist',\n",
    "                'predictor': 'gpu_predictor',\n",
    "                'gpu_id': 0,\n",
    "                'objective': 'multi:softprob',\n",
    "                'num_class': 2,\n",
    "            }"
   ]
  },
  {
   "cell_type": "code",
   "execution_count": 8,
   "id": "fd94df3d",
   "metadata": {
    "execution": {
     "iopub.execute_input": "2023-07-22T20:28:21.693497Z",
     "iopub.status.busy": "2023-07-22T20:28:21.693212Z",
     "iopub.status.idle": "2023-07-22T20:28:22.730504Z",
     "shell.execute_reply": "2023-07-22T20:28:22.729552Z"
    },
    "papermill": {
     "duration": 1.047766,
     "end_time": "2023-07-22T20:28:22.732798",
     "exception": false,
     "start_time": "2023-07-22T20:28:21.685032",
     "status": "completed"
    },
    "tags": []
   },
   "outputs": [
    {
     "name": "stderr",
     "output_type": "stream",
     "text": [
      "3it [00:00,  4.08it/s]"
     ]
    },
    {
     "name": "stdout",
     "output_type": "stream",
     "text": [
      "0.40432507148082997\n",
      "0.4019472994843926\n",
      "0.42602395595337306\n",
      "0.4137906189371801\n"
     ]
    },
    {
     "name": "stderr",
     "output_type": "stream",
     "text": [
      "5it [00:01,  4.94it/s]"
     ]
    },
    {
     "name": "stdout",
     "output_type": "stream",
     "text": [
      "0.32762605973725883\n",
      "0.3961704818007706\n",
      "Median best iteration: 9\n",
      "CPU times: user 689 ms, sys: 277 ms, total: 965 ms\n",
      "Wall time: 1.02 s\n"
     ]
    },
    {
     "name": "stderr",
     "output_type": "stream",
     "text": [
      "\n"
     ]
    }
   ],
   "source": [
    "%%time\n",
    "\n",
    "train_oof = np.zeros((X[X.columns].shape[0],))\n",
    "test_preds = 0\n",
    "train_oof_shap = np.zeros((X[X.columns].shape[0], X[X.columns].shape[1]+1))\n",
    "test_preds_shap = 0\n",
    "train_oof_shap.shape\n",
    "weights = np.zeros(len(y))\n",
    "\n",
    "NUM_FOLDS = 5\n",
    "early_stopping_rounds = 30\n",
    "kf = KFold(n_splits=NUM_FOLDS, shuffle=True, random_state=0)\n",
    "\n",
    "# List to store the best iteration of each fold\n",
    "best_iterations = []\n",
    "\n",
    "for f, (train_ind, val_ind) in tqdm(enumerate(kf.split(X, y))):\n",
    "        #print(f'Fold {f}')\n",
    "        train_df, val_df = X.iloc[train_ind][X.columns], X.iloc[val_ind][X.columns]\n",
    "        train_target, val_target = y[train_ind], y[val_ind]\n",
    "        \n",
    "        weights = np.zeros(len(train_target))\n",
    "\n",
    "        # 0 is the majority class in this case by a fair ammount\n",
    "        weights[train_target == 0] = 1\n",
    "        weights[train_target == 1] = sum(train_target == 0) / sum(train_target == 1)\n",
    "        \n",
    "        train_df = xgb.DMatrix(train_df, label=train_target, weight=weights)\n",
    "        val_df = xgb.DMatrix(val_df, label=val_target)\n",
    "        \n",
    "        # The watchlist is used for early stopping\n",
    "        watchlist = [(train_df, 'train'), (val_df, 'eval')]\n",
    "\n",
    "        model = xgb.train(xgb_params, train_df, evals=watchlist, \n",
    "                          early_stopping_rounds=early_stopping_rounds, verbose_eval=False)\n",
    "        \n",
    "        # Append the best iteration of this fold to the list\n",
    "        best_iterations.append(model.best_iteration)\n",
    "        \n",
    "        temp_oof = model.predict(val_df, iteration_range=(0, model.best_iteration + 1))[:,1]\n",
    "        temp_oof_shap = model.predict(val_df, iteration_range=(0, model.best_iteration + 1), pred_contribs=True)[:,1]\n",
    "        temp_test = model.predict(X_val, iteration_range=(0, model.best_iteration + 1))[:,1]\n",
    "        temp_test_shap = model.predict(X_val, iteration_range=(0, model.best_iteration + 1), pred_contribs=True)[:,1]\n",
    "\n",
    "        train_oof[val_ind] = temp_oof\n",
    "        test_preds += temp_test/NUM_FOLDS\n",
    "        \n",
    "        train_oof_shap[val_ind, :] = temp_oof_shap\n",
    "        test_preds_shap += temp_test_shap/NUM_FOLDS\n",
    "        \n",
    "        \n",
    "        print(balanced_log_loss(val_target, temp_oof))\n",
    "        \n",
    "print(balanced_log_loss(y, train_oof))\n",
    "\n",
    "median_best_iteration = round(np.median(best_iterations))\n",
    "print(f\"Median best iteration: {median_best_iteration}\")"
   ]
  },
  {
   "cell_type": "code",
   "execution_count": 9,
   "id": "39542dc2",
   "metadata": {
    "execution": {
     "iopub.execute_input": "2023-07-22T20:28:22.750574Z",
     "iopub.status.busy": "2023-07-22T20:28:22.749838Z",
     "iopub.status.idle": "2023-07-22T20:28:22.783608Z",
     "shell.execute_reply": "2023-07-22T20:28:22.782870Z"
    },
    "papermill": {
     "duration": 0.044976,
     "end_time": "2023-07-22T20:28:22.785816",
     "exception": false,
     "start_time": "2023-07-22T20:28:22.740840",
     "status": "completed"
    },
    "tags": []
   },
   "outputs": [],
   "source": [
    "#now that we have assessed the model we want to train it on all of our availible data:\n",
    "weights = np.zeros(len(y))\n",
    "\n",
    "# 0 is the majority class in this case by a fair ammount\n",
    "weights[y == 0] = 1\n",
    "weights[y == 1] = sum(y == 0) / sum(y == 1)\n",
    "\n",
    "full_train_df = xgb.DMatrix(X, label=y, weight=weights)\n",
    "final_model = xgb.train(xgb_params, full_train_df, num_boost_round=median_best_iteration)"
   ]
  },
  {
   "cell_type": "code",
   "execution_count": 10,
   "id": "2bbeb70b",
   "metadata": {
    "execution": {
     "iopub.execute_input": "2023-07-22T20:28:22.804464Z",
     "iopub.status.busy": "2023-07-22T20:28:22.804159Z",
     "iopub.status.idle": "2023-07-22T20:28:22.812360Z",
     "shell.execute_reply": "2023-07-22T20:28:22.811513Z"
    },
    "papermill": {
     "duration": 0.019359,
     "end_time": "2023-07-22T20:28:22.814462",
     "exception": false,
     "start_time": "2023-07-22T20:28:22.795103",
     "status": "completed"
    },
    "tags": []
   },
   "outputs": [],
   "source": [
    "y_preds = model.predict(X_val, output_margin=False)\n",
    "#probs = np.exp(y_preds) / np.sum(np.exp(y_preds), axis=1, keepdims=True)\n",
    "\n",
    "submission = pd.DataFrame()\n",
    "submission[\"Id\"] = val_index\n",
    "\n",
    "submission[\"class_0\"] = y_preds[:,0]\n",
    "submission[\"class_1\"] = y_preds[:,1]\n"
   ]
  },
  {
   "cell_type": "code",
   "execution_count": 11,
   "id": "a1085b44",
   "metadata": {
    "execution": {
     "iopub.execute_input": "2023-07-22T20:28:22.832125Z",
     "iopub.status.busy": "2023-07-22T20:28:22.831858Z",
     "iopub.status.idle": "2023-07-22T20:28:22.840687Z",
     "shell.execute_reply": "2023-07-22T20:28:22.839815Z"
    },
    "papermill": {
     "duration": 0.020209,
     "end_time": "2023-07-22T20:28:22.842557",
     "exception": false,
     "start_time": "2023-07-22T20:28:22.822348",
     "status": "completed"
    },
    "tags": []
   },
   "outputs": [
    {
     "data": {
      "text/html": [
       "<div>\n",
       "<style scoped>\n",
       "    .dataframe tbody tr th:only-of-type {\n",
       "        vertical-align: middle;\n",
       "    }\n",
       "\n",
       "    .dataframe tbody tr th {\n",
       "        vertical-align: top;\n",
       "    }\n",
       "\n",
       "    .dataframe thead th {\n",
       "        text-align: right;\n",
       "    }\n",
       "</style>\n",
       "<table border=\"1\" class=\"dataframe\">\n",
       "  <thead>\n",
       "    <tr style=\"text-align: right;\">\n",
       "      <th></th>\n",
       "      <th>Id</th>\n",
       "      <th>class_0</th>\n",
       "      <th>class_1</th>\n",
       "    </tr>\n",
       "  </thead>\n",
       "  <tbody>\n",
       "    <tr>\n",
       "      <th>0</th>\n",
       "      <td>00eed32682bb</td>\n",
       "      <td>0.564627</td>\n",
       "      <td>0.435373</td>\n",
       "    </tr>\n",
       "    <tr>\n",
       "      <th>1</th>\n",
       "      <td>010ebe33f668</td>\n",
       "      <td>0.564627</td>\n",
       "      <td>0.435373</td>\n",
       "    </tr>\n",
       "    <tr>\n",
       "      <th>2</th>\n",
       "      <td>02fa521e1838</td>\n",
       "      <td>0.564627</td>\n",
       "      <td>0.435373</td>\n",
       "    </tr>\n",
       "    <tr>\n",
       "      <th>3</th>\n",
       "      <td>040e15f562a2</td>\n",
       "      <td>0.564627</td>\n",
       "      <td>0.435373</td>\n",
       "    </tr>\n",
       "    <tr>\n",
       "      <th>4</th>\n",
       "      <td>046e85c7cc7f</td>\n",
       "      <td>0.564627</td>\n",
       "      <td>0.435373</td>\n",
       "    </tr>\n",
       "  </tbody>\n",
       "</table>\n",
       "</div>"
      ],
      "text/plain": [
       "             Id   class_0   class_1\n",
       "0  00eed32682bb  0.564627  0.435373\n",
       "1  010ebe33f668  0.564627  0.435373\n",
       "2  02fa521e1838  0.564627  0.435373\n",
       "3  040e15f562a2  0.564627  0.435373\n",
       "4  046e85c7cc7f  0.564627  0.435373"
      ]
     },
     "execution_count": 11,
     "metadata": {},
     "output_type": "execute_result"
    }
   ],
   "source": [
    "submission.head()"
   ]
  },
  {
   "cell_type": "code",
   "execution_count": 12,
   "id": "f1048ea1",
   "metadata": {
    "execution": {
     "iopub.execute_input": "2023-07-22T20:28:22.860813Z",
     "iopub.status.busy": "2023-07-22T20:28:22.859978Z",
     "iopub.status.idle": "2023-07-22T20:28:22.866954Z",
     "shell.execute_reply": "2023-07-22T20:28:22.866091Z"
    },
    "papermill": {
     "duration": 0.01804,
     "end_time": "2023-07-22T20:28:22.868941",
     "exception": false,
     "start_time": "2023-07-22T20:28:22.850901",
     "status": "completed"
    },
    "tags": []
   },
   "outputs": [],
   "source": [
    "submission.to_csv(\"submission.csv\",header=True,index=False)"
   ]
  },
  {
   "cell_type": "markdown",
   "id": "3d11d43d",
   "metadata": {
    "papermill": {
     "duration": 0.008009,
     "end_time": "2023-07-22T20:28:22.885384",
     "exception": false,
     "start_time": "2023-07-22T20:28:22.877375",
     "status": "completed"
    },
    "tags": []
   },
   "source": [
    "`\n",
    "%%time\n",
    "#simple testing ~\n",
    "pipeline = Pipeline([\n",
    "    ('xgb', XGBClassifier(eval_metric='aucpr', scale_pos_weight = ratio))\n",
    "])\n",
    "\n",
    "# Specify the hyperparameters and their values\n",
    "param_grid = {\n",
    "    'xgb__n_estimators': [50, 100, 150],\n",
    "    'xgb__max_depth': [2, 4, 6],\n",
    "    'xgb__learning_rate': [0.01, 0.1, 0.2]\n",
    "}\n",
    "\n",
    "# Create a KFold object\n",
    "kf = KFold(n_splits=5, random_state=42, shuffle=True)\n",
    "\n",
    "# Create a GridSearchCV object\n",
    "grid_search = GridSearchCV(pipeline, param_grid, cv=kf, scoring='roc_auc')\n",
    "\n",
    "# Fit the GridSearchCV object to the data\n",
    "grid_search.fit(X, y)\n",
    "\n",
    "print(f\"Best parameters: {grid_search.best_params_}\")\n",
    "print(f\"Best score: {grid_search.best_score_:.2f}\")\n",
    "`"
   ]
  },
  {
   "cell_type": "code",
   "execution_count": 13,
   "id": "04f12c29",
   "metadata": {
    "execution": {
     "iopub.execute_input": "2023-07-22T20:28:22.903129Z",
     "iopub.status.busy": "2023-07-22T20:28:22.902237Z",
     "iopub.status.idle": "2023-07-22T20:28:22.908139Z",
     "shell.execute_reply": "2023-07-22T20:28:22.907298Z"
    },
    "papermill": {
     "duration": 0.016768,
     "end_time": "2023-07-22T20:28:22.910118",
     "exception": false,
     "start_time": "2023-07-22T20:28:22.893350",
     "status": "completed"
    },
    "tags": []
   },
   "outputs": [],
   "source": [
    "np.save('train_oof', train_oof)\n",
    "np.save('test_preds', test_preds)\n",
    "np.save('train_oof_shap', train_oof_shap)\n",
    "np.save('test_preds_shap', test_preds_shap)"
   ]
  },
  {
   "cell_type": "code",
   "execution_count": 14,
   "id": "9c3c29dc",
   "metadata": {
    "execution": {
     "iopub.execute_input": "2023-07-22T20:28:22.927856Z",
     "iopub.status.busy": "2023-07-22T20:28:22.927117Z",
     "iopub.status.idle": "2023-07-22T20:28:27.938715Z",
     "shell.execute_reply": "2023-07-22T20:28:27.937721Z"
    },
    "papermill": {
     "duration": 5.022982,
     "end_time": "2023-07-22T20:28:27.941067",
     "exception": false,
     "start_time": "2023-07-22T20:28:22.918085",
     "status": "completed"
    },
    "tags": []
   },
   "outputs": [],
   "source": [
    "%matplotlib inline\n",
    "import cudf, cuml\n",
    "import cupy as cp\n",
    "\n",
    "from cuml.manifold import TSNE, UMAP\n",
    "import matplotlib.pyplot as plt\n",
    "from matplotlib.pyplot import ylim, xlim"
   ]
  },
  {
   "cell_type": "code",
   "execution_count": 15,
   "id": "ed1052cb",
   "metadata": {
    "execution": {
     "iopub.execute_input": "2023-07-22T20:28:27.959265Z",
     "iopub.status.busy": "2023-07-22T20:28:27.958583Z",
     "iopub.status.idle": "2023-07-22T20:28:33.205361Z",
     "shell.execute_reply": "2023-07-22T20:28:33.204448Z"
    },
    "papermill": {
     "duration": 5.258008,
     "end_time": "2023-07-22T20:28:33.207510",
     "exception": false,
     "start_time": "2023-07-22T20:28:27.949502",
     "status": "completed"
    },
    "tags": []
   },
   "outputs": [
    {
     "data": {
      "text/html": [
       "<div>\n",
       "<style scoped>\n",
       "    .dataframe tbody tr th:only-of-type {\n",
       "        vertical-align: middle;\n",
       "    }\n",
       "\n",
       "    .dataframe tbody tr th {\n",
       "        vertical-align: top;\n",
       "    }\n",
       "\n",
       "    .dataframe thead th {\n",
       "        text-align: right;\n",
       "    }\n",
       "</style>\n",
       "<table border=\"1\" class=\"dataframe\">\n",
       "  <thead>\n",
       "    <tr style=\"text-align: right;\">\n",
       "      <th></th>\n",
       "      <th>Id</th>\n",
       "      <th>AB</th>\n",
       "      <th>AF</th>\n",
       "      <th>AH</th>\n",
       "      <th>AM</th>\n",
       "      <th>AR</th>\n",
       "      <th>AX</th>\n",
       "      <th>AY</th>\n",
       "      <th>AZ</th>\n",
       "      <th>BC</th>\n",
       "      <th>...</th>\n",
       "      <th>FL</th>\n",
       "      <th>FR</th>\n",
       "      <th>FS</th>\n",
       "      <th>GB</th>\n",
       "      <th>GE</th>\n",
       "      <th>GF</th>\n",
       "      <th>GH</th>\n",
       "      <th>GI</th>\n",
       "      <th>GL</th>\n",
       "      <th>Class</th>\n",
       "    </tr>\n",
       "  </thead>\n",
       "  <tbody>\n",
       "    <tr>\n",
       "      <th>0</th>\n",
       "      <td>000ff2bfdfe9</td>\n",
       "      <td>0.209377</td>\n",
       "      <td>3109.03329</td>\n",
       "      <td>85.200147</td>\n",
       "      <td>22.394407</td>\n",
       "      <td>8.138688</td>\n",
       "      <td>0.699861</td>\n",
       "      <td>0.025578</td>\n",
       "      <td>9.812214</td>\n",
       "      <td>5.555634</td>\n",
       "      <td>...</td>\n",
       "      <td>7.298162</td>\n",
       "      <td>1.73855</td>\n",
       "      <td>0.094822</td>\n",
       "      <td>11.339138</td>\n",
       "      <td>72.611063</td>\n",
       "      <td>2003.810319</td>\n",
       "      <td>22.136229</td>\n",
       "      <td>69.834944</td>\n",
       "      <td>0.120343</td>\n",
       "      <td>1</td>\n",
       "    </tr>\n",
       "    <tr>\n",
       "      <th>1</th>\n",
       "      <td>007255e47698</td>\n",
       "      <td>0.145282</td>\n",
       "      <td>978.76416</td>\n",
       "      <td>85.200147</td>\n",
       "      <td>36.968889</td>\n",
       "      <td>8.138688</td>\n",
       "      <td>3.632190</td>\n",
       "      <td>0.025578</td>\n",
       "      <td>13.517790</td>\n",
       "      <td>1.229900</td>\n",
       "      <td>...</td>\n",
       "      <td>0.173229</td>\n",
       "      <td>0.49706</td>\n",
       "      <td>0.568932</td>\n",
       "      <td>9.292698</td>\n",
       "      <td>72.611063</td>\n",
       "      <td>27981.562750</td>\n",
       "      <td>29.135430</td>\n",
       "      <td>32.131996</td>\n",
       "      <td>21.978000</td>\n",
       "      <td>0</td>\n",
       "    </tr>\n",
       "    <tr>\n",
       "      <th>2</th>\n",
       "      <td>013f2bd269f5</td>\n",
       "      <td>0.470030</td>\n",
       "      <td>2635.10654</td>\n",
       "      <td>85.200147</td>\n",
       "      <td>32.360553</td>\n",
       "      <td>8.138688</td>\n",
       "      <td>6.732840</td>\n",
       "      <td>0.025578</td>\n",
       "      <td>12.824570</td>\n",
       "      <td>1.229900</td>\n",
       "      <td>...</td>\n",
       "      <td>7.709560</td>\n",
       "      <td>0.97556</td>\n",
       "      <td>1.198821</td>\n",
       "      <td>37.077772</td>\n",
       "      <td>88.609437</td>\n",
       "      <td>13676.957810</td>\n",
       "      <td>28.022851</td>\n",
       "      <td>35.192676</td>\n",
       "      <td>0.196941</td>\n",
       "      <td>0</td>\n",
       "    </tr>\n",
       "    <tr>\n",
       "      <th>3</th>\n",
       "      <td>043ac50845d5</td>\n",
       "      <td>0.252107</td>\n",
       "      <td>3819.65177</td>\n",
       "      <td>120.201618</td>\n",
       "      <td>77.112203</td>\n",
       "      <td>8.138688</td>\n",
       "      <td>3.685344</td>\n",
       "      <td>0.025578</td>\n",
       "      <td>11.053708</td>\n",
       "      <td>1.229900</td>\n",
       "      <td>...</td>\n",
       "      <td>6.122162</td>\n",
       "      <td>0.49706</td>\n",
       "      <td>0.284466</td>\n",
       "      <td>18.529584</td>\n",
       "      <td>82.416803</td>\n",
       "      <td>2094.262452</td>\n",
       "      <td>39.948656</td>\n",
       "      <td>90.493248</td>\n",
       "      <td>0.155829</td>\n",
       "      <td>0</td>\n",
       "    </tr>\n",
       "    <tr>\n",
       "      <th>4</th>\n",
       "      <td>044fb8a146ec</td>\n",
       "      <td>0.380297</td>\n",
       "      <td>3733.04844</td>\n",
       "      <td>85.200147</td>\n",
       "      <td>14.103738</td>\n",
       "      <td>8.138688</td>\n",
       "      <td>3.942255</td>\n",
       "      <td>0.054810</td>\n",
       "      <td>3.396778</td>\n",
       "      <td>102.151980</td>\n",
       "      <td>...</td>\n",
       "      <td>8.153058</td>\n",
       "      <td>48.50134</td>\n",
       "      <td>0.121914</td>\n",
       "      <td>16.408728</td>\n",
       "      <td>146.109943</td>\n",
       "      <td>8524.370502</td>\n",
       "      <td>45.381316</td>\n",
       "      <td>36.262628</td>\n",
       "      <td>0.096614</td>\n",
       "      <td>1</td>\n",
       "    </tr>\n",
       "  </tbody>\n",
       "</table>\n",
       "<p>5 rows × 58 columns</p>\n",
       "</div>"
      ],
      "text/plain": [
       "             Id        AB          AF          AH         AM        AR  \\\n",
       "0  000ff2bfdfe9  0.209377  3109.03329   85.200147  22.394407  8.138688   \n",
       "1  007255e47698  0.145282   978.76416   85.200147  36.968889  8.138688   \n",
       "2  013f2bd269f5  0.470030  2635.10654   85.200147  32.360553  8.138688   \n",
       "3  043ac50845d5  0.252107  3819.65177  120.201618  77.112203  8.138688   \n",
       "4  044fb8a146ec  0.380297  3733.04844   85.200147  14.103738  8.138688   \n",
       "\n",
       "         AX        AY         AZ          BC  ...        FL        FR  \\\n",
       "0  0.699861  0.025578   9.812214    5.555634  ...  7.298162   1.73855   \n",
       "1  3.632190  0.025578  13.517790    1.229900  ...  0.173229   0.49706   \n",
       "2  6.732840  0.025578  12.824570    1.229900  ...  7.709560   0.97556   \n",
       "3  3.685344  0.025578  11.053708    1.229900  ...  6.122162   0.49706   \n",
       "4  3.942255  0.054810   3.396778  102.151980  ...  8.153058  48.50134   \n",
       "\n",
       "         FS         GB          GE            GF         GH         GI  \\\n",
       "0  0.094822  11.339138   72.611063   2003.810319  22.136229  69.834944   \n",
       "1  0.568932   9.292698   72.611063  27981.562750  29.135430  32.131996   \n",
       "2  1.198821  37.077772   88.609437  13676.957810  28.022851  35.192676   \n",
       "3  0.284466  18.529584   82.416803   2094.262452  39.948656  90.493248   \n",
       "4  0.121914  16.408728  146.109943   8524.370502  45.381316  36.262628   \n",
       "\n",
       "          GL  Class  \n",
       "0   0.120343      1  \n",
       "1  21.978000      0  \n",
       "2   0.196941      0  \n",
       "3   0.155829      0  \n",
       "4   0.096614      1  \n",
       "\n",
       "[5 rows x 58 columns]"
      ]
     },
     "execution_count": 15,
     "metadata": {},
     "output_type": "execute_result"
    }
   ],
   "source": [
    "train_df = cudf.read_csv('/kaggle/input/icr-identify-age-related-conditions/train.csv')\n",
    "train_df.head()"
   ]
  },
  {
   "cell_type": "code",
   "execution_count": 16,
   "id": "f3a4bef9",
   "metadata": {
    "execution": {
     "iopub.execute_input": "2023-07-22T20:28:33.227178Z",
     "iopub.status.busy": "2023-07-22T20:28:33.226881Z",
     "iopub.status.idle": "2023-07-22T20:28:33.235387Z",
     "shell.execute_reply": "2023-07-22T20:28:33.234515Z"
    },
    "papermill": {
     "duration": 0.02044,
     "end_time": "2023-07-22T20:28:33.237444",
     "exception": false,
     "start_time": "2023-07-22T20:28:33.217004",
     "status": "completed"
    },
    "tags": []
   },
   "outputs": [],
   "source": [
    "train = cp.load('/kaggle/working/train_oof_shap.npy')\n",
    "test = cp.load('/kaggle/working/test_preds_shap.npy')"
   ]
  },
  {
   "cell_type": "code",
   "execution_count": 17,
   "id": "71febf09",
   "metadata": {
    "execution": {
     "iopub.execute_input": "2023-07-22T20:28:33.255984Z",
     "iopub.status.busy": "2023-07-22T20:28:33.255698Z",
     "iopub.status.idle": "2023-07-22T20:28:34.078497Z",
     "shell.execute_reply": "2023-07-22T20:28:34.077583Z"
    },
    "papermill": {
     "duration": 0.834453,
     "end_time": "2023-07-22T20:28:34.080632",
     "exception": false,
     "start_time": "2023-07-22T20:28:33.246179",
     "status": "completed"
    },
    "tags": []
   },
   "outputs": [
    {
     "data": {
      "text/plain": [
       "(622, 57)"
      ]
     },
     "execution_count": 17,
     "metadata": {},
     "output_type": "execute_result"
    }
   ],
   "source": [
    "train_test = cp.vstack([train, test])\n",
    "train_test.shape"
   ]
  },
  {
   "cell_type": "code",
   "execution_count": 18,
   "id": "70d66ee5",
   "metadata": {
    "execution": {
     "iopub.execute_input": "2023-07-22T20:28:34.101559Z",
     "iopub.status.busy": "2023-07-22T20:28:34.099819Z",
     "iopub.status.idle": "2023-07-22T20:28:47.062325Z",
     "shell.execute_reply": "2023-07-22T20:28:47.061156Z"
    },
    "papermill": {
     "duration": 12.974696,
     "end_time": "2023-07-22T20:28:47.064560",
     "exception": false,
     "start_time": "2023-07-22T20:28:34.089864",
     "status": "completed"
    },
    "tags": []
   },
   "outputs": [
    {
     "name": "stderr",
     "output_type": "stream",
     "text": [
      "/opt/conda/lib/python3.10/site-packages/cuml/internals/api_decorators.py:344: UserWarning: Starting from version 22.04, the default method of TSNE is 'fft'.\n",
      "  return func(**kwargs)\n"
     ]
    },
    {
     "name": "stdout",
     "output_type": "stream",
     "text": [
      "CPU times: user 11.5 s, sys: 337 ms, total: 11.9 s\n",
      "Wall time: 13 s\n"
     ]
    }
   ],
   "source": [
    "%%time\n",
    "tsne = TSNE(n_components=2)\n",
    "train_2D = tsne.fit_transform(train_test)"
   ]
  },
  {
   "cell_type": "code",
   "execution_count": 19,
   "id": "c005f1af",
   "metadata": {
    "execution": {
     "iopub.execute_input": "2023-07-22T20:28:47.085765Z",
     "iopub.status.busy": "2023-07-22T20:28:47.084276Z",
     "iopub.status.idle": "2023-07-22T20:28:47.431396Z",
     "shell.execute_reply": "2023-07-22T20:28:47.430432Z"
    },
    "papermill": {
     "duration": 0.359256,
     "end_time": "2023-07-22T20:28:47.433564",
     "exception": false,
     "start_time": "2023-07-22T20:28:47.074308",
     "status": "completed"
    },
    "tags": []
   },
   "outputs": [
    {
     "data": {
      "text/plain": [
       "<matplotlib.collections.PathCollection at 0x7c0ffb81e350>"
      ]
     },
     "execution_count": 19,
     "metadata": {},
     "output_type": "execute_result"
    },
    {
     "data": {
      "image/png": "[encoded data removed]",
      "text/plain": [
       "<Figure size 640x480 with 1 Axes>"
      ]
     },
     "metadata": {},
     "output_type": "display_data"
    }
   ],
   "source": [
    "plt.scatter(train_2D[:,0].get(), train_2D[:,1].get(), s = 0.8)"
   ]
  },
  {
   "cell_type": "code",
   "execution_count": 20,
   "id": "9c0eeeaf",
   "metadata": {
    "execution": {
     "iopub.execute_input": "2023-07-22T20:28:47.455675Z",
     "iopub.status.busy": "2023-07-22T20:28:47.453888Z",
     "iopub.status.idle": "2023-07-22T20:28:47.799035Z",
     "shell.execute_reply": "2023-07-22T20:28:47.797662Z"
    },
    "papermill": {
     "duration": 0.357897,
     "end_time": "2023-07-22T20:28:47.801221",
     "exception": false,
     "start_time": "2023-07-22T20:28:47.443324",
     "status": "completed"
    },
    "tags": []
   },
   "outputs": [
    {
     "name": "stdout",
     "output_type": "stream",
     "text": [
      "CPU times: user 338 ms, sys: 4.01 ms, total: 342 ms\n",
      "Wall time: 338 ms\n"
     ]
    }
   ],
   "source": [
    "%%time\n",
    "tsne = TSNE(n_components=2)\n",
    "train_2D = tsne.fit_transform(train)"
   ]
  },
  {
   "cell_type": "code",
   "execution_count": 21,
   "id": "ad3fce33",
   "metadata": {
    "execution": {
     "iopub.execute_input": "2023-07-22T20:28:47.821786Z",
     "iopub.status.busy": "2023-07-22T20:28:47.821470Z",
     "iopub.status.idle": "2023-07-22T20:28:48.092302Z",
     "shell.execute_reply": "2023-07-22T20:28:48.091407Z"
    },
    "papermill": {
     "duration": 0.283395,
     "end_time": "2023-07-22T20:28:48.094421",
     "exception": false,
     "start_time": "2023-07-22T20:28:47.811026",
     "status": "completed"
    },
    "tags": []
   },
   "outputs": [
    {
     "data": {
      "text/plain": [
       "<matplotlib.collections.PathCollection at 0x7c10cdfafee0>"
      ]
     },
     "execution_count": 21,
     "metadata": {},
     "output_type": "execute_result"
    },
    {
     "data": {
      "image/png": "[encoded data removed]",
      "text/plain": [
       "<Figure size 640x480 with 1 Axes>"
      ]
     },
     "metadata": {},
     "output_type": "display_data"
    }
   ],
   "source": [
    "plt.scatter(train_2D[:,0].get(), train_2D[:,1].get(), s = 0.8)"
   ]
  },
  {
   "cell_type": "code",
   "execution_count": 22,
   "id": "080bb8f7",
   "metadata": {
    "execution": {
     "iopub.execute_input": "2023-07-22T20:28:48.116461Z",
     "iopub.status.busy": "2023-07-22T20:28:48.115659Z",
     "iopub.status.idle": "2023-07-22T20:28:48.392127Z",
     "shell.execute_reply": "2023-07-22T20:28:48.391191Z"
    },
    "papermill": {
     "duration": 0.290007,
     "end_time": "2023-07-22T20:28:48.394521",
     "exception": false,
     "start_time": "2023-07-22T20:28:48.104514",
     "status": "completed"
    },
    "tags": []
   },
   "outputs": [
    {
     "data": {
      "text/plain": [
       "<matplotlib.collections.PathCollection at 0x7c10cb54a7d0>"
      ]
     },
     "execution_count": 22,
     "metadata": {},
     "output_type": "execute_result"
    },
    {
     "data": {
      "image/png": "[encoded data removed]",
      "text/plain": [
       "<Figure size 640x480 with 1 Axes>"
      ]
     },
     "metadata": {},
     "output_type": "display_data"
    }
   ],
   "source": [
    "plt.scatter(train_2D[:,0].get(), train_2D[:,1].get(), c=train_df['Class'].values.get(), s = 0.8)"
   ]
  },
  {
   "cell_type": "code",
   "execution_count": 23,
   "id": "898bd990",
   "metadata": {
    "execution": {
     "iopub.execute_input": "2023-07-22T20:28:48.418514Z",
     "iopub.status.busy": "2023-07-22T20:28:48.417555Z",
     "iopub.status.idle": "2023-07-22T20:28:49.979568Z",
     "shell.execute_reply": "2023-07-22T20:28:49.977562Z"
    },
    "papermill": {
     "duration": 1.576036,
     "end_time": "2023-07-22T20:28:49.981657",
     "exception": false,
     "start_time": "2023-07-22T20:28:48.405621",
     "status": "completed"
    },
    "tags": []
   },
   "outputs": [
    {
     "name": "stdout",
     "output_type": "stream",
     "text": [
      "CPU times: user 915 ms, sys: 124 ms, total: 1.04 s\n",
      "Wall time: 1.55 s\n"
     ]
    }
   ],
   "source": [
    "%%time\n",
    "umap = UMAP(n_components=2)\n",
    "train_2D = umap.fit_transform(train)"
   ]
  },
  {
   "cell_type": "code",
   "execution_count": 24,
   "id": "e1b90a39",
   "metadata": {
    "execution": {
     "iopub.execute_input": "2023-07-22T20:28:50.006375Z",
     "iopub.status.busy": "2023-07-22T20:28:50.004679Z",
     "iopub.status.idle": "2023-07-22T20:28:50.530562Z",
     "shell.execute_reply": "2023-07-22T20:28:50.529531Z"
    },
    "papermill": {
     "duration": 0.539996,
     "end_time": "2023-07-22T20:28:50.532766",
     "exception": false,
     "start_time": "2023-07-22T20:28:49.992770",
     "status": "completed"
    },
    "tags": []
   },
   "outputs": [
    {
     "data": {
      "text/plain": [
       "<matplotlib.collections.PathCollection at 0x7c10cb5e0880>"
      ]
     },
     "execution_count": 24,
     "metadata": {},
     "output_type": "execute_result"
    },
    {
     "data": {
      "image/png": "[encoded data removed]",
      "text/plain": [
       "<Figure size 640x480 with 1 Axes>"
      ]
     },
     "metadata": {},
     "output_type": "display_data"
    }
   ],
   "source": [
    "plt.scatter(train_2D[:,0].get(), train_2D[:,1].get(), c=train_df['Class'].values.get(), s = 0.8)"
   ]
  }
 ],
 "metadata": {
  "kernelspec": {
   "display_name": "Python 3",
   "language": "python",
   "name": "python3"
  },
  "language_info": {
   "codemirror_mode": {
    "name": "ipython",
    "version": 3
   },
   "file_extension": ".py",
   "mimetype": "text/x-python",
   "name": "python",
   "nbconvert_exporter": "python",
   "pygments_lexer": "ipython3",
   "version": "3.10.10"
  },
  "papermill": {
   "default_parameters": {},
   "duration": 43.738219,
   "end_time": "2023-07-22T20:28:53.060469",
   "environment_variables": {},
   "exception": null,
   "input_path": "__notebook__.ipynb",
   "output_path": "__notebook__.ipynb",
   "parameters": {},
   "start_time": "2023-07-22T20:28:09.322250",
   "version": "2.4.0"
  }
 },
 "nbformat": 4,
 "nbformat_minor": 5
}
