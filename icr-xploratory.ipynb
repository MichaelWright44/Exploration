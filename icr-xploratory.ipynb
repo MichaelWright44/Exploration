{
 "cells": [
  {
   "cell_type": "code",
   "execution_count": 1,
   "id": "8b792403",
   "metadata": {
    "execution": {
     "iopub.execute_input": "2023-07-18T03:54:23.215101Z",
     "iopub.status.busy": "2023-07-18T03:54:23.214642Z",
     "iopub.status.idle": "2023-07-18T03:54:23.219623Z",
     "shell.execute_reply": "2023-07-18T03:54:23.218805Z"
    },
    "papermill": {
     "duration": 0.017661,
     "end_time": "2023-07-18T03:54:23.223147",
     "exception": false,
     "start_time": "2023-07-18T03:54:23.205486",
     "status": "completed"
    },
    "tags": []
   },
   "outputs": [],
   "source": [
    "#Required Installs\n",
    "#!pip install fivecentplots # will need to remove for submission"
   ]
  },
  {
   "cell_type": "code",
   "execution_count": 2,
   "id": "541dad1a",
   "metadata": {
    "execution": {
     "iopub.execute_input": "2023-07-18T03:54:23.238577Z",
     "iopub.status.busy": "2023-07-18T03:54:23.238046Z",
     "iopub.status.idle": "2023-07-18T03:54:24.844766Z",
     "shell.execute_reply": "2023-07-18T03:54:24.843851Z"
    },
    "papermill": {
     "duration": 1.616968,
     "end_time": "2023-07-18T03:54:24.847232",
     "exception": false,
     "start_time": "2023-07-18T03:54:23.230264",
     "status": "completed"
    },
    "tags": []
   },
   "outputs": [],
   "source": [
    "#Standard Imports\n",
    "import os\n",
    "\n",
    "#Third Party Imports\n",
    "from sklearn.metrics import accuracy_score, log_loss, roc_auc_score, make_scorer\n",
    "import xgboost as xgb\n",
    "#import fivecentplots as fcp #clean data vis library for easy pandas integration | will need to remove for submission\n",
    "from sklearn.preprocessing import LabelEncoder\n",
    "import numpy as np\n",
    "import pandas as pd\n",
    "from sklearn.pipeline import Pipeline\n",
    "import seaborn as sns\n",
    "from tqdm import tqdm\n",
    "from sklearn.model_selection import cross_val_score, KFold, train_test_split, GridSearchCV\n"
   ]
  },
  {
   "cell_type": "code",
   "execution_count": 3,
   "id": "d7a0c8b7",
   "metadata": {
    "execution": {
     "iopub.execute_input": "2023-07-18T03:54:24.862972Z",
     "iopub.status.busy": "2023-07-18T03:54:24.862638Z",
     "iopub.status.idle": "2023-07-18T03:54:24.930573Z",
     "shell.execute_reply": "2023-07-18T03:54:24.929721Z"
    },
    "papermill": {
     "duration": 0.078393,
     "end_time": "2023-07-18T03:54:24.932752",
     "exception": false,
     "start_time": "2023-07-18T03:54:24.854359",
     "status": "completed"
    },
    "tags": []
   },
   "outputs": [
    {
     "data": {
      "text/html": [
       "<div>\n",
       "<style scoped>\n",
       "    .dataframe tbody tr th:only-of-type {\n",
       "        vertical-align: middle;\n",
       "    }\n",
       "\n",
       "    .dataframe tbody tr th {\n",
       "        vertical-align: top;\n",
       "    }\n",
       "\n",
       "    .dataframe thead th {\n",
       "        text-align: right;\n",
       "    }\n",
       "</style>\n",
       "<table border=\"1\" class=\"dataframe\">\n",
       "  <thead>\n",
       "    <tr style=\"text-align: right;\">\n",
       "      <th></th>\n",
       "      <th>AB</th>\n",
       "      <th>AF</th>\n",
       "      <th>AH</th>\n",
       "      <th>AM</th>\n",
       "      <th>AR</th>\n",
       "      <th>AX</th>\n",
       "      <th>AY</th>\n",
       "      <th>AZ</th>\n",
       "      <th>BC</th>\n",
       "      <th>BD</th>\n",
       "      <th>...</th>\n",
       "      <th>FL</th>\n",
       "      <th>FR</th>\n",
       "      <th>FS</th>\n",
       "      <th>GB</th>\n",
       "      <th>GE</th>\n",
       "      <th>GF</th>\n",
       "      <th>GH</th>\n",
       "      <th>GI</th>\n",
       "      <th>GL</th>\n",
       "      <th>Class</th>\n",
       "    </tr>\n",
       "    <tr>\n",
       "      <th>Id</th>\n",
       "      <th></th>\n",
       "      <th></th>\n",
       "      <th></th>\n",
       "      <th></th>\n",
       "      <th></th>\n",
       "      <th></th>\n",
       "      <th></th>\n",
       "      <th></th>\n",
       "      <th></th>\n",
       "      <th></th>\n",
       "      <th></th>\n",
       "      <th></th>\n",
       "      <th></th>\n",
       "      <th></th>\n",
       "      <th></th>\n",
       "      <th></th>\n",
       "      <th></th>\n",
       "      <th></th>\n",
       "      <th></th>\n",
       "      <th></th>\n",
       "      <th></th>\n",
       "    </tr>\n",
       "  </thead>\n",
       "  <tbody>\n",
       "    <tr>\n",
       "      <th>000ff2bfdfe9</th>\n",
       "      <td>0.209377</td>\n",
       "      <td>3109.03329</td>\n",
       "      <td>85.200147</td>\n",
       "      <td>22.394407</td>\n",
       "      <td>8.138688</td>\n",
       "      <td>0.699861</td>\n",
       "      <td>0.025578</td>\n",
       "      <td>9.812214</td>\n",
       "      <td>5.555634</td>\n",
       "      <td>4126.58731</td>\n",
       "      <td>...</td>\n",
       "      <td>7.298162</td>\n",
       "      <td>1.73855</td>\n",
       "      <td>0.094822</td>\n",
       "      <td>11.339138</td>\n",
       "      <td>72.611063</td>\n",
       "      <td>2003.810319</td>\n",
       "      <td>22.136229</td>\n",
       "      <td>69.834944</td>\n",
       "      <td>0.120343</td>\n",
       "      <td>1</td>\n",
       "    </tr>\n",
       "    <tr>\n",
       "      <th>007255e47698</th>\n",
       "      <td>0.145282</td>\n",
       "      <td>978.76416</td>\n",
       "      <td>85.200147</td>\n",
       "      <td>36.968889</td>\n",
       "      <td>8.138688</td>\n",
       "      <td>3.632190</td>\n",
       "      <td>0.025578</td>\n",
       "      <td>13.517790</td>\n",
       "      <td>1.229900</td>\n",
       "      <td>5496.92824</td>\n",
       "      <td>...</td>\n",
       "      <td>0.173229</td>\n",
       "      <td>0.49706</td>\n",
       "      <td>0.568932</td>\n",
       "      <td>9.292698</td>\n",
       "      <td>72.611063</td>\n",
       "      <td>27981.562750</td>\n",
       "      <td>29.135430</td>\n",
       "      <td>32.131996</td>\n",
       "      <td>21.978000</td>\n",
       "      <td>0</td>\n",
       "    </tr>\n",
       "    <tr>\n",
       "      <th>013f2bd269f5</th>\n",
       "      <td>0.470030</td>\n",
       "      <td>2635.10654</td>\n",
       "      <td>85.200147</td>\n",
       "      <td>32.360553</td>\n",
       "      <td>8.138688</td>\n",
       "      <td>6.732840</td>\n",
       "      <td>0.025578</td>\n",
       "      <td>12.824570</td>\n",
       "      <td>1.229900</td>\n",
       "      <td>5135.78024</td>\n",
       "      <td>...</td>\n",
       "      <td>7.709560</td>\n",
       "      <td>0.97556</td>\n",
       "      <td>1.198821</td>\n",
       "      <td>37.077772</td>\n",
       "      <td>88.609437</td>\n",
       "      <td>13676.957810</td>\n",
       "      <td>28.022851</td>\n",
       "      <td>35.192676</td>\n",
       "      <td>0.196941</td>\n",
       "      <td>0</td>\n",
       "    </tr>\n",
       "    <tr>\n",
       "      <th>043ac50845d5</th>\n",
       "      <td>0.252107</td>\n",
       "      <td>3819.65177</td>\n",
       "      <td>120.201618</td>\n",
       "      <td>77.112203</td>\n",
       "      <td>8.138688</td>\n",
       "      <td>3.685344</td>\n",
       "      <td>0.025578</td>\n",
       "      <td>11.053708</td>\n",
       "      <td>1.229900</td>\n",
       "      <td>4169.67738</td>\n",
       "      <td>...</td>\n",
       "      <td>6.122162</td>\n",
       "      <td>0.49706</td>\n",
       "      <td>0.284466</td>\n",
       "      <td>18.529584</td>\n",
       "      <td>82.416803</td>\n",
       "      <td>2094.262452</td>\n",
       "      <td>39.948656</td>\n",
       "      <td>90.493248</td>\n",
       "      <td>0.155829</td>\n",
       "      <td>0</td>\n",
       "    </tr>\n",
       "    <tr>\n",
       "      <th>044fb8a146ec</th>\n",
       "      <td>0.380297</td>\n",
       "      <td>3733.04844</td>\n",
       "      <td>85.200147</td>\n",
       "      <td>14.103738</td>\n",
       "      <td>8.138688</td>\n",
       "      <td>3.942255</td>\n",
       "      <td>0.054810</td>\n",
       "      <td>3.396778</td>\n",
       "      <td>102.151980</td>\n",
       "      <td>5728.73412</td>\n",
       "      <td>...</td>\n",
       "      <td>8.153058</td>\n",
       "      <td>48.50134</td>\n",
       "      <td>0.121914</td>\n",
       "      <td>16.408728</td>\n",
       "      <td>146.109943</td>\n",
       "      <td>8524.370502</td>\n",
       "      <td>45.381316</td>\n",
       "      <td>36.262628</td>\n",
       "      <td>0.096614</td>\n",
       "      <td>1</td>\n",
       "    </tr>\n",
       "  </tbody>\n",
       "</table>\n",
       "<p>5 rows × 57 columns</p>\n",
       "</div>"
      ],
      "text/plain": [
       "                    AB          AF          AH         AM        AR        AX  \\\n",
       "Id                                                                              \n",
       "000ff2bfdfe9  0.209377  3109.03329   85.200147  22.394407  8.138688  0.699861   \n",
       "007255e47698  0.145282   978.76416   85.200147  36.968889  8.138688  3.632190   \n",
       "013f2bd269f5  0.470030  2635.10654   85.200147  32.360553  8.138688  6.732840   \n",
       "043ac50845d5  0.252107  3819.65177  120.201618  77.112203  8.138688  3.685344   \n",
       "044fb8a146ec  0.380297  3733.04844   85.200147  14.103738  8.138688  3.942255   \n",
       "\n",
       "                    AY         AZ          BC         BD   ...        FL  \\\n",
       "Id                                                         ...             \n",
       "000ff2bfdfe9  0.025578   9.812214    5.555634  4126.58731  ...  7.298162   \n",
       "007255e47698  0.025578  13.517790    1.229900  5496.92824  ...  0.173229   \n",
       "013f2bd269f5  0.025578  12.824570    1.229900  5135.78024  ...  7.709560   \n",
       "043ac50845d5  0.025578  11.053708    1.229900  4169.67738  ...  6.122162   \n",
       "044fb8a146ec  0.054810   3.396778  102.151980  5728.73412  ...  8.153058   \n",
       "\n",
       "                    FR        FS         GB          GE            GF  \\\n",
       "Id                                                                      \n",
       "000ff2bfdfe9   1.73855  0.094822  11.339138   72.611063   2003.810319   \n",
       "007255e47698   0.49706  0.568932   9.292698   72.611063  27981.562750   \n",
       "013f2bd269f5   0.97556  1.198821  37.077772   88.609437  13676.957810   \n",
       "043ac50845d5   0.49706  0.284466  18.529584   82.416803   2094.262452   \n",
       "044fb8a146ec  48.50134  0.121914  16.408728  146.109943   8524.370502   \n",
       "\n",
       "                     GH         GI         GL  Class  \n",
       "Id                                                    \n",
       "000ff2bfdfe9  22.136229  69.834944   0.120343      1  \n",
       "007255e47698  29.135430  32.131996  21.978000      0  \n",
       "013f2bd269f5  28.022851  35.192676   0.196941      0  \n",
       "043ac50845d5  39.948656  90.493248   0.155829      0  \n",
       "044fb8a146ec  45.381316  36.262628   0.096614      1  \n",
       "\n",
       "[5 rows x 57 columns]"
      ]
     },
     "execution_count": 3,
     "metadata": {},
     "output_type": "execute_result"
    }
   ],
   "source": [
    "train_raw = pd.read_csv('/kaggle/input/icr-identify-age-related-conditions/train.csv',index_col='Id')\n",
    "test_raw = pd.read_csv('/kaggle/input/icr-identify-age-related-conditions/test.csv',index_col='Id')\n",
    "\n",
    "#confirm data\n",
    "train_raw.head()"
   ]
  },
  {
   "cell_type": "code",
   "execution_count": 4,
   "id": "eb30d9b2",
   "metadata": {
    "execution": {
     "iopub.execute_input": "2023-07-18T03:54:24.949129Z",
     "iopub.status.busy": "2023-07-18T03:54:24.948827Z",
     "iopub.status.idle": "2023-07-18T03:54:24.953930Z",
     "shell.execute_reply": "2023-07-18T03:54:24.953107Z"
    },
    "papermill": {
     "duration": 0.015575,
     "end_time": "2023-07-18T03:54:24.956010",
     "exception": false,
     "start_time": "2023-07-18T03:54:24.940435",
     "status": "completed"
    },
    "tags": []
   },
   "outputs": [],
   "source": [
    "#fcp.hist(df=train_raw, x='AB', kde=True, kde_width=2)"
   ]
  },
  {
   "cell_type": "code",
   "execution_count": 5,
   "id": "ff970e35",
   "metadata": {
    "execution": {
     "iopub.execute_input": "2023-07-18T03:54:24.972613Z",
     "iopub.status.busy": "2023-07-18T03:54:24.971716Z",
     "iopub.status.idle": "2023-07-18T03:54:25.060545Z",
     "shell.execute_reply": "2023-07-18T03:54:25.059545Z"
    },
    "papermill": {
     "duration": 0.099129,
     "end_time": "2023-07-18T03:54:25.062629",
     "exception": false,
     "start_time": "2023-07-18T03:54:24.963500",
     "status": "completed"
    },
    "tags": []
   },
   "outputs": [
    {
     "name": "stdout",
     "output_type": "stream",
     "text": [
      "Categorical spread for EJ:\n",
      " B    395\n",
      "A    222\n",
      "Name: EJ, dtype: int64\n",
      "istribution of target:\n",
      " 0    509\n",
      "1    108\n",
      "Name: Class, dtype: int64\n"
     ]
    }
   ],
   "source": [
    "#Seperate out our target feature\n",
    "X = train_raw.iloc[:, :-1]\n",
    "y = train_raw.iloc[:, -1]\n",
    "\n",
    "#Now is a good time to confirm a few things about our data:\n",
    "# 1: lets check how our encoding looks and we can decide if we need a new approach\n",
    "# 2: lets check the distribution of our target feature\n",
    "\n",
    "print(\"Categorical spread for EJ:\\n\", X.EJ.value_counts())\n",
    "print(\"istribution of target:\\n\", y.value_counts())\n",
    "\n",
    "#Add encoding for our only categorical col\n",
    "encoder = LabelEncoder()\n",
    "X.EJ = encoder.fit_transform(X.EJ)\n",
    "\n",
    "#Now we'll generate our prediction CSV\n",
    "X_val = test_raw\n",
    "encoder = LabelEncoder()\n",
    "X_val.EJ = encoder.fit_transform(X_val.EJ)\n",
    "\n",
    "#finally we want to convert our testdata to an xgb.Dmatrix\n",
    "val_index = X_val.index\n",
    "X_val = xgb.DMatrix(X_val)\n",
    "\n",
    "#define problem specific balanced log loss function\n",
    "def balanced_log_loss(y_true, y_pred):\n",
    "    nc = np.bincount(y_true)\n",
    "    return log_loss(y_true, y_pred, sample_weight = 1/nc[y_true], eps=1e-15)"
   ]
  },
  {
   "cell_type": "code",
   "execution_count": 6,
   "id": "e5b246c1",
   "metadata": {
    "execution": {
     "iopub.execute_input": "2023-07-18T03:54:25.079781Z",
     "iopub.status.busy": "2023-07-18T03:54:25.079441Z",
     "iopub.status.idle": "2023-07-18T03:54:25.087202Z",
     "shell.execute_reply": "2023-07-18T03:54:25.086251Z"
    },
    "papermill": {
     "duration": 0.018216,
     "end_time": "2023-07-18T03:54:25.089181",
     "exception": false,
     "start_time": "2023-07-18T03:54:25.070965",
     "status": "completed"
    },
    "tags": []
   },
   "outputs": [
    {
     "data": {
      "text/plain": [
       "'\\n%%time\\n\\n#HYPERPARAM TUNING, make sure to turn it off before submission!!!\\nfrom xgboost import XGBClassifier\\n\\n# Define our classifier\\nclf = XGBClassifier(\\n    learning_rate=0.005,\\n    objective=\\'multi:softprob\\',\\n    num_class=2,\\n    eval_metric=\\'auc\\',\\n    tree_method=\\'gpu_hist\\',\\n    predictor=\\'gpu_predictor\\',\\n    gpu_id=0,\\n    max_bin=623,\\n    max_depth=3,\\n    gamma=2,\\n    reg_lambda=5,\\n    colsample_bytree=0.75,\\n    subsample=0.85,\\n    min_child_weight=5,\\n    n_jobs=-1  # Use all CPU cores\\n)\\n\\n# Create a scorer\\nbalanced_log_loss_scorer = make_scorer(balanced_log_loss, greater_is_better=False, needs_proba=True)\\n\\n# Define our parameter grid\\nparam_grid = {\\n    \\'max_depth\\': [1, 2, 3, 5, 7, 9],  # Increase max_depth for higher complexity\\n    \\'gamma\\': [0.5, 1, 2],  # Vary the minimum loss reduction to create a new split\\n    \\'reg_lambda\\': [1, 5, 10],  # Vary the L2 regularization term\\n    \\'subsample\\': [0.6, 0.8, 1.0],  # Vary the fraction of observations to subsample\\n    \\'colsample_bytree\\': [0.6, 0.8, 1.0]  # Vary the fraction of columns to sample\\n}\\n\\n# Initialize GridSearchCV\\ngrid_clf = GridSearchCV(clf, param_grid, cv=4, scoring=balanced_log_loss_scorer)\\n\\n# Fit GridSearchCV\\ngrid_clf.fit(X, y)\\n\\n# Get the best parameters\\nbest_parameters = grid_clf.best_params_\\n\\nprint(f\"Best parameters: {best_parameters}\")\\n'"
      ]
     },
     "execution_count": 6,
     "metadata": {},
     "output_type": "execute_result"
    }
   ],
   "source": [
    "'''\n",
    "%%time\n",
    "\n",
    "#HYPERPARAM TUNING, make sure to turn it off before submission!!!\n",
    "from xgboost import XGBClassifier\n",
    "\n",
    "# Define our classifier\n",
    "clf = XGBClassifier(\n",
    "    learning_rate=0.005,\n",
    "    objective='multi:softprob',\n",
    "    num_class=2,\n",
    "    eval_metric='auc',\n",
    "    tree_method='gpu_hist',\n",
    "    predictor='gpu_predictor',\n",
    "    gpu_id=0,\n",
    "    max_bin=623,\n",
    "    max_depth=3,\n",
    "    gamma=2,\n",
    "    reg_lambda=5,\n",
    "    colsample_bytree=0.75,\n",
    "    subsample=0.85,\n",
    "    min_child_weight=5,\n",
    "    n_jobs=-1  # Use all CPU cores\n",
    ")\n",
    "\n",
    "# Create a scorer\n",
    "balanced_log_loss_scorer = make_scorer(balanced_log_loss, greater_is_better=False, needs_proba=True)\n",
    "\n",
    "# Define our parameter grid\n",
    "param_grid = {\n",
    "    'max_depth': [1, 2, 3, 5, 7, 9],  # Increase max_depth for higher complexity\n",
    "    'gamma': [0.5, 1, 2],  # Vary the minimum loss reduction to create a new split\n",
    "    'reg_lambda': [1, 5, 10],  # Vary the L2 regularization term\n",
    "    'subsample': [0.6, 0.8, 1.0],  # Vary the fraction of observations to subsample\n",
    "    'colsample_bytree': [0.6, 0.8, 1.0]  # Vary the fraction of columns to sample\n",
    "}\n",
    "\n",
    "# Initialize GridSearchCV\n",
    "grid_clf = GridSearchCV(clf, param_grid, cv=4, scoring=balanced_log_loss_scorer)\n",
    "\n",
    "# Fit GridSearchCV\n",
    "grid_clf.fit(X, y)\n",
    "\n",
    "# Get the best parameters\n",
    "best_parameters = grid_clf.best_params_\n",
    "\n",
    "print(f\"Best parameters: {best_parameters}\")\n",
    "'''\n"
   ]
  },
  {
   "cell_type": "code",
   "execution_count": 7,
   "id": "82e603d2",
   "metadata": {
    "execution": {
     "iopub.execute_input": "2023-07-18T03:54:25.105622Z",
     "iopub.status.busy": "2023-07-18T03:54:25.104886Z",
     "iopub.status.idle": "2023-07-18T03:54:25.111493Z",
     "shell.execute_reply": "2023-07-18T03:54:25.110681Z"
    },
    "papermill": {
     "duration": 0.016934,
     "end_time": "2023-07-18T03:54:25.113456",
     "exception": false,
     "start_time": "2023-07-18T03:54:25.096522",
     "status": "completed"
    },
    "tags": []
   },
   "outputs": [],
   "source": [
    "#setting our tuned values up to use without the sklearn API for later\n",
    "best_parameters = {'colsample_bytree': 1.0, 'gamma': 0.5, 'max_depth': 7, 'reg_lambda': 1, 'subsample': 1.0}\n",
    "\n",
    "xgb_params=  {'learning_rate': 0.005,\n",
    "                'objective': 'multi:softprob',\n",
    "                'num_class': 2,\n",
    "                'eval_metric': 'auc',\n",
    "                'tree_method': 'gpu_hist',\n",
    "                'predictor': 'gpu_predictor',\n",
    "                'gpu_id': 0,\n",
    "                'max_bin': 623,\n",
    "                'max_depth': best_parameters['max_depth'],\n",
    "                'gamma': best_parameters['gamma'],\n",
    "                'reg_lambda': best_parameters['reg_lambda'],\n",
    "                'colsample_bytree': best_parameters['colsample_bytree'],\n",
    "                'subsample': best_parameters['subsample'],\n",
    "                'min_child_weight': 5,\n",
    "             }"
   ]
  },
  {
   "cell_type": "code",
   "execution_count": 8,
   "id": "00e1fd5b",
   "metadata": {
    "execution": {
     "iopub.execute_input": "2023-07-18T03:54:25.130625Z",
     "iopub.status.busy": "2023-07-18T03:54:25.130060Z",
     "iopub.status.idle": "2023-07-18T03:54:26.381918Z",
     "shell.execute_reply": "2023-07-18T03:54:26.380886Z"
    },
    "papermill": {
     "duration": 1.263027,
     "end_time": "2023-07-18T03:54:26.384213",
     "exception": false,
     "start_time": "2023-07-18T03:54:25.121186",
     "status": "completed"
    },
    "tags": []
   },
   "outputs": [
    {
     "name": "stderr",
     "output_type": "stream",
     "text": [
      "3it [00:01,  3.45it/s]"
     ]
    },
    {
     "name": "stdout",
     "output_type": "stream",
     "text": [
      "0.681619275438267\n",
      "0.6876228527877145\n",
      "0.6849121154945474\n"
     ]
    },
    {
     "name": "stderr",
     "output_type": "stream",
     "text": [
      "5it [00:01,  4.07it/s]"
     ]
    },
    {
     "name": "stdout",
     "output_type": "stream",
     "text": [
      "0.6872933135569175\n",
      "0.6646254234194907\n",
      "0.6813316979066001\n",
      "Median best iteration: 2\n",
      "CPU times: user 851 ms, sys: 305 ms, total: 1.16 s\n",
      "Wall time: 1.24 s\n"
     ]
    },
    {
     "name": "stderr",
     "output_type": "stream",
     "text": [
      "\n"
     ]
    }
   ],
   "source": [
    "%%time\n",
    "\n",
    "train_oof = np.zeros((X[X.columns].shape[0],))\n",
    "test_preds = 0\n",
    "train_oof_shap = np.zeros((X[X.columns].shape[0], X[X.columns].shape[1]+1))\n",
    "test_preds_shap = 0\n",
    "train_oof_shap.shape\n",
    "weights = np.zeros(len(y))\n",
    "\n",
    "NUM_FOLDS = 5\n",
    "early_stopping_rounds = 30\n",
    "kf = KFold(n_splits=NUM_FOLDS, shuffle=True, random_state=0)\n",
    "\n",
    "# List to store the best iteration of each fold\n",
    "best_iterations = []\n",
    "\n",
    "for f, (train_ind, val_ind) in tqdm(enumerate(kf.split(X, y))):\n",
    "        #print(f'Fold {f}')\n",
    "        train_df, val_df = X.iloc[train_ind][X.columns], X.iloc[val_ind][X.columns]\n",
    "        train_target, val_target = y[train_ind], y[val_ind]\n",
    "        \n",
    "        weights = np.zeros(len(train_target))\n",
    "\n",
    "        # 0 is the majority class in this case by a fair ammount\n",
    "        weights[train_target == 0] = 1\n",
    "        weights[train_target == 1] = sum(train_target == 0) / sum(train_target == 1)\n",
    "        \n",
    "        train_df = xgb.DMatrix(train_df, label=train_target, weight=weights)\n",
    "        val_df = xgb.DMatrix(val_df, label=val_target)\n",
    "        \n",
    "        # The watchlist is used for early stopping\n",
    "        watchlist = [(train_df, 'train'), (val_df, 'eval')]\n",
    "\n",
    "        model = xgb.train(xgb_params, train_df, evals=watchlist, \n",
    "                          early_stopping_rounds=early_stopping_rounds, verbose_eval=False)\n",
    "        \n",
    "        # Append the best iteration of this fold to the list\n",
    "        best_iterations.append(model.best_iteration)\n",
    "        \n",
    "        temp_oof = model.predict(val_df, iteration_range=(0, model.best_iteration + 1))[:,1]\n",
    "        temp_oof_shap = model.predict(val_df, iteration_range=(0, model.best_iteration + 1), pred_contribs=True)[:,1]\n",
    "        temp_test = model.predict(X_val, iteration_range=(0, model.best_iteration + 1))[:,1]\n",
    "        temp_test_shap = model.predict(X_val, iteration_range=(0, model.best_iteration + 1), pred_contribs=True)[:,1]\n",
    "\n",
    "        train_oof[val_ind] = temp_oof\n",
    "        test_preds += temp_test/NUM_FOLDS\n",
    "        \n",
    "        train_oof_shap[val_ind, :] = temp_oof_shap\n",
    "        test_preds_shap += temp_test_shap/NUM_FOLDS\n",
    "        \n",
    "        \n",
    "        print(balanced_log_loss(val_target, temp_oof))\n",
    "        \n",
    "print(balanced_log_loss(y, train_oof))\n",
    "\n",
    "median_best_iteration = round(np.median(best_iterations))\n",
    "print(f\"Median best iteration: {median_best_iteration}\")"
   ]
  },
  {
   "cell_type": "code",
   "execution_count": 9,
   "id": "6fc5a8ed",
   "metadata": {
    "execution": {
     "iopub.execute_input": "2023-07-18T03:54:26.401987Z",
     "iopub.status.busy": "2023-07-18T03:54:26.401645Z",
     "iopub.status.idle": "2023-07-18T03:54:26.431436Z",
     "shell.execute_reply": "2023-07-18T03:54:26.430718Z"
    },
    "papermill": {
     "duration": 0.041114,
     "end_time": "2023-07-18T03:54:26.433558",
     "exception": false,
     "start_time": "2023-07-18T03:54:26.392444",
     "status": "completed"
    },
    "tags": []
   },
   "outputs": [],
   "source": [
    "#now that we have assessed the model we want to train it on all of our availible data:\n",
    "weights = np.zeros(len(y))\n",
    "\n",
    "# 0 is the majority class in this case by a fair ammount\n",
    "weights[y == 0] = 1\n",
    "weights[y == 1] = sum(y == 0) / sum(y == 1)\n",
    "\n",
    "full_train_df = xgb.DMatrix(X, label=y, weight=weights)\n",
    "final_model = xgb.train(xgb_params, full_train_df, num_boost_round=median_best_iteration)"
   ]
  },
  {
   "cell_type": "code",
   "execution_count": 10,
   "id": "03df0960",
   "metadata": {
    "execution": {
     "iopub.execute_input": "2023-07-18T03:54:26.452160Z",
     "iopub.status.busy": "2023-07-18T03:54:26.451867Z",
     "iopub.status.idle": "2023-07-18T03:54:26.460235Z",
     "shell.execute_reply": "2023-07-18T03:54:26.459415Z"
    },
    "papermill": {
     "duration": 0.019622,
     "end_time": "2023-07-18T03:54:26.462337",
     "exception": false,
     "start_time": "2023-07-18T03:54:26.442715",
     "status": "completed"
    },
    "tags": []
   },
   "outputs": [],
   "source": [
    "y_preds = model.predict(X_val, output_margin=False)\n",
    "#probs = np.exp(y_preds) / np.sum(np.exp(y_preds), axis=1, keepdims=True)\n",
    "\n",
    "submission = pd.DataFrame()\n",
    "submission[\"Id\"] = val_index\n",
    "\n",
    "submission[\"class_0\"] = y_preds[:,0]\n",
    "submission[\"class_1\"] = y_preds[:,1]\n"
   ]
  },
  {
   "cell_type": "code",
   "execution_count": 11,
   "id": "1fc486ef",
   "metadata": {
    "execution": {
     "iopub.execute_input": "2023-07-18T03:54:26.480065Z",
     "iopub.status.busy": "2023-07-18T03:54:26.479786Z",
     "iopub.status.idle": "2023-07-18T03:54:26.489608Z",
     "shell.execute_reply": "2023-07-18T03:54:26.488664Z"
    },
    "papermill": {
     "duration": 0.020878,
     "end_time": "2023-07-18T03:54:26.491519",
     "exception": false,
     "start_time": "2023-07-18T03:54:26.470641",
     "status": "completed"
    },
    "tags": []
   },
   "outputs": [
    {
     "data": {
      "text/html": [
       "<div>\n",
       "<style scoped>\n",
       "    .dataframe tbody tr th:only-of-type {\n",
       "        vertical-align: middle;\n",
       "    }\n",
       "\n",
       "    .dataframe tbody tr th {\n",
       "        vertical-align: top;\n",
       "    }\n",
       "\n",
       "    .dataframe thead th {\n",
       "        text-align: right;\n",
       "    }\n",
       "</style>\n",
       "<table border=\"1\" class=\"dataframe\">\n",
       "  <thead>\n",
       "    <tr style=\"text-align: right;\">\n",
       "      <th></th>\n",
       "      <th>Id</th>\n",
       "      <th>class_0</th>\n",
       "      <th>class_1</th>\n",
       "    </tr>\n",
       "  </thead>\n",
       "  <tbody>\n",
       "    <tr>\n",
       "      <th>0</th>\n",
       "      <td>00eed32682bb</td>\n",
       "      <td>0.490887</td>\n",
       "      <td>0.509113</td>\n",
       "    </tr>\n",
       "    <tr>\n",
       "      <th>1</th>\n",
       "      <td>010ebe33f668</td>\n",
       "      <td>0.490887</td>\n",
       "      <td>0.509113</td>\n",
       "    </tr>\n",
       "    <tr>\n",
       "      <th>2</th>\n",
       "      <td>02fa521e1838</td>\n",
       "      <td>0.490887</td>\n",
       "      <td>0.509113</td>\n",
       "    </tr>\n",
       "    <tr>\n",
       "      <th>3</th>\n",
       "      <td>040e15f562a2</td>\n",
       "      <td>0.490887</td>\n",
       "      <td>0.509113</td>\n",
       "    </tr>\n",
       "    <tr>\n",
       "      <th>4</th>\n",
       "      <td>046e85c7cc7f</td>\n",
       "      <td>0.490887</td>\n",
       "      <td>0.509113</td>\n",
       "    </tr>\n",
       "  </tbody>\n",
       "</table>\n",
       "</div>"
      ],
      "text/plain": [
       "             Id   class_0   class_1\n",
       "0  00eed32682bb  0.490887  0.509113\n",
       "1  010ebe33f668  0.490887  0.509113\n",
       "2  02fa521e1838  0.490887  0.509113\n",
       "3  040e15f562a2  0.490887  0.509113\n",
       "4  046e85c7cc7f  0.490887  0.509113"
      ]
     },
     "execution_count": 11,
     "metadata": {},
     "output_type": "execute_result"
    }
   ],
   "source": [
    "submission.head()"
   ]
  },
  {
   "cell_type": "code",
   "execution_count": 12,
   "id": "2f471acc",
   "metadata": {
    "execution": {
     "iopub.execute_input": "2023-07-18T03:54:26.510065Z",
     "iopub.status.busy": "2023-07-18T03:54:26.509278Z",
     "iopub.status.idle": "2023-07-18T03:54:26.516514Z",
     "shell.execute_reply": "2023-07-18T03:54:26.515650Z"
    },
    "papermill": {
     "duration": 0.018649,
     "end_time": "2023-07-18T03:54:26.518799",
     "exception": false,
     "start_time": "2023-07-18T03:54:26.500150",
     "status": "completed"
    },
    "tags": []
   },
   "outputs": [],
   "source": [
    "submission.to_csv(\"submission.csv\",header=True,index=False)"
   ]
  },
  {
   "cell_type": "markdown",
   "id": "678fbd68",
   "metadata": {
    "papermill": {
     "duration": 0.008033,
     "end_time": "2023-07-18T03:54:26.535156",
     "exception": false,
     "start_time": "2023-07-18T03:54:26.527123",
     "status": "completed"
    },
    "tags": []
   },
   "source": [
    "`\n",
    "%%time\n",
    "#simple testing ~\n",
    "pipeline = Pipeline([\n",
    "    ('xgb', XGBClassifier(eval_metric='aucpr', scale_pos_weight = ratio))\n",
    "])\n",
    "\n",
    "# Specify the hyperparameters and their values\n",
    "param_grid = {\n",
    "    'xgb__n_estimators': [50, 100, 150],\n",
    "    'xgb__max_depth': [2, 4, 6],\n",
    "    'xgb__learning_rate': [0.01, 0.1, 0.2]\n",
    "}\n",
    "\n",
    "# Create a KFold object\n",
    "kf = KFold(n_splits=5, random_state=42, shuffle=True)\n",
    "\n",
    "# Create a GridSearchCV object\n",
    "grid_search = GridSearchCV(pipeline, param_grid, cv=kf, scoring='roc_auc')\n",
    "\n",
    "# Fit the GridSearchCV object to the data\n",
    "grid_search.fit(X, y)\n",
    "\n",
    "print(f\"Best parameters: {grid_search.best_params_}\")\n",
    "print(f\"Best score: {grid_search.best_score_:.2f}\")\n",
    "`"
   ]
  },
  {
   "cell_type": "code",
   "execution_count": 13,
   "id": "595c3c83",
   "metadata": {
    "execution": {
     "iopub.execute_input": "2023-07-18T03:54:26.553254Z",
     "iopub.status.busy": "2023-07-18T03:54:26.552456Z",
     "iopub.status.idle": "2023-07-18T03:54:26.558591Z",
     "shell.execute_reply": "2023-07-18T03:54:26.557692Z"
    },
    "papermill": {
     "duration": 0.017194,
     "end_time": "2023-07-18T03:54:26.560538",
     "exception": false,
     "start_time": "2023-07-18T03:54:26.543344",
     "status": "completed"
    },
    "tags": []
   },
   "outputs": [],
   "source": [
    "np.save('train_oof', train_oof)\n",
    "np.save('test_preds', test_preds)\n",
    "np.save('train_oof_shap', train_oof_shap)\n",
    "np.save('test_preds_shap', test_preds_shap)"
   ]
  },
  {
   "cell_type": "code",
   "execution_count": 14,
   "id": "eebd8899",
   "metadata": {
    "execution": {
     "iopub.execute_input": "2023-07-18T03:54:26.578879Z",
     "iopub.status.busy": "2023-07-18T03:54:26.578194Z",
     "iopub.status.idle": "2023-07-18T03:54:32.183184Z",
     "shell.execute_reply": "2023-07-18T03:54:32.182210Z"
    },
    "papermill": {
     "duration": 5.616831,
     "end_time": "2023-07-18T03:54:32.185547",
     "exception": false,
     "start_time": "2023-07-18T03:54:26.568716",
     "status": "completed"
    },
    "tags": []
   },
   "outputs": [],
   "source": [
    "%matplotlib inline\n",
    "import cudf, cuml\n",
    "import cupy as cp\n",
    "\n",
    "from cuml.manifold import TSNE, UMAP\n",
    "import matplotlib.pyplot as plt\n",
    "from matplotlib.pyplot import ylim, xlim"
   ]
  },
  {
   "cell_type": "code",
   "execution_count": 15,
   "id": "a3f37496",
   "metadata": {
    "execution": {
     "iopub.execute_input": "2023-07-18T03:54:32.206133Z",
     "iopub.status.busy": "2023-07-18T03:54:32.205812Z",
     "iopub.status.idle": "2023-07-18T03:54:37.704144Z",
     "shell.execute_reply": "2023-07-18T03:54:37.703228Z"
    },
    "papermill": {
     "duration": 5.511767,
     "end_time": "2023-07-18T03:54:37.706445",
     "exception": false,
     "start_time": "2023-07-18T03:54:32.194678",
     "status": "completed"
    },
    "tags": []
   },
   "outputs": [
    {
     "data": {
      "text/html": [
       "<div>\n",
       "<style scoped>\n",
       "    .dataframe tbody tr th:only-of-type {\n",
       "        vertical-align: middle;\n",
       "    }\n",
       "\n",
       "    .dataframe tbody tr th {\n",
       "        vertical-align: top;\n",
       "    }\n",
       "\n",
       "    .dataframe thead th {\n",
       "        text-align: right;\n",
       "    }\n",
       "</style>\n",
       "<table border=\"1\" class=\"dataframe\">\n",
       "  <thead>\n",
       "    <tr style=\"text-align: right;\">\n",
       "      <th></th>\n",
       "      <th>Id</th>\n",
       "      <th>AB</th>\n",
       "      <th>AF</th>\n",
       "      <th>AH</th>\n",
       "      <th>AM</th>\n",
       "      <th>AR</th>\n",
       "      <th>AX</th>\n",
       "      <th>AY</th>\n",
       "      <th>AZ</th>\n",
       "      <th>BC</th>\n",
       "      <th>...</th>\n",
       "      <th>FL</th>\n",
       "      <th>FR</th>\n",
       "      <th>FS</th>\n",
       "      <th>GB</th>\n",
       "      <th>GE</th>\n",
       "      <th>GF</th>\n",
       "      <th>GH</th>\n",
       "      <th>GI</th>\n",
       "      <th>GL</th>\n",
       "      <th>Class</th>\n",
       "    </tr>\n",
       "  </thead>\n",
       "  <tbody>\n",
       "    <tr>\n",
       "      <th>0</th>\n",
       "      <td>000ff2bfdfe9</td>\n",
       "      <td>0.209377</td>\n",
       "      <td>3109.03329</td>\n",
       "      <td>85.200147</td>\n",
       "      <td>22.394407</td>\n",
       "      <td>8.138688</td>\n",
       "      <td>0.699861</td>\n",
       "      <td>0.025578</td>\n",
       "      <td>9.812214</td>\n",
       "      <td>5.555634</td>\n",
       "      <td>...</td>\n",
       "      <td>7.298162</td>\n",
       "      <td>1.73855</td>\n",
       "      <td>0.094822</td>\n",
       "      <td>11.339138</td>\n",
       "      <td>72.611063</td>\n",
       "      <td>2003.810319</td>\n",
       "      <td>22.136229</td>\n",
       "      <td>69.834944</td>\n",
       "      <td>0.120343</td>\n",
       "      <td>1</td>\n",
       "    </tr>\n",
       "    <tr>\n",
       "      <th>1</th>\n",
       "      <td>007255e47698</td>\n",
       "      <td>0.145282</td>\n",
       "      <td>978.76416</td>\n",
       "      <td>85.200147</td>\n",
       "      <td>36.968889</td>\n",
       "      <td>8.138688</td>\n",
       "      <td>3.632190</td>\n",
       "      <td>0.025578</td>\n",
       "      <td>13.517790</td>\n",
       "      <td>1.229900</td>\n",
       "      <td>...</td>\n",
       "      <td>0.173229</td>\n",
       "      <td>0.49706</td>\n",
       "      <td>0.568932</td>\n",
       "      <td>9.292698</td>\n",
       "      <td>72.611063</td>\n",
       "      <td>27981.562750</td>\n",
       "      <td>29.135430</td>\n",
       "      <td>32.131996</td>\n",
       "      <td>21.978000</td>\n",
       "      <td>0</td>\n",
       "    </tr>\n",
       "    <tr>\n",
       "      <th>2</th>\n",
       "      <td>013f2bd269f5</td>\n",
       "      <td>0.470030</td>\n",
       "      <td>2635.10654</td>\n",
       "      <td>85.200147</td>\n",
       "      <td>32.360553</td>\n",
       "      <td>8.138688</td>\n",
       "      <td>6.732840</td>\n",
       "      <td>0.025578</td>\n",
       "      <td>12.824570</td>\n",
       "      <td>1.229900</td>\n",
       "      <td>...</td>\n",
       "      <td>7.709560</td>\n",
       "      <td>0.97556</td>\n",
       "      <td>1.198821</td>\n",
       "      <td>37.077772</td>\n",
       "      <td>88.609437</td>\n",
       "      <td>13676.957810</td>\n",
       "      <td>28.022851</td>\n",
       "      <td>35.192676</td>\n",
       "      <td>0.196941</td>\n",
       "      <td>0</td>\n",
       "    </tr>\n",
       "    <tr>\n",
       "      <th>3</th>\n",
       "      <td>043ac50845d5</td>\n",
       "      <td>0.252107</td>\n",
       "      <td>3819.65177</td>\n",
       "      <td>120.201618</td>\n",
       "      <td>77.112203</td>\n",
       "      <td>8.138688</td>\n",
       "      <td>3.685344</td>\n",
       "      <td>0.025578</td>\n",
       "      <td>11.053708</td>\n",
       "      <td>1.229900</td>\n",
       "      <td>...</td>\n",
       "      <td>6.122162</td>\n",
       "      <td>0.49706</td>\n",
       "      <td>0.284466</td>\n",
       "      <td>18.529584</td>\n",
       "      <td>82.416803</td>\n",
       "      <td>2094.262452</td>\n",
       "      <td>39.948656</td>\n",
       "      <td>90.493248</td>\n",
       "      <td>0.155829</td>\n",
       "      <td>0</td>\n",
       "    </tr>\n",
       "    <tr>\n",
       "      <th>4</th>\n",
       "      <td>044fb8a146ec</td>\n",
       "      <td>0.380297</td>\n",
       "      <td>3733.04844</td>\n",
       "      <td>85.200147</td>\n",
       "      <td>14.103738</td>\n",
       "      <td>8.138688</td>\n",
       "      <td>3.942255</td>\n",
       "      <td>0.054810</td>\n",
       "      <td>3.396778</td>\n",
       "      <td>102.151980</td>\n",
       "      <td>...</td>\n",
       "      <td>8.153058</td>\n",
       "      <td>48.50134</td>\n",
       "      <td>0.121914</td>\n",
       "      <td>16.408728</td>\n",
       "      <td>146.109943</td>\n",
       "      <td>8524.370502</td>\n",
       "      <td>45.381316</td>\n",
       "      <td>36.262628</td>\n",
       "      <td>0.096614</td>\n",
       "      <td>1</td>\n",
       "    </tr>\n",
       "  </tbody>\n",
       "</table>\n",
       "<p>5 rows × 58 columns</p>\n",
       "</div>"
      ],
      "text/plain": [
       "             Id        AB          AF          AH         AM        AR  \\\n",
       "0  000ff2bfdfe9  0.209377  3109.03329   85.200147  22.394407  8.138688   \n",
       "1  007255e47698  0.145282   978.76416   85.200147  36.968889  8.138688   \n",
       "2  013f2bd269f5  0.470030  2635.10654   85.200147  32.360553  8.138688   \n",
       "3  043ac50845d5  0.252107  3819.65177  120.201618  77.112203  8.138688   \n",
       "4  044fb8a146ec  0.380297  3733.04844   85.200147  14.103738  8.138688   \n",
       "\n",
       "         AX        AY         AZ          BC  ...        FL        FR  \\\n",
       "0  0.699861  0.025578   9.812214    5.555634  ...  7.298162   1.73855   \n",
       "1  3.632190  0.025578  13.517790    1.229900  ...  0.173229   0.49706   \n",
       "2  6.732840  0.025578  12.824570    1.229900  ...  7.709560   0.97556   \n",
       "3  3.685344  0.025578  11.053708    1.229900  ...  6.122162   0.49706   \n",
       "4  3.942255  0.054810   3.396778  102.151980  ...  8.153058  48.50134   \n",
       "\n",
       "         FS         GB          GE            GF         GH         GI  \\\n",
       "0  0.094822  11.339138   72.611063   2003.810319  22.136229  69.834944   \n",
       "1  0.568932   9.292698   72.611063  27981.562750  29.135430  32.131996   \n",
       "2  1.198821  37.077772   88.609437  13676.957810  28.022851  35.192676   \n",
       "3  0.284466  18.529584   82.416803   2094.262452  39.948656  90.493248   \n",
       "4  0.121914  16.408728  146.109943   8524.370502  45.381316  36.262628   \n",
       "\n",
       "          GL  Class  \n",
       "0   0.120343      1  \n",
       "1  21.978000      0  \n",
       "2   0.196941      0  \n",
       "3   0.155829      0  \n",
       "4   0.096614      1  \n",
       "\n",
       "[5 rows x 58 columns]"
      ]
     },
     "execution_count": 15,
     "metadata": {},
     "output_type": "execute_result"
    }
   ],
   "source": [
    "train_df = cudf.read_csv('/kaggle/input/icr-identify-age-related-conditions/train.csv')\n",
    "train_df.head()"
   ]
  },
  {
   "cell_type": "code",
   "execution_count": 16,
   "id": "e7795da1",
   "metadata": {
    "execution": {
     "iopub.execute_input": "2023-07-18T03:54:37.726783Z",
     "iopub.status.busy": "2023-07-18T03:54:37.726471Z",
     "iopub.status.idle": "2023-07-18T03:54:37.736157Z",
     "shell.execute_reply": "2023-07-18T03:54:37.735287Z"
    },
    "papermill": {
     "duration": 0.022098,
     "end_time": "2023-07-18T03:54:37.738268",
     "exception": false,
     "start_time": "2023-07-18T03:54:37.716170",
     "status": "completed"
    },
    "tags": []
   },
   "outputs": [],
   "source": [
    "train = cp.load('/kaggle/working/train_oof_shap.npy')\n",
    "test = cp.load('/kaggle/working/test_preds_shap.npy')"
   ]
  },
  {
   "cell_type": "code",
   "execution_count": 17,
   "id": "d6c019fd",
   "metadata": {
    "execution": {
     "iopub.execute_input": "2023-07-18T03:54:37.756859Z",
     "iopub.status.busy": "2023-07-18T03:54:37.756561Z",
     "iopub.status.idle": "2023-07-18T03:54:38.588653Z",
     "shell.execute_reply": "2023-07-18T03:54:38.587649Z"
    },
    "papermill": {
     "duration": 0.84392,
     "end_time": "2023-07-18T03:54:38.590869",
     "exception": false,
     "start_time": "2023-07-18T03:54:37.746949",
     "status": "completed"
    },
    "tags": []
   },
   "outputs": [
    {
     "data": {
      "text/plain": [
       "(622, 57)"
      ]
     },
     "execution_count": 17,
     "metadata": {},
     "output_type": "execute_result"
    }
   ],
   "source": [
    "train_test = cp.vstack([train, test])\n",
    "train_test.shape"
   ]
  },
  {
   "cell_type": "code",
   "execution_count": 18,
   "id": "f885542d",
   "metadata": {
    "execution": {
     "iopub.execute_input": "2023-07-18T03:54:38.610936Z",
     "iopub.status.busy": "2023-07-18T03:54:38.610115Z",
     "iopub.status.idle": "2023-07-18T03:54:51.756451Z",
     "shell.execute_reply": "2023-07-18T03:54:51.754347Z"
    },
    "papermill": {
     "duration": 13.158753,
     "end_time": "2023-07-18T03:54:51.758825",
     "exception": false,
     "start_time": "2023-07-18T03:54:38.600072",
     "status": "completed"
    },
    "tags": []
   },
   "outputs": [
    {
     "name": "stderr",
     "output_type": "stream",
     "text": [
      "/opt/conda/lib/python3.10/site-packages/cuml/internals/api_decorators.py:344: UserWarning: Starting from version 22.04, the default method of TSNE is 'fft'.\n",
      "  return func(**kwargs)\n"
     ]
    },
    {
     "name": "stdout",
     "output_type": "stream",
     "text": [
      "CPU times: user 11.6 s, sys: 347 ms, total: 11.9 s\n",
      "Wall time: 13.1 s\n"
     ]
    }
   ],
   "source": [
    "%%time\n",
    "tsne = TSNE(n_components=2)\n",
    "train_2D = tsne.fit_transform(train_test)"
   ]
  },
  {
   "cell_type": "code",
   "execution_count": 19,
   "id": "db8e4b5a",
   "metadata": {
    "execution": {
     "iopub.execute_input": "2023-07-18T03:54:51.780056Z",
     "iopub.status.busy": "2023-07-18T03:54:51.779187Z",
     "iopub.status.idle": "2023-07-18T03:54:52.087551Z",
     "shell.execute_reply": "2023-07-18T03:54:52.086631Z"
    },
    "papermill": {
     "duration": 0.321586,
     "end_time": "2023-07-18T03:54:52.090035",
     "exception": false,
     "start_time": "2023-07-18T03:54:51.768449",
     "status": "completed"
    },
    "tags": []
   },
   "outputs": [
    {
     "data": {
      "text/plain": [
       "<matplotlib.collections.PathCollection at 0x79665e15a350>"
      ]
     },
     "execution_count": 19,
     "metadata": {},
     "output_type": "execute_result"
    },
    {
     "data": {
      "image/png": "[encoded data removed]",
      "text/plain": [
       "<Figure size 640x480 with 1 Axes>"
      ]
     },
     "metadata": {},
     "output_type": "display_data"
    }
   ],
   "source": [
    "plt.scatter(train_2D[:,0].get(), train_2D[:,1].get(), s = 0.8)"
   ]
  },
  {
   "cell_type": "code",
   "execution_count": 20,
   "id": "b0d1b5e2",
   "metadata": {
    "execution": {
     "iopub.execute_input": "2023-07-18T03:54:52.110924Z",
     "iopub.status.busy": "2023-07-18T03:54:52.110556Z",
     "iopub.status.idle": "2023-07-18T03:54:52.469190Z",
     "shell.execute_reply": "2023-07-18T03:54:52.467995Z"
    },
    "papermill": {
     "duration": 0.37197,
     "end_time": "2023-07-18T03:54:52.471854",
     "exception": false,
     "start_time": "2023-07-18T03:54:52.099884",
     "status": "completed"
    },
    "tags": []
   },
   "outputs": [
    {
     "name": "stdout",
     "output_type": "stream",
     "text": [
      "CPU times: user 343 ms, sys: 12.8 ms, total: 356 ms\n",
      "Wall time: 351 ms\n"
     ]
    }
   ],
   "source": [
    "%%time\n",
    "tsne = TSNE(n_components=2)\n",
    "train_2D = tsne.fit_transform(train)"
   ]
  },
  {
   "cell_type": "code",
   "execution_count": 21,
   "id": "1fe35e45",
   "metadata": {
    "execution": {
     "iopub.execute_input": "2023-07-18T03:54:52.493477Z",
     "iopub.status.busy": "2023-07-18T03:54:52.493146Z",
     "iopub.status.idle": "2023-07-18T03:54:52.757583Z",
     "shell.execute_reply": "2023-07-18T03:54:52.756609Z"
    },
    "papermill": {
     "duration": 0.277735,
     "end_time": "2023-07-18T03:54:52.760003",
     "exception": false,
     "start_time": "2023-07-18T03:54:52.482268",
     "status": "completed"
    },
    "tags": []
   },
   "outputs": [
    {
     "data": {
      "text/plain": [
       "<matplotlib.collections.PathCollection at 0x79672b585630>"
      ]
     },
     "execution_count": 21,
     "metadata": {},
     "output_type": "execute_result"
    },
    {
     "data": {
      "image/png": "[encoded data removed]",
      "text/plain": [
       "<Figure size 640x480 with 1 Axes>"
      ]
     },
     "metadata": {},
     "output_type": "display_data"
    }
   ],
   "source": [
    "plt.scatter(train_2D[:,0].get(), train_2D[:,1].get(), s = 0.8)"
   ]
  },
  {
   "cell_type": "code",
   "execution_count": 22,
   "id": "cceb4508",
   "metadata": {
    "execution": {
     "iopub.execute_input": "2023-07-18T03:54:52.781929Z",
     "iopub.status.busy": "2023-07-18T03:54:52.781587Z",
     "iopub.status.idle": "2023-07-18T03:54:53.051442Z",
     "shell.execute_reply": "2023-07-18T03:54:53.050511Z"
    },
    "papermill": {
     "duration": 0.28331,
     "end_time": "2023-07-18T03:54:53.053645",
     "exception": false,
     "start_time": "2023-07-18T03:54:52.770335",
     "status": "completed"
    },
    "tags": []
   },
   "outputs": [
    {
     "data": {
      "text/plain": [
       "<matplotlib.collections.PathCollection at 0x79672b5f68f0>"
      ]
     },
     "execution_count": 22,
     "metadata": {},
     "output_type": "execute_result"
    },
    {
     "data": {
      "image/png": "[encoded data removed]",
      "text/plain": [
       "<Figure size 640x480 with 1 Axes>"
      ]
     },
     "metadata": {},
     "output_type": "display_data"
    }
   ],
   "source": [
    "plt.scatter(train_2D[:,0].get(), train_2D[:,1].get(), c=train_df['Class'].values.get(), s = 0.8)"
   ]
  },
  {
   "cell_type": "code",
   "execution_count": 23,
   "id": "e27ce15c",
   "metadata": {
    "execution": {
     "iopub.execute_input": "2023-07-18T03:54:53.078896Z",
     "iopub.status.busy": "2023-07-18T03:54:53.077019Z",
     "iopub.status.idle": "2023-07-18T03:54:54.715744Z",
     "shell.execute_reply": "2023-07-18T03:54:54.714518Z"
    },
    "papermill": {
     "duration": 1.653352,
     "end_time": "2023-07-18T03:54:54.718040",
     "exception": false,
     "start_time": "2023-07-18T03:54:53.064688",
     "status": "completed"
    },
    "tags": []
   },
   "outputs": [
    {
     "name": "stdout",
     "output_type": "stream",
     "text": [
      "CPU times: user 903 ms, sys: 132 ms, total: 1.04 s\n",
      "Wall time: 1.63 s\n"
     ]
    }
   ],
   "source": [
    "%%time\n",
    "umap = UMAP(n_components=2)\n",
    "train_2D = umap.fit_transform(train)"
   ]
  },
  {
   "cell_type": "code",
   "execution_count": 24,
   "id": "4c14df52",
   "metadata": {
    "execution": {
     "iopub.execute_input": "2023-07-18T03:54:54.741768Z",
     "iopub.status.busy": "2023-07-18T03:54:54.741406Z",
     "iopub.status.idle": "2023-07-18T03:54:55.249160Z",
     "shell.execute_reply": "2023-07-18T03:54:55.248183Z"
    },
    "papermill": {
     "duration": 0.522001,
     "end_time": "2023-07-18T03:54:55.251336",
     "exception": false,
     "start_time": "2023-07-18T03:54:54.729335",
     "status": "completed"
    },
    "tags": []
   },
   "outputs": [
    {
     "data": {
      "text/plain": [
       "<matplotlib.collections.PathCollection at 0x79672b467670>"
      ]
     },
     "execution_count": 24,
     "metadata": {},
     "output_type": "execute_result"
    },
    {
     "data": {
      "image/png": "[encoded data removed]",
      "text/plain": [
       "<Figure size 640x480 with 1 Axes>"
      ]
     },
     "metadata": {},
     "output_type": "display_data"
    }
   ],
   "source": [
    "plt.scatter(train_2D[:,0].get(), train_2D[:,1].get(), c=train_df['Class'].values.get(), s = 0.8)"
   ]
  }
 ],
 "metadata": {
  "kernelspec": {
   "display_name": "Python 3",
   "language": "python",
   "name": "python3"
  },
  "language_info": {
   "codemirror_mode": {
    "name": "ipython",
    "version": 3
   },
   "file_extension": ".py",
   "mimetype": "text/x-python",
   "name": "python",
   "nbconvert_exporter": "python",
   "pygments_lexer": "ipython3",
   "version": "3.10.10"
  },
  "papermill": {
   "default_parameters": {},
   "duration": 45.812156,
   "end_time": "2023-07-18T03:54:58.078144",
   "environment_variables": {},
   "exception": null,
   "input_path": "__notebook__.ipynb",
   "output_path": "__notebook__.ipynb",
   "parameters": {},
   "start_time": "2023-07-18T03:54:12.265988",
   "version": "2.4.0"
  }
 },
 "nbformat": 4,
 "nbformat_minor": 5
}
