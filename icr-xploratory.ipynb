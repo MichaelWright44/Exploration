{
 "cells": [
  {
   "cell_type": "code",
   "execution_count": 1,
   "id": "7357ab7d",
   "metadata": {
    "execution": {
     "iopub.execute_input": "2023-07-23T18:52:34.900378Z",
     "iopub.status.busy": "2023-07-23T18:52:34.900016Z",
     "iopub.status.idle": "2023-07-23T18:52:34.904666Z",
     "shell.execute_reply": "2023-07-23T18:52:34.903845Z"
    },
    "papermill": {
     "duration": 0.017622,
     "end_time": "2023-07-23T18:52:34.908818",
     "exception": false,
     "start_time": "2023-07-23T18:52:34.891196",
     "status": "completed"
    },
    "tags": []
   },
   "outputs": [],
   "source": [
    "#Required Installs\n",
    "#!pip install fivecentplots # will need to remove for submission"
   ]
  },
  {
   "cell_type": "code",
   "execution_count": 2,
   "id": "7bfb0a64",
   "metadata": {
    "execution": {
     "iopub.execute_input": "2023-07-23T18:52:34.923788Z",
     "iopub.status.busy": "2023-07-23T18:52:34.923533Z",
     "iopub.status.idle": "2023-07-23T18:52:36.548761Z",
     "shell.execute_reply": "2023-07-23T18:52:36.547814Z"
    },
    "papermill": {
     "duration": 1.635655,
     "end_time": "2023-07-23T18:52:36.551445",
     "exception": false,
     "start_time": "2023-07-23T18:52:34.915790",
     "status": "completed"
    },
    "tags": []
   },
   "outputs": [],
   "source": [
    "#Standard Imports\n",
    "import os\n",
    "\n",
    "#Third Party Imports\n",
    "from sklearn.metrics import accuracy_score, log_loss, roc_auc_score, make_scorer\n",
    "import xgboost as xgb\n",
    "#import fivecentplots as fcp #clean data vis library for easy pandas integration | will need to remove for submission\n",
    "from sklearn.preprocessing import LabelEncoder\n",
    "import numpy as np\n",
    "import pandas as pd\n",
    "from sklearn.pipeline import Pipeline\n",
    "import seaborn as sns\n",
    "from tqdm import tqdm\n",
    "from sklearn.model_selection import cross_val_score, KFold, train_test_split, GridSearchCV\n",
    "from sklearn.impute import KNNImputer\n"
   ]
  },
  {
   "cell_type": "code",
   "execution_count": 3,
   "id": "9204ef4f",
   "metadata": {
    "execution": {
     "iopub.execute_input": "2023-07-23T18:52:36.566984Z",
     "iopub.status.busy": "2023-07-23T18:52:36.566683Z",
     "iopub.status.idle": "2023-07-23T18:52:36.630231Z",
     "shell.execute_reply": "2023-07-23T18:52:36.629395Z"
    },
    "papermill": {
     "duration": 0.073836,
     "end_time": "2023-07-23T18:52:36.632603",
     "exception": false,
     "start_time": "2023-07-23T18:52:36.558767",
     "status": "completed"
    },
    "tags": []
   },
   "outputs": [
    {
     "data": {
      "text/html": [
       "<div>\n",
       "<style scoped>\n",
       "    .dataframe tbody tr th:only-of-type {\n",
       "        vertical-align: middle;\n",
       "    }\n",
       "\n",
       "    .dataframe tbody tr th {\n",
       "        vertical-align: top;\n",
       "    }\n",
       "\n",
       "    .dataframe thead th {\n",
       "        text-align: right;\n",
       "    }\n",
       "</style>\n",
       "<table border=\"1\" class=\"dataframe\">\n",
       "  <thead>\n",
       "    <tr style=\"text-align: right;\">\n",
       "      <th></th>\n",
       "      <th>AB</th>\n",
       "      <th>AF</th>\n",
       "      <th>AH</th>\n",
       "      <th>AM</th>\n",
       "      <th>AR</th>\n",
       "      <th>AX</th>\n",
       "      <th>AY</th>\n",
       "      <th>AZ</th>\n",
       "      <th>BC</th>\n",
       "      <th>BD</th>\n",
       "      <th>...</th>\n",
       "      <th>FL</th>\n",
       "      <th>FR</th>\n",
       "      <th>FS</th>\n",
       "      <th>GB</th>\n",
       "      <th>GE</th>\n",
       "      <th>GF</th>\n",
       "      <th>GH</th>\n",
       "      <th>GI</th>\n",
       "      <th>GL</th>\n",
       "      <th>Class</th>\n",
       "    </tr>\n",
       "  </thead>\n",
       "  <tbody>\n",
       "    <tr>\n",
       "      <th>0</th>\n",
       "      <td>0.209377</td>\n",
       "      <td>3109.03329</td>\n",
       "      <td>85.200147</td>\n",
       "      <td>22.394407</td>\n",
       "      <td>8.138688</td>\n",
       "      <td>0.699861</td>\n",
       "      <td>0.025578</td>\n",
       "      <td>9.812214</td>\n",
       "      <td>5.555634</td>\n",
       "      <td>4126.58731</td>\n",
       "      <td>...</td>\n",
       "      <td>7.298162</td>\n",
       "      <td>1.73855</td>\n",
       "      <td>0.094822</td>\n",
       "      <td>11.339138</td>\n",
       "      <td>72.611063</td>\n",
       "      <td>2003.810319</td>\n",
       "      <td>22.136229</td>\n",
       "      <td>69.834944</td>\n",
       "      <td>0.120343</td>\n",
       "      <td>1</td>\n",
       "    </tr>\n",
       "    <tr>\n",
       "      <th>1</th>\n",
       "      <td>0.145282</td>\n",
       "      <td>978.76416</td>\n",
       "      <td>85.200147</td>\n",
       "      <td>36.968889</td>\n",
       "      <td>8.138688</td>\n",
       "      <td>3.632190</td>\n",
       "      <td>0.025578</td>\n",
       "      <td>13.517790</td>\n",
       "      <td>1.229900</td>\n",
       "      <td>5496.92824</td>\n",
       "      <td>...</td>\n",
       "      <td>0.173229</td>\n",
       "      <td>0.49706</td>\n",
       "      <td>0.568932</td>\n",
       "      <td>9.292698</td>\n",
       "      <td>72.611063</td>\n",
       "      <td>27981.562750</td>\n",
       "      <td>29.135430</td>\n",
       "      <td>32.131996</td>\n",
       "      <td>21.978000</td>\n",
       "      <td>0</td>\n",
       "    </tr>\n",
       "    <tr>\n",
       "      <th>2</th>\n",
       "      <td>0.470030</td>\n",
       "      <td>2635.10654</td>\n",
       "      <td>85.200147</td>\n",
       "      <td>32.360553</td>\n",
       "      <td>8.138688</td>\n",
       "      <td>6.732840</td>\n",
       "      <td>0.025578</td>\n",
       "      <td>12.824570</td>\n",
       "      <td>1.229900</td>\n",
       "      <td>5135.78024</td>\n",
       "      <td>...</td>\n",
       "      <td>7.709560</td>\n",
       "      <td>0.97556</td>\n",
       "      <td>1.198821</td>\n",
       "      <td>37.077772</td>\n",
       "      <td>88.609437</td>\n",
       "      <td>13676.957810</td>\n",
       "      <td>28.022851</td>\n",
       "      <td>35.192676</td>\n",
       "      <td>0.196941</td>\n",
       "      <td>0</td>\n",
       "    </tr>\n",
       "    <tr>\n",
       "      <th>3</th>\n",
       "      <td>0.252107</td>\n",
       "      <td>3819.65177</td>\n",
       "      <td>120.201618</td>\n",
       "      <td>77.112203</td>\n",
       "      <td>8.138688</td>\n",
       "      <td>3.685344</td>\n",
       "      <td>0.025578</td>\n",
       "      <td>11.053708</td>\n",
       "      <td>1.229900</td>\n",
       "      <td>4169.67738</td>\n",
       "      <td>...</td>\n",
       "      <td>6.122162</td>\n",
       "      <td>0.49706</td>\n",
       "      <td>0.284466</td>\n",
       "      <td>18.529584</td>\n",
       "      <td>82.416803</td>\n",
       "      <td>2094.262452</td>\n",
       "      <td>39.948656</td>\n",
       "      <td>90.493248</td>\n",
       "      <td>0.155829</td>\n",
       "      <td>0</td>\n",
       "    </tr>\n",
       "    <tr>\n",
       "      <th>4</th>\n",
       "      <td>0.380297</td>\n",
       "      <td>3733.04844</td>\n",
       "      <td>85.200147</td>\n",
       "      <td>14.103738</td>\n",
       "      <td>8.138688</td>\n",
       "      <td>3.942255</td>\n",
       "      <td>0.054810</td>\n",
       "      <td>3.396778</td>\n",
       "      <td>102.151980</td>\n",
       "      <td>5728.73412</td>\n",
       "      <td>...</td>\n",
       "      <td>8.153058</td>\n",
       "      <td>48.50134</td>\n",
       "      <td>0.121914</td>\n",
       "      <td>16.408728</td>\n",
       "      <td>146.109943</td>\n",
       "      <td>8524.370502</td>\n",
       "      <td>45.381316</td>\n",
       "      <td>36.262628</td>\n",
       "      <td>0.096614</td>\n",
       "      <td>1</td>\n",
       "    </tr>\n",
       "  </tbody>\n",
       "</table>\n",
       "<p>5 rows × 57 columns</p>\n",
       "</div>"
      ],
      "text/plain": [
       "         AB          AF          AH         AM        AR        AX        AY  \\\n",
       "0  0.209377  3109.03329   85.200147  22.394407  8.138688  0.699861  0.025578   \n",
       "1  0.145282   978.76416   85.200147  36.968889  8.138688  3.632190  0.025578   \n",
       "2  0.470030  2635.10654   85.200147  32.360553  8.138688  6.732840  0.025578   \n",
       "3  0.252107  3819.65177  120.201618  77.112203  8.138688  3.685344  0.025578   \n",
       "4  0.380297  3733.04844   85.200147  14.103738  8.138688  3.942255  0.054810   \n",
       "\n",
       "          AZ          BC         BD   ...        FL        FR        FS  \\\n",
       "0   9.812214    5.555634  4126.58731  ...  7.298162   1.73855  0.094822   \n",
       "1  13.517790    1.229900  5496.92824  ...  0.173229   0.49706  0.568932   \n",
       "2  12.824570    1.229900  5135.78024  ...  7.709560   0.97556  1.198821   \n",
       "3  11.053708    1.229900  4169.67738  ...  6.122162   0.49706  0.284466   \n",
       "4   3.396778  102.151980  5728.73412  ...  8.153058  48.50134  0.121914   \n",
       "\n",
       "          GB          GE            GF         GH         GI         GL  Class  \n",
       "0  11.339138   72.611063   2003.810319  22.136229  69.834944   0.120343      1  \n",
       "1   9.292698   72.611063  27981.562750  29.135430  32.131996  21.978000      0  \n",
       "2  37.077772   88.609437  13676.957810  28.022851  35.192676   0.196941      0  \n",
       "3  18.529584   82.416803   2094.262452  39.948656  90.493248   0.155829      0  \n",
       "4  16.408728  146.109943   8524.370502  45.381316  36.262628   0.096614      1  \n",
       "\n",
       "[5 rows x 57 columns]"
      ]
     },
     "execution_count": 3,
     "metadata": {},
     "output_type": "execute_result"
    }
   ],
   "source": [
    "train_raw = pd.read_csv('/kaggle/input/icr-identify-age-related-conditions/train.csv')\n",
    "test_raw = pd.read_csv('/kaggle/input/icr-identify-age-related-conditions/test.csv')\n",
    "\n",
    "train_ID = train_raw['Id']\n",
    "test_ID = test_raw['Id']\n",
    "\n",
    "train_raw = train_raw.drop(axis='columns', labels='Id')\n",
    "test_raw = test_raw.drop(axis='columns', labels='Id')\n",
    "\n",
    "#confirm data\n",
    "train_raw.head()"
   ]
  },
  {
   "cell_type": "code",
   "execution_count": 4,
   "id": "fb2f82a8",
   "metadata": {
    "execution": {
     "iopub.execute_input": "2023-07-23T18:52:36.649902Z",
     "iopub.status.busy": "2023-07-23T18:52:36.648477Z",
     "iopub.status.idle": "2023-07-23T18:52:36.671719Z",
     "shell.execute_reply": "2023-07-23T18:52:36.670811Z"
    },
    "papermill": {
     "duration": 0.034119,
     "end_time": "2023-07-23T18:52:36.674225",
     "exception": false,
     "start_time": "2023-07-23T18:52:36.640106",
     "status": "completed"
    },
    "tags": []
   },
   "outputs": [
    {
     "name": "stdout",
     "output_type": "stream",
     "text": [
      "NAN in AB:   0\n",
      "NAN in AF:   0\n",
      "NAN in AH:   0\n",
      "NAN in AM:   0\n",
      "NAN in AR:   0\n",
      "NAN in AX:   0\n",
      "NAN in AY:   0\n",
      "NAN in AZ:   0\n",
      "NAN in BC:   0\n",
      "NAN in BD :   0\n",
      "NAN in BN:   0\n",
      "NAN in BP:   0\n",
      "NAN in BQ:   60\n",
      "NAN in BR:   0\n",
      "NAN in BZ:   0\n",
      "NAN in CB:   2\n",
      "NAN in CC:   3\n",
      "NAN in CD :   0\n",
      "NAN in CF:   0\n",
      "NAN in CH:   0\n",
      "NAN in CL:   0\n",
      "NAN in CR:   0\n",
      "NAN in CS:   0\n",
      "NAN in CU:   0\n",
      "NAN in CW :   0\n",
      "NAN in DA:   0\n",
      "NAN in DE:   0\n",
      "NAN in DF:   0\n",
      "NAN in DH:   0\n",
      "NAN in DI:   0\n",
      "NAN in DL:   0\n",
      "NAN in DN:   0\n",
      "NAN in DU:   1\n",
      "NAN in DV:   0\n",
      "NAN in DY:   0\n",
      "NAN in EB:   0\n",
      "NAN in EE:   0\n",
      "NAN in EG:   0\n",
      "NAN in EH:   0\n",
      "NAN in EJ:   0\n",
      "NAN in EL:   60\n",
      "NAN in EP:   0\n",
      "NAN in EU:   0\n",
      "NAN in FC:   1\n",
      "NAN in FD :   0\n",
      "NAN in FE:   0\n",
      "NAN in FI:   0\n",
      "NAN in FL:   1\n",
      "NAN in FR:   0\n",
      "NAN in FS:   2\n",
      "NAN in GB:   0\n",
      "NAN in GE:   0\n",
      "NAN in GF:   0\n",
      "NAN in GH:   0\n",
      "NAN in GI:   0\n",
      "NAN in GL:   1\n",
      "NAN in Class:   0\n"
     ]
    }
   ],
   "source": [
    "for col in train_raw.columns:\n",
    "    print(f\"NAN in {col}:  \", train_raw[col].isna().sum().sum())"
   ]
  },
  {
   "cell_type": "code",
   "execution_count": 5,
   "id": "525ff177",
   "metadata": {
    "execution": {
     "iopub.execute_input": "2023-07-23T18:52:36.690340Z",
     "iopub.status.busy": "2023-07-23T18:52:36.690040Z",
     "iopub.status.idle": "2023-07-23T18:52:36.694041Z",
     "shell.execute_reply": "2023-07-23T18:52:36.693053Z"
    },
    "papermill": {
     "duration": 0.014541,
     "end_time": "2023-07-23T18:52:36.696278",
     "exception": false,
     "start_time": "2023-07-23T18:52:36.681737",
     "status": "completed"
    },
    "tags": []
   },
   "outputs": [],
   "source": [
    "#fcp.hist(df=train_raw, x='AB', kde=True, kde_width=2)"
   ]
  },
  {
   "cell_type": "code",
   "execution_count": 6,
   "id": "4ada0f1a",
   "metadata": {
    "execution": {
     "iopub.execute_input": "2023-07-23T18:52:36.712706Z",
     "iopub.status.busy": "2023-07-23T18:52:36.711914Z",
     "iopub.status.idle": "2023-07-23T18:52:36.878352Z",
     "shell.execute_reply": "2023-07-23T18:52:36.877611Z"
    },
    "papermill": {
     "duration": 0.176972,
     "end_time": "2023-07-23T18:52:36.880612",
     "exception": false,
     "start_time": "2023-07-23T18:52:36.703640",
     "status": "completed"
    },
    "tags": []
   },
   "outputs": [
    {
     "name": "stdout",
     "output_type": "stream",
     "text": [
      "Categorical spread for EJ:\n",
      " B    395\n",
      "A    222\n",
      "Name: EJ, dtype: int64\n",
      "istribution of target:\n",
      " 0    509\n",
      "1    108\n",
      "Name: Class, dtype: int64\n"
     ]
    }
   ],
   "source": [
    "#Seperate out our target feature\n",
    "X = train_raw.iloc[:, :-1]\n",
    "y = train_raw.iloc[:, -1]\n",
    "\n",
    "#Now is a good time to confirm a few things about our data:\n",
    "# 1: lets check how our encoding looks and we can decide if we need a new approach\n",
    "# 2: lets check the distribution of our target feature\n",
    "\n",
    "print(\"Categorical spread for EJ:\\n\", X.EJ.value_counts())\n",
    "print(\"istribution of target:\\n\", y.value_counts())\n",
    "\n",
    "#impute NaN values\n",
    "imputer = KNNImputer(n_neighbors=2, weights='uniform')\n",
    "\n",
    "#Add encoding for our only categorical col\n",
    "encoder = LabelEncoder()\n",
    "X.EJ = encoder.fit_transform(X.EJ)\n",
    "X_imp = imputer.fit_transform(X)\n",
    "X = pd.DataFrame(X_imp, columns=X.columns)\n",
    "X.set_index(train_ID, inplace=True)\n",
    "\n",
    "#Now we'll generate our prediction CSV\n",
    "X_val = test_raw\n",
    "encoder = LabelEncoder()\n",
    "imputer = KNNImputer(n_neighbors=2, weights='uniform')\n",
    "X_val.EJ = encoder.fit_transform(X_val.EJ)\n",
    "X_val_imp = imputer.fit_transform(X_val)\n",
    "X_val = pd.DataFrame(X_val_imp, columns=X_val.columns)\n",
    "X_val.set_index(test_ID, inplace=True)\n",
    "\n",
    "#finally we want to convert our testdata to an xgb.Dmatrix\n",
    "val_index = X_val.index\n",
    "X_val = xgb.DMatrix(X_val)\n",
    "\n",
    "#define problem specific balanced log loss function\n",
    "def balanced_log_loss(y_true, y_pred):\n",
    "    nc = np.bincount(y_true)\n",
    "    return log_loss(y_true, y_pred, sample_weight = 1/nc[y_true], eps=1e-15)"
   ]
  },
  {
   "cell_type": "code",
   "execution_count": 7,
   "id": "851330db",
   "metadata": {
    "execution": {
     "iopub.execute_input": "2023-07-23T18:52:36.898441Z",
     "iopub.status.busy": "2023-07-23T18:52:36.898143Z",
     "iopub.status.idle": "2023-07-23T18:52:36.905498Z",
     "shell.execute_reply": "2023-07-23T18:52:36.904644Z"
    },
    "papermill": {
     "duration": 0.017925,
     "end_time": "2023-07-23T18:52:36.907585",
     "exception": false,
     "start_time": "2023-07-23T18:52:36.889660",
     "status": "completed"
    },
    "tags": []
   },
   "outputs": [
    {
     "data": {
      "text/plain": [
       "'\\n%%time\\n\\n#HYPERPARAM TUNING, make sure to turn it off before submission!!!\\nfrom xgboost import XGBClassifier\\n\\n# Define our classifier\\nclf = XGBClassifier(\\n    learning_rate=0.005,\\n    objective=\\'multi:softprob\\',\\n    num_class=2,\\n    eval_metric=\\'auc\\',\\n    tree_method=\\'gpu_hist\\',\\n    predictor=\\'gpu_predictor\\',\\n    gpu_id=0,\\n    max_bin=623,\\n    max_depth=3,\\n    gamma=2,\\n    reg_lambda=5,\\n    colsample_bytree=0.75,\\n    subsample=0.85,\\n    min_child_weight=5,\\n    n_jobs=-1  # Use all CPU cores\\n)\\n\\n# Create a scorer\\nbalanced_log_loss_scorer = make_scorer(balanced_log_loss, greater_is_better=False, needs_proba=True)\\n\\n# Define our parameter grid\\nparam_grid = {\\n    \\'max_depth\\': [1, 2, 3, 5, 7, 9],  # Increase max_depth for higher complexity\\n    \\'gamma\\': [0.5, 1, 2],  # Vary the minimum loss reduction to create a new split\\n    \\'reg_lambda\\': [1, 5, 10],  # Vary the L2 regularization term\\n    \\'subsample\\': [0.6, 0.8, 1.0],  # Vary the fraction of observations to subsample\\n    \\'colsample_bytree\\': [0.6, 0.8, 1.0]  # Vary the fraction of columns to sample\\n}\\n\\n# Initialize GridSearchCV\\ngrid_clf = GridSearchCV(clf, param_grid, cv=4, scoring=balanced_log_loss_scorer)\\n\\n# Fit GridSearchCV\\ngrid_clf.fit(X, y)\\n\\n# Get the best parameters\\nbest_parameters = grid_clf.best_params_\\n\\nprint(f\"Best parameters: {best_parameters}\")\\n'"
      ]
     },
     "execution_count": 7,
     "metadata": {},
     "output_type": "execute_result"
    }
   ],
   "source": [
    "'''\n",
    "%%time\n",
    "\n",
    "#HYPERPARAM TUNING, make sure to turn it off before submission!!!\n",
    "from xgboost import XGBClassifier\n",
    "\n",
    "# Define our classifier\n",
    "clf = XGBClassifier(\n",
    "    learning_rate=0.005,\n",
    "    objective='multi:softprob',\n",
    "    num_class=2,\n",
    "    eval_metric='auc',\n",
    "    tree_method='gpu_hist',\n",
    "    predictor='gpu_predictor',\n",
    "    gpu_id=0,\n",
    "    max_bin=623,\n",
    "    max_depth=3,\n",
    "    gamma=2,\n",
    "    reg_lambda=5,\n",
    "    colsample_bytree=0.75,\n",
    "    subsample=0.85,\n",
    "    min_child_weight=5,\n",
    "    n_jobs=-1  # Use all CPU cores\n",
    ")\n",
    "\n",
    "# Create a scorer\n",
    "balanced_log_loss_scorer = make_scorer(balanced_log_loss, greater_is_better=False, needs_proba=True)\n",
    "\n",
    "# Define our parameter grid\n",
    "param_grid = {\n",
    "    'max_depth': [1, 2, 3, 5, 7, 9],  # Increase max_depth for higher complexity\n",
    "    'gamma': [0.5, 1, 2],  # Vary the minimum loss reduction to create a new split\n",
    "    'reg_lambda': [1, 5, 10],  # Vary the L2 regularization term\n",
    "    'subsample': [0.6, 0.8, 1.0],  # Vary the fraction of observations to subsample\n",
    "    'colsample_bytree': [0.6, 0.8, 1.0]  # Vary the fraction of columns to sample\n",
    "}\n",
    "\n",
    "# Initialize GridSearchCV\n",
    "grid_clf = GridSearchCV(clf, param_grid, cv=4, scoring=balanced_log_loss_scorer)\n",
    "\n",
    "# Fit GridSearchCV\n",
    "grid_clf.fit(X, y)\n",
    "\n",
    "# Get the best parameters\n",
    "best_parameters = grid_clf.best_params_\n",
    "\n",
    "print(f\"Best parameters: {best_parameters}\")\n",
    "'''\n"
   ]
  },
  {
   "cell_type": "code",
   "execution_count": 8,
   "id": "45515dc1",
   "metadata": {
    "execution": {
     "iopub.execute_input": "2023-07-23T18:52:36.924320Z",
     "iopub.status.busy": "2023-07-23T18:52:36.923588Z",
     "iopub.status.idle": "2023-07-23T18:52:36.931013Z",
     "shell.execute_reply": "2023-07-23T18:52:36.930178Z"
    },
    "papermill": {
     "duration": 0.017813,
     "end_time": "2023-07-23T18:52:36.932910",
     "exception": false,
     "start_time": "2023-07-23T18:52:36.915097",
     "status": "completed"
    },
    "tags": []
   },
   "outputs": [],
   "source": [
    "#setting our tuned values up to use without the sklearn API for later\n",
    "best_parameters = {'colsample_bytree': 1.0, 'gamma': 0.5, 'max_depth': 7, 'reg_lambda': 1, 'subsample': 1.0}\n",
    "\n",
    "\"\"\"\n",
    "xgb_params=  {'learning_rate': 0.005,\n",
    "                'objective': 'multi:softprob',\n",
    "                'num_class': 2,\n",
    "                'eval_metric': 'auc',\n",
    "                'tree_method': 'gpu_hist',\n",
    "                'predictor': 'gpu_predictor',\n",
    "                'gpu_id': 0,\n",
    "                'max_bin': 623,\n",
    "                'max_depth': best_parameters['max_depth'],\n",
    "                'gamma': best_parameters['gamma'],\n",
    "                'reg_lambda': best_parameters['reg_lambda'],\n",
    "                'colsample_bytree': best_parameters['colsample_bytree'],\n",
    "                'subsample': best_parameters['subsample'],\n",
    "                'min_child_weight': 5,\n",
    "             }\n",
    "\"\"\"\n",
    "xgb_params= {'learning_rate': 0.7,\n",
    "                'max_depth': 2,\n",
    "                'tree_method': 'gpu_hist',\n",
    "                'predictor': 'gpu_predictor',\n",
    "                'gpu_id': 0,\n",
    "                'objective': 'multi:softprob',\n",
    "                'num_class': 2,\n",
    "                'min_child_weight': 7,\n",
    "                'max_bin': 100,\n",
    "            }"
   ]
  },
  {
   "cell_type": "code",
   "execution_count": 9,
   "id": "07eb4ff3",
   "metadata": {
    "execution": {
     "iopub.execute_input": "2023-07-23T18:52:36.949388Z",
     "iopub.status.busy": "2023-07-23T18:52:36.949114Z",
     "iopub.status.idle": "2023-07-23T18:52:37.962813Z",
     "shell.execute_reply": "2023-07-23T18:52:37.962117Z"
    },
    "papermill": {
     "duration": 1.024021,
     "end_time": "2023-07-23T18:52:37.964634",
     "exception": false,
     "start_time": "2023-07-23T18:52:36.940613",
     "status": "completed"
    },
    "tags": []
   },
   "outputs": [
    {
     "name": "stderr",
     "output_type": "stream",
     "text": [
      "3it [00:00,  4.15it/s]"
     ]
    },
    {
     "name": "stdout",
     "output_type": "stream",
     "text": [
      "0.362633384562521\n",
      "0.3669391047867859\n",
      "0.3433259341025179\n",
      "0.2713189449225146\n"
     ]
    },
    {
     "name": "stderr",
     "output_type": "stream",
     "text": [
      "5it [00:00,  5.04it/s]"
     ]
    },
    {
     "name": "stdout",
     "output_type": "stream",
     "text": [
      "0.246222179805292\n",
      "Mean balanced log loss: 0.3181351850542224\n",
      "Median best iteration: 9\n",
      "CPU times: user 650 ms, sys: 289 ms, total: 939 ms\n",
      "Wall time: 999 ms\n"
     ]
    },
    {
     "name": "stderr",
     "output_type": "stream",
     "text": [
      "\n"
     ]
    }
   ],
   "source": [
    "%%time\n",
    "\n",
    "train_oof = np.zeros((X[X.columns].shape[0],))\n",
    "test_preds = 0\n",
    "train_oof_shap = np.zeros((X[X.columns].shape[0], X[X.columns].shape[1]+1))\n",
    "test_preds_shap = 0\n",
    "train_oof_shap.shape\n",
    "weights = np.zeros(len(y))\n",
    "\n",
    "NUM_FOLDS = 5\n",
    "early_stopping_rounds = 30\n",
    "kf = KFold(n_splits=NUM_FOLDS, shuffle=True, random_state=0)\n",
    "\n",
    "# List to store the best iteration of each fold\n",
    "best_iterations = []\n",
    "\n",
    "for f, (train_ind, val_ind) in tqdm(enumerate(kf.split(X, y))):\n",
    "        #print(f'Fold {f}')\n",
    "        train_df, val_df = X.iloc[train_ind][X.columns], X.iloc[val_ind][X.columns]\n",
    "        train_target, val_target = y[train_ind], y[val_ind]\n",
    "        \n",
    "        weights = np.zeros(len(train_target))\n",
    "\n",
    "        # 0 is the majority class in this case by a fair ammount\n",
    "        weights[train_target == 0] = 1\n",
    "        weights[train_target == 1] = sum(train_target == 0) / sum(train_target == 1)\n",
    "        \n",
    "        train_df = xgb.DMatrix(train_df, label=train_target, weight=weights)\n",
    "        val_df = xgb.DMatrix(val_df, label=val_target)\n",
    "        \n",
    "        # The watchlist is used for early stopping\n",
    "        watchlist = [(train_df, 'train'), (val_df, 'eval')]\n",
    "\n",
    "        model = xgb.train(xgb_params, train_df, evals=watchlist, \n",
    "                          early_stopping_rounds=early_stopping_rounds, verbose_eval=False)\n",
    "        \n",
    "        # Append the best iteration of this fold to the list\n",
    "        best_iterations.append(model.best_iteration)\n",
    "        \n",
    "        temp_oof = model.predict(val_df, iteration_range=(0, model.best_iteration + 1))[:,1]\n",
    "        temp_oof_shap = model.predict(val_df, iteration_range=(0, model.best_iteration + 1), pred_contribs=True)[:,1]\n",
    "        temp_test = model.predict(X_val, iteration_range=(0, model.best_iteration + 1))[:,1]\n",
    "        temp_test_shap = model.predict(X_val, iteration_range=(0, model.best_iteration + 1), pred_contribs=True)[:,1]\n",
    "\n",
    "        train_oof[val_ind] = temp_oof\n",
    "        test_preds += temp_test/NUM_FOLDS\n",
    "        \n",
    "        train_oof_shap[val_ind, :] = temp_oof_shap\n",
    "        test_preds_shap += temp_test_shap/NUM_FOLDS\n",
    "        \n",
    "        \n",
    "        print(balanced_log_loss(val_target, temp_oof))\n",
    "        \n",
    "print(f\"Mean balanced log loss: {balanced_log_loss(y, train_oof)}\")\n",
    "\n",
    "median_best_iteration = round(np.median(best_iterations))\n",
    "print(f\"Median best iteration: {median_best_iteration}\")"
   ]
  },
  {
   "cell_type": "code",
   "execution_count": 10,
   "id": "6bae08d5",
   "metadata": {
    "execution": {
     "iopub.execute_input": "2023-07-23T18:52:37.982914Z",
     "iopub.status.busy": "2023-07-23T18:52:37.982411Z",
     "iopub.status.idle": "2023-07-23T18:52:38.012146Z",
     "shell.execute_reply": "2023-07-23T18:52:38.011510Z"
    },
    "papermill": {
     "duration": 0.040987,
     "end_time": "2023-07-23T18:52:38.014107",
     "exception": false,
     "start_time": "2023-07-23T18:52:37.973120",
     "status": "completed"
    },
    "tags": []
   },
   "outputs": [],
   "source": [
    "#now that we have assessed the model we want to train it on all of our availible data:\n",
    "weights = np.zeros(len(y))\n",
    "\n",
    "# 0 is the majority class in this case by a fair ammount\n",
    "weights[y == 0] = 1\n",
    "weights[y == 1] = sum(y == 0) / sum(y == 1)\n",
    "\n",
    "full_train_df = xgb.DMatrix(X, label=y, weight=weights)\n",
    "final_model = xgb.train(xgb_params, full_train_df, num_boost_round=median_best_iteration)"
   ]
  },
  {
   "cell_type": "code",
   "execution_count": 11,
   "id": "aa551496",
   "metadata": {
    "execution": {
     "iopub.execute_input": "2023-07-23T18:52:38.032605Z",
     "iopub.status.busy": "2023-07-23T18:52:38.032335Z",
     "iopub.status.idle": "2023-07-23T18:52:38.039816Z",
     "shell.execute_reply": "2023-07-23T18:52:38.038999Z"
    },
    "papermill": {
     "duration": 0.01871,
     "end_time": "2023-07-23T18:52:38.041739",
     "exception": false,
     "start_time": "2023-07-23T18:52:38.023029",
     "status": "completed"
    },
    "tags": []
   },
   "outputs": [],
   "source": [
    "y_preds = model.predict(X_val, output_margin=False)\n",
    "\n",
    "submission = pd.DataFrame()\n",
    "submission[\"Id\"] = val_index\n",
    "\n",
    "submission[\"class_0\"] = y_preds[:,0]\n",
    "submission[\"class_1\"] = y_preds[:,1]\n"
   ]
  },
  {
   "cell_type": "code",
   "execution_count": 12,
   "id": "ea78856b",
   "metadata": {
    "execution": {
     "iopub.execute_input": "2023-07-23T18:52:38.059231Z",
     "iopub.status.busy": "2023-07-23T18:52:38.058978Z",
     "iopub.status.idle": "2023-07-23T18:52:38.067788Z",
     "shell.execute_reply": "2023-07-23T18:52:38.066865Z"
    },
    "papermill": {
     "duration": 0.019707,
     "end_time": "2023-07-23T18:52:38.069674",
     "exception": false,
     "start_time": "2023-07-23T18:52:38.049967",
     "status": "completed"
    },
    "tags": []
   },
   "outputs": [
    {
     "data": {
      "text/html": [
       "<div>\n",
       "<style scoped>\n",
       "    .dataframe tbody tr th:only-of-type {\n",
       "        vertical-align: middle;\n",
       "    }\n",
       "\n",
       "    .dataframe tbody tr th {\n",
       "        vertical-align: top;\n",
       "    }\n",
       "\n",
       "    .dataframe thead th {\n",
       "        text-align: right;\n",
       "    }\n",
       "</style>\n",
       "<table border=\"1\" class=\"dataframe\">\n",
       "  <thead>\n",
       "    <tr style=\"text-align: right;\">\n",
       "      <th></th>\n",
       "      <th>Id</th>\n",
       "      <th>class_0</th>\n",
       "      <th>class_1</th>\n",
       "    </tr>\n",
       "  </thead>\n",
       "  <tbody>\n",
       "    <tr>\n",
       "      <th>0</th>\n",
       "      <td>00eed32682bb</td>\n",
       "      <td>0.832918</td>\n",
       "      <td>0.167082</td>\n",
       "    </tr>\n",
       "    <tr>\n",
       "      <th>1</th>\n",
       "      <td>010ebe33f668</td>\n",
       "      <td>0.832918</td>\n",
       "      <td>0.167082</td>\n",
       "    </tr>\n",
       "    <tr>\n",
       "      <th>2</th>\n",
       "      <td>02fa521e1838</td>\n",
       "      <td>0.832918</td>\n",
       "      <td>0.167082</td>\n",
       "    </tr>\n",
       "    <tr>\n",
       "      <th>3</th>\n",
       "      <td>040e15f562a2</td>\n",
       "      <td>0.832918</td>\n",
       "      <td>0.167082</td>\n",
       "    </tr>\n",
       "    <tr>\n",
       "      <th>4</th>\n",
       "      <td>046e85c7cc7f</td>\n",
       "      <td>0.832918</td>\n",
       "      <td>0.167082</td>\n",
       "    </tr>\n",
       "  </tbody>\n",
       "</table>\n",
       "</div>"
      ],
      "text/plain": [
       "             Id   class_0   class_1\n",
       "0  00eed32682bb  0.832918  0.167082\n",
       "1  010ebe33f668  0.832918  0.167082\n",
       "2  02fa521e1838  0.832918  0.167082\n",
       "3  040e15f562a2  0.832918  0.167082\n",
       "4  046e85c7cc7f  0.832918  0.167082"
      ]
     },
     "execution_count": 12,
     "metadata": {},
     "output_type": "execute_result"
    }
   ],
   "source": [
    "submission.head()"
   ]
  },
  {
   "cell_type": "code",
   "execution_count": 13,
   "id": "d713b2fa",
   "metadata": {
    "execution": {
     "iopub.execute_input": "2023-07-23T18:52:38.088191Z",
     "iopub.status.busy": "2023-07-23T18:52:38.087487Z",
     "iopub.status.idle": "2023-07-23T18:52:38.093821Z",
     "shell.execute_reply": "2023-07-23T18:52:38.093005Z"
    },
    "papermill": {
     "duration": 0.017592,
     "end_time": "2023-07-23T18:52:38.095741",
     "exception": false,
     "start_time": "2023-07-23T18:52:38.078149",
     "status": "completed"
    },
    "tags": []
   },
   "outputs": [],
   "source": [
    "submission.to_csv(\"submission.csv\",header=True,index=False)"
   ]
  },
  {
   "cell_type": "markdown",
   "id": "6cbeed11",
   "metadata": {
    "papermill": {
     "duration": 0.008048,
     "end_time": "2023-07-23T18:52:38.112480",
     "exception": false,
     "start_time": "2023-07-23T18:52:38.104432",
     "status": "completed"
    },
    "tags": []
   },
   "source": [
    "`\n",
    "%%time\n",
    "#simple testing ~\n",
    "pipeline = Pipeline([\n",
    "    ('xgb', XGBClassifier(eval_metric='aucpr', scale_pos_weight = ratio))\n",
    "])\n",
    "\n",
    "# Specify the hyperparameters and their values\n",
    "param_grid = {\n",
    "    'xgb__n_estimators': [50, 100, 150],\n",
    "    'xgb__max_depth': [2, 4, 6],\n",
    "    'xgb__learning_rate': [0.01, 0.1, 0.2]\n",
    "}\n",
    "\n",
    "# Create a KFold object\n",
    "kf = KFold(n_splits=5, random_state=42, shuffle=True)\n",
    "\n",
    "# Create a GridSearchCV object\n",
    "grid_search = GridSearchCV(pipeline, param_grid, cv=kf, scoring='roc_auc')\n",
    "\n",
    "# Fit the GridSearchCV object to the data\n",
    "grid_search.fit(X, y)\n",
    "\n",
    "print(f\"Best parameters: {grid_search.best_params_}\")\n",
    "print(f\"Best score: {grid_search.best_score_:.2f}\")\n",
    "`"
   ]
  },
  {
   "cell_type": "code",
   "execution_count": 14,
   "id": "9ded8e3e",
   "metadata": {
    "execution": {
     "iopub.execute_input": "2023-07-23T18:52:38.130512Z",
     "iopub.status.busy": "2023-07-23T18:52:38.129790Z",
     "iopub.status.idle": "2023-07-23T18:52:38.135598Z",
     "shell.execute_reply": "2023-07-23T18:52:38.134793Z"
    },
    "papermill": {
     "duration": 0.0168,
     "end_time": "2023-07-23T18:52:38.137545",
     "exception": false,
     "start_time": "2023-07-23T18:52:38.120745",
     "status": "completed"
    },
    "tags": []
   },
   "outputs": [],
   "source": [
    "np.save('train_oof', train_oof)\n",
    "np.save('test_preds', test_preds)\n",
    "np.save('train_oof_shap', train_oof_shap)\n",
    "np.save('test_preds_shap', test_preds_shap)"
   ]
  },
  {
   "cell_type": "code",
   "execution_count": 15,
   "id": "4cfe855d",
   "metadata": {
    "execution": {
     "iopub.execute_input": "2023-07-23T18:52:38.155828Z",
     "iopub.status.busy": "2023-07-23T18:52:38.155326Z",
     "iopub.status.idle": "2023-07-23T18:52:43.176543Z",
     "shell.execute_reply": "2023-07-23T18:52:43.175585Z"
    },
    "papermill": {
     "duration": 5.033603,
     "end_time": "2023-07-23T18:52:43.179497",
     "exception": false,
     "start_time": "2023-07-23T18:52:38.145894",
     "status": "completed"
    },
    "tags": []
   },
   "outputs": [],
   "source": [
    "%matplotlib inline\n",
    "import cudf, cuml\n",
    "import cupy as cp\n",
    "\n",
    "from cuml.manifold import TSNE, UMAP\n",
    "import matplotlib.pyplot as plt\n",
    "from matplotlib.pyplot import ylim, xlim"
   ]
  },
  {
   "cell_type": "code",
   "execution_count": 16,
   "id": "c2993207",
   "metadata": {
    "execution": {
     "iopub.execute_input": "2023-07-23T18:52:43.205534Z",
     "iopub.status.busy": "2023-07-23T18:52:43.205176Z",
     "iopub.status.idle": "2023-07-23T18:52:48.335977Z",
     "shell.execute_reply": "2023-07-23T18:52:48.335079Z"
    },
    "papermill": {
     "duration": 5.146136,
     "end_time": "2023-07-23T18:52:48.338254",
     "exception": false,
     "start_time": "2023-07-23T18:52:43.192118",
     "status": "completed"
    },
    "tags": []
   },
   "outputs": [
    {
     "data": {
      "text/html": [
       "<div>\n",
       "<style scoped>\n",
       "    .dataframe tbody tr th:only-of-type {\n",
       "        vertical-align: middle;\n",
       "    }\n",
       "\n",
       "    .dataframe tbody tr th {\n",
       "        vertical-align: top;\n",
       "    }\n",
       "\n",
       "    .dataframe thead th {\n",
       "        text-align: right;\n",
       "    }\n",
       "</style>\n",
       "<table border=\"1\" class=\"dataframe\">\n",
       "  <thead>\n",
       "    <tr style=\"text-align: right;\">\n",
       "      <th></th>\n",
       "      <th>Id</th>\n",
       "      <th>AB</th>\n",
       "      <th>AF</th>\n",
       "      <th>AH</th>\n",
       "      <th>AM</th>\n",
       "      <th>AR</th>\n",
       "      <th>AX</th>\n",
       "      <th>AY</th>\n",
       "      <th>AZ</th>\n",
       "      <th>BC</th>\n",
       "      <th>...</th>\n",
       "      <th>FL</th>\n",
       "      <th>FR</th>\n",
       "      <th>FS</th>\n",
       "      <th>GB</th>\n",
       "      <th>GE</th>\n",
       "      <th>GF</th>\n",
       "      <th>GH</th>\n",
       "      <th>GI</th>\n",
       "      <th>GL</th>\n",
       "      <th>Class</th>\n",
       "    </tr>\n",
       "  </thead>\n",
       "  <tbody>\n",
       "    <tr>\n",
       "      <th>0</th>\n",
       "      <td>000ff2bfdfe9</td>\n",
       "      <td>0.209377</td>\n",
       "      <td>3109.03329</td>\n",
       "      <td>85.200147</td>\n",
       "      <td>22.394407</td>\n",
       "      <td>8.138688</td>\n",
       "      <td>0.699861</td>\n",
       "      <td>0.025578</td>\n",
       "      <td>9.812214</td>\n",
       "      <td>5.555634</td>\n",
       "      <td>...</td>\n",
       "      <td>7.298162</td>\n",
       "      <td>1.73855</td>\n",
       "      <td>0.094822</td>\n",
       "      <td>11.339138</td>\n",
       "      <td>72.611063</td>\n",
       "      <td>2003.810319</td>\n",
       "      <td>22.136229</td>\n",
       "      <td>69.834944</td>\n",
       "      <td>0.120343</td>\n",
       "      <td>1</td>\n",
       "    </tr>\n",
       "    <tr>\n",
       "      <th>1</th>\n",
       "      <td>007255e47698</td>\n",
       "      <td>0.145282</td>\n",
       "      <td>978.76416</td>\n",
       "      <td>85.200147</td>\n",
       "      <td>36.968889</td>\n",
       "      <td>8.138688</td>\n",
       "      <td>3.632190</td>\n",
       "      <td>0.025578</td>\n",
       "      <td>13.517790</td>\n",
       "      <td>1.229900</td>\n",
       "      <td>...</td>\n",
       "      <td>0.173229</td>\n",
       "      <td>0.49706</td>\n",
       "      <td>0.568932</td>\n",
       "      <td>9.292698</td>\n",
       "      <td>72.611063</td>\n",
       "      <td>27981.562750</td>\n",
       "      <td>29.135430</td>\n",
       "      <td>32.131996</td>\n",
       "      <td>21.978000</td>\n",
       "      <td>0</td>\n",
       "    </tr>\n",
       "    <tr>\n",
       "      <th>2</th>\n",
       "      <td>013f2bd269f5</td>\n",
       "      <td>0.470030</td>\n",
       "      <td>2635.10654</td>\n",
       "      <td>85.200147</td>\n",
       "      <td>32.360553</td>\n",
       "      <td>8.138688</td>\n",
       "      <td>6.732840</td>\n",
       "      <td>0.025578</td>\n",
       "      <td>12.824570</td>\n",
       "      <td>1.229900</td>\n",
       "      <td>...</td>\n",
       "      <td>7.709560</td>\n",
       "      <td>0.97556</td>\n",
       "      <td>1.198821</td>\n",
       "      <td>37.077772</td>\n",
       "      <td>88.609437</td>\n",
       "      <td>13676.957810</td>\n",
       "      <td>28.022851</td>\n",
       "      <td>35.192676</td>\n",
       "      <td>0.196941</td>\n",
       "      <td>0</td>\n",
       "    </tr>\n",
       "    <tr>\n",
       "      <th>3</th>\n",
       "      <td>043ac50845d5</td>\n",
       "      <td>0.252107</td>\n",
       "      <td>3819.65177</td>\n",
       "      <td>120.201618</td>\n",
       "      <td>77.112203</td>\n",
       "      <td>8.138688</td>\n",
       "      <td>3.685344</td>\n",
       "      <td>0.025578</td>\n",
       "      <td>11.053708</td>\n",
       "      <td>1.229900</td>\n",
       "      <td>...</td>\n",
       "      <td>6.122162</td>\n",
       "      <td>0.49706</td>\n",
       "      <td>0.284466</td>\n",
       "      <td>18.529584</td>\n",
       "      <td>82.416803</td>\n",
       "      <td>2094.262452</td>\n",
       "      <td>39.948656</td>\n",
       "      <td>90.493248</td>\n",
       "      <td>0.155829</td>\n",
       "      <td>0</td>\n",
       "    </tr>\n",
       "    <tr>\n",
       "      <th>4</th>\n",
       "      <td>044fb8a146ec</td>\n",
       "      <td>0.380297</td>\n",
       "      <td>3733.04844</td>\n",
       "      <td>85.200147</td>\n",
       "      <td>14.103738</td>\n",
       "      <td>8.138688</td>\n",
       "      <td>3.942255</td>\n",
       "      <td>0.054810</td>\n",
       "      <td>3.396778</td>\n",
       "      <td>102.151980</td>\n",
       "      <td>...</td>\n",
       "      <td>8.153058</td>\n",
       "      <td>48.50134</td>\n",
       "      <td>0.121914</td>\n",
       "      <td>16.408728</td>\n",
       "      <td>146.109943</td>\n",
       "      <td>8524.370502</td>\n",
       "      <td>45.381316</td>\n",
       "      <td>36.262628</td>\n",
       "      <td>0.096614</td>\n",
       "      <td>1</td>\n",
       "    </tr>\n",
       "  </tbody>\n",
       "</table>\n",
       "<p>5 rows × 58 columns</p>\n",
       "</div>"
      ],
      "text/plain": [
       "             Id        AB          AF          AH         AM        AR  \\\n",
       "0  000ff2bfdfe9  0.209377  3109.03329   85.200147  22.394407  8.138688   \n",
       "1  007255e47698  0.145282   978.76416   85.200147  36.968889  8.138688   \n",
       "2  013f2bd269f5  0.470030  2635.10654   85.200147  32.360553  8.138688   \n",
       "3  043ac50845d5  0.252107  3819.65177  120.201618  77.112203  8.138688   \n",
       "4  044fb8a146ec  0.380297  3733.04844   85.200147  14.103738  8.138688   \n",
       "\n",
       "         AX        AY         AZ          BC  ...        FL        FR  \\\n",
       "0  0.699861  0.025578   9.812214    5.555634  ...  7.298162   1.73855   \n",
       "1  3.632190  0.025578  13.517790    1.229900  ...  0.173229   0.49706   \n",
       "2  6.732840  0.025578  12.824570    1.229900  ...  7.709560   0.97556   \n",
       "3  3.685344  0.025578  11.053708    1.229900  ...  6.122162   0.49706   \n",
       "4  3.942255  0.054810   3.396778  102.151980  ...  8.153058  48.50134   \n",
       "\n",
       "         FS         GB          GE            GF         GH         GI  \\\n",
       "0  0.094822  11.339138   72.611063   2003.810319  22.136229  69.834944   \n",
       "1  0.568932   9.292698   72.611063  27981.562750  29.135430  32.131996   \n",
       "2  1.198821  37.077772   88.609437  13676.957810  28.022851  35.192676   \n",
       "3  0.284466  18.529584   82.416803   2094.262452  39.948656  90.493248   \n",
       "4  0.121914  16.408728  146.109943   8524.370502  45.381316  36.262628   \n",
       "\n",
       "          GL  Class  \n",
       "0   0.120343      1  \n",
       "1  21.978000      0  \n",
       "2   0.196941      0  \n",
       "3   0.155829      0  \n",
       "4   0.096614      1  \n",
       "\n",
       "[5 rows x 58 columns]"
      ]
     },
     "execution_count": 16,
     "metadata": {},
     "output_type": "execute_result"
    }
   ],
   "source": [
    "train_df = cudf.read_csv('/kaggle/input/icr-identify-age-related-conditions/train.csv')\n",
    "train_df.head()"
   ]
  },
  {
   "cell_type": "code",
   "execution_count": 17,
   "id": "57b86e6b",
   "metadata": {
    "execution": {
     "iopub.execute_input": "2023-07-23T18:52:48.358594Z",
     "iopub.status.busy": "2023-07-23T18:52:48.358310Z",
     "iopub.status.idle": "2023-07-23T18:52:48.366435Z",
     "shell.execute_reply": "2023-07-23T18:52:48.365607Z"
    },
    "papermill": {
     "duration": 0.020579,
     "end_time": "2023-07-23T18:52:48.368534",
     "exception": false,
     "start_time": "2023-07-23T18:52:48.347955",
     "status": "completed"
    },
    "tags": []
   },
   "outputs": [],
   "source": [
    "train = cp.load('/kaggle/working/train_oof_shap.npy')\n",
    "test = cp.load('/kaggle/working/test_preds_shap.npy')"
   ]
  },
  {
   "cell_type": "code",
   "execution_count": 18,
   "id": "9efcb39a",
   "metadata": {
    "execution": {
     "iopub.execute_input": "2023-07-23T18:52:48.387605Z",
     "iopub.status.busy": "2023-07-23T18:52:48.386937Z",
     "iopub.status.idle": "2023-07-23T18:52:49.200429Z",
     "shell.execute_reply": "2023-07-23T18:52:49.199340Z"
    },
    "papermill": {
     "duration": 0.825712,
     "end_time": "2023-07-23T18:52:49.203049",
     "exception": false,
     "start_time": "2023-07-23T18:52:48.377337",
     "status": "completed"
    },
    "tags": []
   },
   "outputs": [
    {
     "data": {
      "text/plain": [
       "(622, 57)"
      ]
     },
     "execution_count": 18,
     "metadata": {},
     "output_type": "execute_result"
    }
   ],
   "source": [
    "train_test = cp.vstack([train, test])\n",
    "train_test.shape"
   ]
  },
  {
   "cell_type": "code",
   "execution_count": 19,
   "id": "f59e1602",
   "metadata": {
    "execution": {
     "iopub.execute_input": "2023-07-23T18:52:49.222715Z",
     "iopub.status.busy": "2023-07-23T18:52:49.222426Z",
     "iopub.status.idle": "2023-07-23T18:53:01.870912Z",
     "shell.execute_reply": "2023-07-23T18:53:01.869929Z"
    },
    "papermill": {
     "duration": 12.660695,
     "end_time": "2023-07-23T18:53:01.873154",
     "exception": false,
     "start_time": "2023-07-23T18:52:49.212459",
     "status": "completed"
    },
    "tags": []
   },
   "outputs": [
    {
     "name": "stderr",
     "output_type": "stream",
     "text": [
      "/opt/conda/lib/python3.10/site-packages/cuml/internals/api_decorators.py:344: UserWarning: Starting from version 22.04, the default method of TSNE is 'fft'.\n",
      "  return func(**kwargs)\n"
     ]
    },
    {
     "name": "stdout",
     "output_type": "stream",
     "text": [
      "CPU times: user 11.2 s, sys: 313 ms, total: 11.6 s\n",
      "Wall time: 12.6 s\n"
     ]
    }
   ],
   "source": [
    "%%time\n",
    "tsne = TSNE(n_components=2)\n",
    "train_2D = tsne.fit_transform(train_test)"
   ]
  },
  {
   "cell_type": "code",
   "execution_count": 20,
   "id": "2c076a99",
   "metadata": {
    "execution": {
     "iopub.execute_input": "2023-07-23T18:53:01.894629Z",
     "iopub.status.busy": "2023-07-23T18:53:01.893798Z",
     "iopub.status.idle": "2023-07-23T18:53:02.165137Z",
     "shell.execute_reply": "2023-07-23T18:53:02.164225Z"
    },
    "papermill": {
     "duration": 0.284685,
     "end_time": "2023-07-23T18:53:02.167275",
     "exception": false,
     "start_time": "2023-07-23T18:53:01.882590",
     "status": "completed"
    },
    "tags": []
   },
   "outputs": [
    {
     "data": {
      "text/plain": [
       "<matplotlib.collections.PathCollection at 0x7c687da13c70>"
      ]
     },
     "execution_count": 20,
     "metadata": {},
     "output_type": "execute_result"
    },
    {
     "data": {
      "image/png": "[encoded data removed]",
      "text/plain": [
       "<Figure size 640x480 with 1 Axes>"
      ]
     },
     "metadata": {},
     "output_type": "display_data"
    }
   ],
   "source": [
    "plt.scatter(train_2D[:,0].get(), train_2D[:,1].get(), s = 0.8)"
   ]
  },
  {
   "cell_type": "code",
   "execution_count": 21,
   "id": "43fd8089",
   "metadata": {
    "execution": {
     "iopub.execute_input": "2023-07-23T18:53:02.188729Z",
     "iopub.status.busy": "2023-07-23T18:53:02.187750Z",
     "iopub.status.idle": "2023-07-23T18:53:02.272921Z",
     "shell.execute_reply": "2023-07-23T18:53:02.271960Z"
    },
    "papermill": {
     "duration": 0.097884,
     "end_time": "2023-07-23T18:53:02.274897",
     "exception": false,
     "start_time": "2023-07-23T18:53:02.177013",
     "status": "completed"
    },
    "tags": []
   },
   "outputs": [
    {
     "name": "stdout",
     "output_type": "stream",
     "text": [
      "CPU times: user 73.5 ms, sys: 5.93 ms, total: 79.4 ms\n",
      "Wall time: 78.2 ms\n"
     ]
    }
   ],
   "source": [
    "%%time\n",
    "tsne = TSNE(n_components=2)\n",
    "train_2D = tsne.fit_transform(train)"
   ]
  },
  {
   "cell_type": "code",
   "execution_count": 22,
   "id": "24d26054",
   "metadata": {
    "execution": {
     "iopub.execute_input": "2023-07-23T18:53:02.296246Z",
     "iopub.status.busy": "2023-07-23T18:53:02.295430Z",
     "iopub.status.idle": "2023-07-23T18:53:02.558418Z",
     "shell.execute_reply": "2023-07-23T18:53:02.557546Z"
    },
    "papermill": {
     "duration": 0.275908,
     "end_time": "2023-07-23T18:53:02.560693",
     "exception": false,
     "start_time": "2023-07-23T18:53:02.284785",
     "status": "completed"
    },
    "tags": []
   },
   "outputs": [
    {
     "data": {
      "text/plain": [
       "<matplotlib.collections.PathCollection at 0x7c694dff7820>"
      ]
     },
     "execution_count": 22,
     "metadata": {},
     "output_type": "execute_result"
    },
    {
     "data": {
      "image/png": "[encoded data removed]",
      "text/plain": [
       "<Figure size 640x480 with 1 Axes>"
      ]
     },
     "metadata": {},
     "output_type": "display_data"
    }
   ],
   "source": [
    "plt.scatter(train_2D[:,0].get(), train_2D[:,1].get(), s = 0.8)"
   ]
  },
  {
   "cell_type": "code",
   "execution_count": 23,
   "id": "5f9c28c6",
   "metadata": {
    "execution": {
     "iopub.execute_input": "2023-07-23T18:53:02.582572Z",
     "iopub.status.busy": "2023-07-23T18:53:02.582285Z",
     "iopub.status.idle": "2023-07-23T18:53:02.901283Z",
     "shell.execute_reply": "2023-07-23T18:53:02.900278Z"
    },
    "papermill": {
     "duration": 0.332233,
     "end_time": "2023-07-23T18:53:02.903381",
     "exception": false,
     "start_time": "2023-07-23T18:53:02.571148",
     "status": "completed"
    },
    "tags": []
   },
   "outputs": [
    {
     "data": {
      "text/plain": [
       "<matplotlib.collections.PathCollection at 0x7c694d58d900>"
      ]
     },
     "execution_count": 23,
     "metadata": {},
     "output_type": "execute_result"
    },
    {
     "data": {
      "image/png": "[encoded data removed]",
      "text/plain": [
       "<Figure size 640x480 with 1 Axes>"
      ]
     },
     "metadata": {},
     "output_type": "display_data"
    }
   ],
   "source": [
    "plt.scatter(train_2D[:,0].get(), train_2D[:,1].get(), c=train_df['Class'].values.get(), s = 0.8)"
   ]
  },
  {
   "cell_type": "code",
   "execution_count": 24,
   "id": "4d8a387b",
   "metadata": {
    "execution": {
     "iopub.execute_input": "2023-07-23T18:53:02.926456Z",
     "iopub.status.busy": "2023-07-23T18:53:02.925784Z",
     "iopub.status.idle": "2023-07-23T18:53:04.488370Z",
     "shell.execute_reply": "2023-07-23T18:53:04.487220Z"
    },
    "papermill": {
     "duration": 1.576088,
     "end_time": "2023-07-23T18:53:04.490511",
     "exception": false,
     "start_time": "2023-07-23T18:53:02.914423",
     "status": "completed"
    },
    "tags": []
   },
   "outputs": [
    {
     "name": "stdout",
     "output_type": "stream",
     "text": [
      "CPU times: user 869 ms, sys: 133 ms, total: 1 s\n",
      "Wall time: 1.56 s\n"
     ]
    }
   ],
   "source": [
    "%%time\n",
    "umap = UMAP(n_components=2)\n",
    "train_2D = umap.fit_transform(train)"
   ]
  },
  {
   "cell_type": "code",
   "execution_count": 25,
   "id": "24d40424",
   "metadata": {
    "execution": {
     "iopub.execute_input": "2023-07-23T18:53:04.513866Z",
     "iopub.status.busy": "2023-07-23T18:53:04.512922Z",
     "iopub.status.idle": "2023-07-23T18:53:05.018369Z",
     "shell.execute_reply": "2023-07-23T18:53:05.017472Z"
    },
    "papermill": {
     "duration": 0.519246,
     "end_time": "2023-07-23T18:53:05.020608",
     "exception": false,
     "start_time": "2023-07-23T18:53:04.501362",
     "status": "completed"
    },
    "tags": []
   },
   "outputs": [
    {
     "data": {
      "text/plain": [
       "<matplotlib.collections.PathCollection at 0x7c694d5ff250>"
      ]
     },
     "execution_count": 25,
     "metadata": {},
     "output_type": "execute_result"
    },
    {
     "data": {
      "image/png": "[encoded data removed]",
      "text/plain": [
       "<Figure size 640x480 with 1 Axes>"
      ]
     },
     "metadata": {},
     "output_type": "display_data"
    }
   ],
   "source": [
    "plt.scatter(train_2D[:,0].get(), train_2D[:,1].get(), c=train_df['Class'].values.get(), s = 0.8)"
   ]
  }
 ],
 "metadata": {
  "kernelspec": {
   "display_name": "Python 3",
   "language": "python",
   "name": "python3"
  },
  "language_info": {
   "codemirror_mode": {
    "name": "ipython",
    "version": 3
   },
   "file_extension": ".py",
   "mimetype": "text/x-python",
   "name": "python",
   "nbconvert_exporter": "python",
   "pygments_lexer": "ipython3",
   "version": "3.10.10"
  },
  "papermill": {
   "default_parameters": {},
   "duration": 42.666198,
   "end_time": "2023-07-23T18:53:07.261815",
   "environment_variables": {},
   "exception": null,
   "input_path": "__notebook__.ipynb",
   "output_path": "__notebook__.ipynb",
   "parameters": {},
   "start_time": "2023-07-23T18:52:24.595617",
   "version": "2.4.0"
  }
 },
 "nbformat": 4,
 "nbformat_minor": 5
}
