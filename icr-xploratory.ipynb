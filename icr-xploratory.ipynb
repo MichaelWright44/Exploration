{
 "cells": [
  {
   "cell_type": "code",
   "execution_count": 1,
   "id": "62a9615f",
   "metadata": {
    "execution": {
     "iopub.execute_input": "2023-07-09T20:43:05.606891Z",
     "iopub.status.busy": "2023-07-09T20:43:05.606227Z",
     "iopub.status.idle": "2023-07-09T20:43:05.610905Z",
     "shell.execute_reply": "2023-07-09T20:43:05.610103Z"
    },
    "papermill": {
     "duration": 0.017118,
     "end_time": "2023-07-09T20:43:05.614885",
     "exception": false,
     "start_time": "2023-07-09T20:43:05.597767",
     "status": "completed"
    },
    "tags": []
   },
   "outputs": [],
   "source": [
    "#Required Installs\n",
    "#!pip install fivecentplots # will need to remove for submission"
   ]
  },
  {
   "cell_type": "code",
   "execution_count": 2,
   "id": "c1807112",
   "metadata": {
    "execution": {
     "iopub.execute_input": "2023-07-09T20:43:05.629450Z",
     "iopub.status.busy": "2023-07-09T20:43:05.629069Z",
     "iopub.status.idle": "2023-07-09T20:43:07.085612Z",
     "shell.execute_reply": "2023-07-09T20:43:07.084615Z"
    },
    "papermill": {
     "duration": 1.466241,
     "end_time": "2023-07-09T20:43:07.087992",
     "exception": false,
     "start_time": "2023-07-09T20:43:05.621751",
     "status": "completed"
    },
    "tags": []
   },
   "outputs": [],
   "source": [
    "#Standard Imports\n",
    "import os\n",
    "\n",
    "#Third Party Imports\n",
    "from sklearn.metrics import accuracy_score, log_loss, roc_auc_score\n",
    "import xgboost as xgb\n",
    "#import fivecentplots as fcp #clean data vis library for easy pandas integration | will need to remove for submission\n",
    "from sklearn.preprocessing import LabelEncoder\n",
    "import numpy as np\n",
    "import pandas as pd\n",
    "from sklearn.pipeline import Pipeline\n",
    "import seaborn as sns\n",
    "from tqdm import tqdm\n",
    "from sklearn.model_selection import cross_val_score, KFold, train_test_split, GridSearchCV\n"
   ]
  },
  {
   "cell_type": "code",
   "execution_count": 3,
   "id": "7a59722f",
   "metadata": {
    "execution": {
     "iopub.execute_input": "2023-07-09T20:43:07.103127Z",
     "iopub.status.busy": "2023-07-09T20:43:07.102218Z",
     "iopub.status.idle": "2023-07-09T20:43:07.167895Z",
     "shell.execute_reply": "2023-07-09T20:43:07.167007Z"
    },
    "papermill": {
     "duration": 0.075258,
     "end_time": "2023-07-09T20:43:07.170008",
     "exception": false,
     "start_time": "2023-07-09T20:43:07.094750",
     "status": "completed"
    },
    "tags": []
   },
   "outputs": [
    {
     "data": {
      "text/html": [
       "<div>\n",
       "<style scoped>\n",
       "    .dataframe tbody tr th:only-of-type {\n",
       "        vertical-align: middle;\n",
       "    }\n",
       "\n",
       "    .dataframe tbody tr th {\n",
       "        vertical-align: top;\n",
       "    }\n",
       "\n",
       "    .dataframe thead th {\n",
       "        text-align: right;\n",
       "    }\n",
       "</style>\n",
       "<table border=\"1\" class=\"dataframe\">\n",
       "  <thead>\n",
       "    <tr style=\"text-align: right;\">\n",
       "      <th></th>\n",
       "      <th>AB</th>\n",
       "      <th>AF</th>\n",
       "      <th>AH</th>\n",
       "      <th>AM</th>\n",
       "      <th>AR</th>\n",
       "      <th>AX</th>\n",
       "      <th>AY</th>\n",
       "      <th>AZ</th>\n",
       "      <th>BC</th>\n",
       "      <th>BD</th>\n",
       "      <th>...</th>\n",
       "      <th>FL</th>\n",
       "      <th>FR</th>\n",
       "      <th>FS</th>\n",
       "      <th>GB</th>\n",
       "      <th>GE</th>\n",
       "      <th>GF</th>\n",
       "      <th>GH</th>\n",
       "      <th>GI</th>\n",
       "      <th>GL</th>\n",
       "      <th>Class</th>\n",
       "    </tr>\n",
       "    <tr>\n",
       "      <th>Id</th>\n",
       "      <th></th>\n",
       "      <th></th>\n",
       "      <th></th>\n",
       "      <th></th>\n",
       "      <th></th>\n",
       "      <th></th>\n",
       "      <th></th>\n",
       "      <th></th>\n",
       "      <th></th>\n",
       "      <th></th>\n",
       "      <th></th>\n",
       "      <th></th>\n",
       "      <th></th>\n",
       "      <th></th>\n",
       "      <th></th>\n",
       "      <th></th>\n",
       "      <th></th>\n",
       "      <th></th>\n",
       "      <th></th>\n",
       "      <th></th>\n",
       "      <th></th>\n",
       "    </tr>\n",
       "  </thead>\n",
       "  <tbody>\n",
       "    <tr>\n",
       "      <th>000ff2bfdfe9</th>\n",
       "      <td>0.209377</td>\n",
       "      <td>3109.03329</td>\n",
       "      <td>85.200147</td>\n",
       "      <td>22.394407</td>\n",
       "      <td>8.138688</td>\n",
       "      <td>0.699861</td>\n",
       "      <td>0.025578</td>\n",
       "      <td>9.812214</td>\n",
       "      <td>5.555634</td>\n",
       "      <td>4126.58731</td>\n",
       "      <td>...</td>\n",
       "      <td>7.298162</td>\n",
       "      <td>1.73855</td>\n",
       "      <td>0.094822</td>\n",
       "      <td>11.339138</td>\n",
       "      <td>72.611063</td>\n",
       "      <td>2003.810319</td>\n",
       "      <td>22.136229</td>\n",
       "      <td>69.834944</td>\n",
       "      <td>0.120343</td>\n",
       "      <td>1</td>\n",
       "    </tr>\n",
       "    <tr>\n",
       "      <th>007255e47698</th>\n",
       "      <td>0.145282</td>\n",
       "      <td>978.76416</td>\n",
       "      <td>85.200147</td>\n",
       "      <td>36.968889</td>\n",
       "      <td>8.138688</td>\n",
       "      <td>3.632190</td>\n",
       "      <td>0.025578</td>\n",
       "      <td>13.517790</td>\n",
       "      <td>1.229900</td>\n",
       "      <td>5496.92824</td>\n",
       "      <td>...</td>\n",
       "      <td>0.173229</td>\n",
       "      <td>0.49706</td>\n",
       "      <td>0.568932</td>\n",
       "      <td>9.292698</td>\n",
       "      <td>72.611063</td>\n",
       "      <td>27981.562750</td>\n",
       "      <td>29.135430</td>\n",
       "      <td>32.131996</td>\n",
       "      <td>21.978000</td>\n",
       "      <td>0</td>\n",
       "    </tr>\n",
       "    <tr>\n",
       "      <th>013f2bd269f5</th>\n",
       "      <td>0.470030</td>\n",
       "      <td>2635.10654</td>\n",
       "      <td>85.200147</td>\n",
       "      <td>32.360553</td>\n",
       "      <td>8.138688</td>\n",
       "      <td>6.732840</td>\n",
       "      <td>0.025578</td>\n",
       "      <td>12.824570</td>\n",
       "      <td>1.229900</td>\n",
       "      <td>5135.78024</td>\n",
       "      <td>...</td>\n",
       "      <td>7.709560</td>\n",
       "      <td>0.97556</td>\n",
       "      <td>1.198821</td>\n",
       "      <td>37.077772</td>\n",
       "      <td>88.609437</td>\n",
       "      <td>13676.957810</td>\n",
       "      <td>28.022851</td>\n",
       "      <td>35.192676</td>\n",
       "      <td>0.196941</td>\n",
       "      <td>0</td>\n",
       "    </tr>\n",
       "    <tr>\n",
       "      <th>043ac50845d5</th>\n",
       "      <td>0.252107</td>\n",
       "      <td>3819.65177</td>\n",
       "      <td>120.201618</td>\n",
       "      <td>77.112203</td>\n",
       "      <td>8.138688</td>\n",
       "      <td>3.685344</td>\n",
       "      <td>0.025578</td>\n",
       "      <td>11.053708</td>\n",
       "      <td>1.229900</td>\n",
       "      <td>4169.67738</td>\n",
       "      <td>...</td>\n",
       "      <td>6.122162</td>\n",
       "      <td>0.49706</td>\n",
       "      <td>0.284466</td>\n",
       "      <td>18.529584</td>\n",
       "      <td>82.416803</td>\n",
       "      <td>2094.262452</td>\n",
       "      <td>39.948656</td>\n",
       "      <td>90.493248</td>\n",
       "      <td>0.155829</td>\n",
       "      <td>0</td>\n",
       "    </tr>\n",
       "    <tr>\n",
       "      <th>044fb8a146ec</th>\n",
       "      <td>0.380297</td>\n",
       "      <td>3733.04844</td>\n",
       "      <td>85.200147</td>\n",
       "      <td>14.103738</td>\n",
       "      <td>8.138688</td>\n",
       "      <td>3.942255</td>\n",
       "      <td>0.054810</td>\n",
       "      <td>3.396778</td>\n",
       "      <td>102.151980</td>\n",
       "      <td>5728.73412</td>\n",
       "      <td>...</td>\n",
       "      <td>8.153058</td>\n",
       "      <td>48.50134</td>\n",
       "      <td>0.121914</td>\n",
       "      <td>16.408728</td>\n",
       "      <td>146.109943</td>\n",
       "      <td>8524.370502</td>\n",
       "      <td>45.381316</td>\n",
       "      <td>36.262628</td>\n",
       "      <td>0.096614</td>\n",
       "      <td>1</td>\n",
       "    </tr>\n",
       "  </tbody>\n",
       "</table>\n",
       "<p>5 rows × 57 columns</p>\n",
       "</div>"
      ],
      "text/plain": [
       "                    AB          AF          AH         AM        AR        AX  \\\n",
       "Id                                                                              \n",
       "000ff2bfdfe9  0.209377  3109.03329   85.200147  22.394407  8.138688  0.699861   \n",
       "007255e47698  0.145282   978.76416   85.200147  36.968889  8.138688  3.632190   \n",
       "013f2bd269f5  0.470030  2635.10654   85.200147  32.360553  8.138688  6.732840   \n",
       "043ac50845d5  0.252107  3819.65177  120.201618  77.112203  8.138688  3.685344   \n",
       "044fb8a146ec  0.380297  3733.04844   85.200147  14.103738  8.138688  3.942255   \n",
       "\n",
       "                    AY         AZ          BC         BD   ...        FL  \\\n",
       "Id                                                         ...             \n",
       "000ff2bfdfe9  0.025578   9.812214    5.555634  4126.58731  ...  7.298162   \n",
       "007255e47698  0.025578  13.517790    1.229900  5496.92824  ...  0.173229   \n",
       "013f2bd269f5  0.025578  12.824570    1.229900  5135.78024  ...  7.709560   \n",
       "043ac50845d5  0.025578  11.053708    1.229900  4169.67738  ...  6.122162   \n",
       "044fb8a146ec  0.054810   3.396778  102.151980  5728.73412  ...  8.153058   \n",
       "\n",
       "                    FR        FS         GB          GE            GF  \\\n",
       "Id                                                                      \n",
       "000ff2bfdfe9   1.73855  0.094822  11.339138   72.611063   2003.810319   \n",
       "007255e47698   0.49706  0.568932   9.292698   72.611063  27981.562750   \n",
       "013f2bd269f5   0.97556  1.198821  37.077772   88.609437  13676.957810   \n",
       "043ac50845d5   0.49706  0.284466  18.529584   82.416803   2094.262452   \n",
       "044fb8a146ec  48.50134  0.121914  16.408728  146.109943   8524.370502   \n",
       "\n",
       "                     GH         GI         GL  Class  \n",
       "Id                                                    \n",
       "000ff2bfdfe9  22.136229  69.834944   0.120343      1  \n",
       "007255e47698  29.135430  32.131996  21.978000      0  \n",
       "013f2bd269f5  28.022851  35.192676   0.196941      0  \n",
       "043ac50845d5  39.948656  90.493248   0.155829      0  \n",
       "044fb8a146ec  45.381316  36.262628   0.096614      1  \n",
       "\n",
       "[5 rows x 57 columns]"
      ]
     },
     "execution_count": 3,
     "metadata": {},
     "output_type": "execute_result"
    }
   ],
   "source": [
    "train_raw = pd.read_csv('/kaggle/input/icr-identify-age-related-conditions/train.csv',index_col='Id')\n",
    "test_raw = pd.read_csv('/kaggle/input/icr-identify-age-related-conditions/test.csv',index_col='Id')\n",
    "\n",
    "#confirm data\n",
    "train_raw.head()"
   ]
  },
  {
   "cell_type": "code",
   "execution_count": 4,
   "id": "6b7ab968",
   "metadata": {
    "execution": {
     "iopub.execute_input": "2023-07-09T20:43:07.185684Z",
     "iopub.status.busy": "2023-07-09T20:43:07.184761Z",
     "iopub.status.idle": "2023-07-09T20:43:07.189141Z",
     "shell.execute_reply": "2023-07-09T20:43:07.188218Z"
    },
    "papermill": {
     "duration": 0.013988,
     "end_time": "2023-07-09T20:43:07.191075",
     "exception": false,
     "start_time": "2023-07-09T20:43:07.177087",
     "status": "completed"
    },
    "tags": []
   },
   "outputs": [],
   "source": [
    "#fcp.hist(df=train_raw, x='AB', kde=True, kde_width=2)"
   ]
  },
  {
   "cell_type": "code",
   "execution_count": 5,
   "id": "42839b26",
   "metadata": {
    "execution": {
     "iopub.execute_input": "2023-07-09T20:43:07.205690Z",
     "iopub.status.busy": "2023-07-09T20:43:07.205425Z",
     "iopub.status.idle": "2023-07-09T20:43:07.218868Z",
     "shell.execute_reply": "2023-07-09T20:43:07.218004Z"
    },
    "papermill": {
     "duration": 0.023484,
     "end_time": "2023-07-09T20:43:07.221282",
     "exception": false,
     "start_time": "2023-07-09T20:43:07.197798",
     "status": "completed"
    },
    "tags": []
   },
   "outputs": [
    {
     "name": "stdout",
     "output_type": "stream",
     "text": [
      "Categorical spread for EJ:\n",
      " B    395\n",
      "A    222\n",
      "Name: EJ, dtype: int64\n",
      "istribution of target:\n",
      " 0    509\n",
      "1    108\n",
      "Name: Class, dtype: int64\n"
     ]
    }
   ],
   "source": [
    "#Seperate out our target feature\n",
    "X = train_raw.iloc[:, :-1]\n",
    "y = train_raw.iloc[:, -1]\n",
    "\n",
    "#Now is a good time to confirm a few things about our data:\n",
    "# 1: lets check how our encoding looks and we can decide if we need a new approach\n",
    "# 2: lets check the distribution of our target feature\n",
    "\n",
    "print(\"Categorical spread for EJ:\\n\", X.EJ.value_counts())\n",
    "print(\"istribution of target:\\n\", y.value_counts())\n",
    "\n",
    "#Add encoding for our only categorical col\n",
    "encoder = LabelEncoder()\n",
    "X.EJ = encoder.fit_transform(X.EJ)\n",
    "\n",
    "#Now we'll generate our prediction CSV\n",
    "X_val = test_raw\n",
    "encoder = LabelEncoder()\n",
    "X_val.EJ = encoder.fit_transform(X_val.EJ)"
   ]
  },
  {
   "cell_type": "code",
   "execution_count": 6,
   "id": "72b70998",
   "metadata": {
    "execution": {
     "iopub.execute_input": "2023-07-09T20:43:07.236640Z",
     "iopub.status.busy": "2023-07-09T20:43:07.235813Z",
     "iopub.status.idle": "2023-07-09T20:43:07.305954Z",
     "shell.execute_reply": "2023-07-09T20:43:07.305201Z"
    },
    "papermill": {
     "duration": 0.080153,
     "end_time": "2023-07-09T20:43:07.308227",
     "exception": false,
     "start_time": "2023-07-09T20:43:07.228074",
     "status": "completed"
    },
    "tags": []
   },
   "outputs": [],
   "source": [
    "#testing new pipeline and trying to assess shapley values ~\n",
    "xgb_params=  {'learning_rate': 0.005,\n",
    "                'objective': 'multi:softprob',\n",
    "                'num_class': 2,\n",
    "                'eval_metric': 'auc',\n",
    "                'tree_method': 'gpu_hist',\n",
    "                'predictor': 'gpu_predictor',\n",
    "                'gpu_id': 0,\n",
    "                'max_bin': 623,\n",
    "                'max_depth': 10,\n",
    "                'alpha': 0.5108154566815425,\n",
    "                'gamma': 1.9276236172849432,\n",
    "                'reg_lambda': 11.40999855634382,\n",
    "                'colsample_bytree': 0.705851334291963,\n",
    "                'subsample': 0.8386116751473301,\n",
    "                'min_child_weight': 2.5517043283716605,\n",
    "             }\n",
    "\n",
    "train_oof = np.zeros((X[X.columns].shape[0],))\n",
    "test_preds = 0\n",
    "train_oof_shap = np.zeros((X[X.columns].shape[0], X[X.columns].shape[1]+1))\n",
    "test_preds_shap = 0\n",
    "train_oof_shap.shape\n",
    "\n",
    "weights = np.zeros(len(y))\n",
    "\n",
    "#finally we want to convert our  testdata to an xgb.Dmatrix\n",
    "val_index = X_val.index\n",
    "X_val = xgb.DMatrix(X_val)"
   ]
  },
  {
   "cell_type": "code",
   "execution_count": 7,
   "id": "6c068717",
   "metadata": {
    "execution": {
     "iopub.execute_input": "2023-07-09T20:43:07.324627Z",
     "iopub.status.busy": "2023-07-09T20:43:07.324320Z",
     "iopub.status.idle": "2023-07-09T20:43:08.393348Z",
     "shell.execute_reply": "2023-07-09T20:43:08.392416Z"
    },
    "papermill": {
     "duration": 1.079322,
     "end_time": "2023-07-09T20:43:08.395565",
     "exception": false,
     "start_time": "2023-07-09T20:43:07.316243",
     "status": "completed"
    },
    "tags": []
   },
   "outputs": [
    {
     "name": "stderr",
     "output_type": "stream",
     "text": [
      "3it [00:00,  3.98it/s]"
     ]
    },
    {
     "name": "stdout",
     "output_type": "stream",
     "text": [
      "0.9512578616352201\n",
      "0.893048128342246\n",
      "0.9212421242124212\n",
      "0.9342857142857144\n"
     ]
    },
    {
     "name": "stderr",
     "output_type": "stream",
     "text": [
      "5it [00:01,  4.77it/s]"
     ]
    },
    {
     "name": "stdout",
     "output_type": "stream",
     "text": [
      "0.9696545284780578\n",
      "0.9316743069198864\n",
      "CPU times: user 715 ms, sys: 282 ms, total: 996 ms\n",
      "Wall time: 1.06 s\n"
     ]
    },
    {
     "name": "stderr",
     "output_type": "stream",
     "text": [
      "\n"
     ]
    }
   ],
   "source": [
    "%%time\n",
    "\n",
    "NUM_FOLDS = 5\n",
    "kf = KFold(n_splits=NUM_FOLDS, shuffle=True, random_state=0)\n",
    "\n",
    "for f, (train_ind, val_ind) in tqdm(enumerate(kf.split(X, y))):\n",
    "        #print(f'Fold {f}')\n",
    "        train_df, val_df = X.iloc[train_ind][X.columns], X.iloc[val_ind][X.columns]\n",
    "        train_target, val_target = y[train_ind], y[val_ind]\n",
    "        \n",
    "        weights = np.zeros(len(train_target))\n",
    "\n",
    "        # 0 is the majority class in this case by a fair ammount\n",
    "        weights[train_target == 0] = 1\n",
    "        weights[train_target == 1] = sum(train_target == 0) / sum(train_target == 1)\n",
    "        \n",
    "        train_df = xgb.DMatrix(train_df, label=train_target, weight=weights)\n",
    "        val_df = xgb.DMatrix(val_df, label=val_target)\n",
    "        \n",
    "        model = xgb.train(xgb_params, train_df)\n",
    "        temp_oof = model.predict(val_df)[:,1]\n",
    "        temp_oof_shap = model.predict(val_df, pred_contribs=True)[:,1]\n",
    "        temp_test = model.predict(X_val)[:,1]\n",
    "        temp_test_shap = model.predict(X_val, pred_contribs=True)[:,1]\n",
    "\n",
    "        train_oof[val_ind] = temp_oof\n",
    "        test_preds += temp_test/NUM_FOLDS\n",
    "        \n",
    "        train_oof_shap[val_ind, :] = temp_oof_shap\n",
    "        test_preds_shap += temp_test_shap/NUM_FOLDS\n",
    "        \n",
    "        \n",
    "        print(roc_auc_score(val_target, temp_oof))\n",
    "        \n",
    "print(roc_auc_score(y, train_oof))"
   ]
  },
  {
   "cell_type": "code",
   "execution_count": 8,
   "id": "da40ebf7",
   "metadata": {
    "execution": {
     "iopub.execute_input": "2023-07-09T20:43:08.412158Z",
     "iopub.status.busy": "2023-07-09T20:43:08.411831Z",
     "iopub.status.idle": "2023-07-09T20:43:08.475708Z",
     "shell.execute_reply": "2023-07-09T20:43:08.474930Z"
    },
    "papermill": {
     "duration": 0.074695,
     "end_time": "2023-07-09T20:43:08.477879",
     "exception": false,
     "start_time": "2023-07-09T20:43:08.403184",
     "status": "completed"
    },
    "tags": []
   },
   "outputs": [],
   "source": [
    "#now that we have assessed the model we want to train it on all of our availible data:\n",
    "weights = np.zeros(len(y))\n",
    "\n",
    "# 0 is the majority class in this case by a fair ammount\n",
    "weights[y == 0] = 1\n",
    "weights[y == 1] = sum(y == 0) / sum(y == 1)\n",
    "\n",
    "train_df = xgb.DMatrix(X, label=y, weight=weights)\n",
    "model = xgb.train(xgb_params, train_df)"
   ]
  },
  {
   "cell_type": "code",
   "execution_count": 9,
   "id": "0933152d",
   "metadata": {
    "execution": {
     "iopub.execute_input": "2023-07-09T20:43:08.495243Z",
     "iopub.status.busy": "2023-07-09T20:43:08.494911Z",
     "iopub.status.idle": "2023-07-09T20:43:08.504852Z",
     "shell.execute_reply": "2023-07-09T20:43:08.503948Z"
    },
    "papermill": {
     "duration": 0.020553,
     "end_time": "2023-07-09T20:43:08.506977",
     "exception": false,
     "start_time": "2023-07-09T20:43:08.486424",
     "status": "completed"
    },
    "tags": []
   },
   "outputs": [],
   "source": [
    "y_preds = model.predict(X_val, output_margin=False)\n",
    "probs = np.exp(y_preds) / np.sum(np.exp(y_preds), axis=1, keepdims=True)\n",
    "\n",
    "submission = pd.DataFrame()\n",
    "submission[\"Id\"] = val_index\n",
    "\n",
    "submission[\"class_0\"] = probs[:,0]\n",
    "submission[\"class_1\"] = probs[:,1]\n"
   ]
  },
  {
   "cell_type": "code",
   "execution_count": 10,
   "id": "3373cfac",
   "metadata": {
    "execution": {
     "iopub.execute_input": "2023-07-09T20:43:08.523749Z",
     "iopub.status.busy": "2023-07-09T20:43:08.522933Z",
     "iopub.status.idle": "2023-07-09T20:43:08.534178Z",
     "shell.execute_reply": "2023-07-09T20:43:08.533310Z"
    },
    "papermill": {
     "duration": 0.021648,
     "end_time": "2023-07-09T20:43:08.536226",
     "exception": false,
     "start_time": "2023-07-09T20:43:08.514578",
     "status": "completed"
    },
    "tags": []
   },
   "outputs": [
    {
     "data": {
      "text/html": [
       "<div>\n",
       "<style scoped>\n",
       "    .dataframe tbody tr th:only-of-type {\n",
       "        vertical-align: middle;\n",
       "    }\n",
       "\n",
       "    .dataframe tbody tr th {\n",
       "        vertical-align: top;\n",
       "    }\n",
       "\n",
       "    .dataframe thead th {\n",
       "        text-align: right;\n",
       "    }\n",
       "</style>\n",
       "<table border=\"1\" class=\"dataframe\">\n",
       "  <thead>\n",
       "    <tr style=\"text-align: right;\">\n",
       "      <th></th>\n",
       "      <th>Id</th>\n",
       "      <th>class_0</th>\n",
       "      <th>class_1</th>\n",
       "    </tr>\n",
       "  </thead>\n",
       "  <tbody>\n",
       "    <tr>\n",
       "      <th>0</th>\n",
       "      <td>00eed32682bb</td>\n",
       "      <td>0.506383</td>\n",
       "      <td>0.493617</td>\n",
       "    </tr>\n",
       "    <tr>\n",
       "      <th>1</th>\n",
       "      <td>010ebe33f668</td>\n",
       "      <td>0.506383</td>\n",
       "      <td>0.493617</td>\n",
       "    </tr>\n",
       "    <tr>\n",
       "      <th>2</th>\n",
       "      <td>02fa521e1838</td>\n",
       "      <td>0.506383</td>\n",
       "      <td>0.493617</td>\n",
       "    </tr>\n",
       "    <tr>\n",
       "      <th>3</th>\n",
       "      <td>040e15f562a2</td>\n",
       "      <td>0.506383</td>\n",
       "      <td>0.493617</td>\n",
       "    </tr>\n",
       "    <tr>\n",
       "      <th>4</th>\n",
       "      <td>046e85c7cc7f</td>\n",
       "      <td>0.506383</td>\n",
       "      <td>0.493617</td>\n",
       "    </tr>\n",
       "  </tbody>\n",
       "</table>\n",
       "</div>"
      ],
      "text/plain": [
       "             Id   class_0   class_1\n",
       "0  00eed32682bb  0.506383  0.493617\n",
       "1  010ebe33f668  0.506383  0.493617\n",
       "2  02fa521e1838  0.506383  0.493617\n",
       "3  040e15f562a2  0.506383  0.493617\n",
       "4  046e85c7cc7f  0.506383  0.493617"
      ]
     },
     "execution_count": 10,
     "metadata": {},
     "output_type": "execute_result"
    }
   ],
   "source": [
    "submission.head()"
   ]
  },
  {
   "cell_type": "code",
   "execution_count": 11,
   "id": "5d869b72",
   "metadata": {
    "execution": {
     "iopub.execute_input": "2023-07-09T20:43:08.552585Z",
     "iopub.status.busy": "2023-07-09T20:43:08.552312Z",
     "iopub.status.idle": "2023-07-09T20:43:08.559158Z",
     "shell.execute_reply": "2023-07-09T20:43:08.558281Z"
    },
    "papermill": {
     "duration": 0.017337,
     "end_time": "2023-07-09T20:43:08.561126",
     "exception": false,
     "start_time": "2023-07-09T20:43:08.543789",
     "status": "completed"
    },
    "tags": []
   },
   "outputs": [],
   "source": [
    "submission.to_csv(\"submission.csv\",header=True,index=False)"
   ]
  },
  {
   "cell_type": "markdown",
   "id": "d60b866b",
   "metadata": {
    "papermill": {
     "duration": 0.007367,
     "end_time": "2023-07-09T20:43:08.576424",
     "exception": false,
     "start_time": "2023-07-09T20:43:08.569057",
     "status": "completed"
    },
    "tags": []
   },
   "source": [
    "`\n",
    "%%time\n",
    "#simple testing ~\n",
    "pipeline = Pipeline([\n",
    "    ('xgb', XGBClassifier(eval_metric='aucpr', scale_pos_weight = ratio))\n",
    "])\n",
    "\n",
    "# Specify the hyperparameters and their values\n",
    "param_grid = {\n",
    "    'xgb__n_estimators': [50, 100, 150],\n",
    "    'xgb__max_depth': [2, 4, 6],\n",
    "    'xgb__learning_rate': [0.01, 0.1, 0.2]\n",
    "}\n",
    "\n",
    "# Create a KFold object\n",
    "kf = KFold(n_splits=5, random_state=42, shuffle=True)\n",
    "\n",
    "# Create a GridSearchCV object\n",
    "grid_search = GridSearchCV(pipeline, param_grid, cv=kf, scoring='roc_auc')\n",
    "\n",
    "# Fit the GridSearchCV object to the data\n",
    "grid_search.fit(X, y)\n",
    "\n",
    "print(f\"Best parameters: {grid_search.best_params_}\")\n",
    "print(f\"Best score: {grid_search.best_score_:.2f}\")\n",
    "`"
   ]
  },
  {
   "cell_type": "code",
   "execution_count": 12,
   "id": "0bade406",
   "metadata": {
    "execution": {
     "iopub.execute_input": "2023-07-09T20:43:08.593320Z",
     "iopub.status.busy": "2023-07-09T20:43:08.592572Z",
     "iopub.status.idle": "2023-07-09T20:43:08.598789Z",
     "shell.execute_reply": "2023-07-09T20:43:08.597925Z"
    },
    "papermill": {
     "duration": 0.016755,
     "end_time": "2023-07-09T20:43:08.600770",
     "exception": false,
     "start_time": "2023-07-09T20:43:08.584015",
     "status": "completed"
    },
    "tags": []
   },
   "outputs": [],
   "source": [
    "np.save('train_oof', train_oof)\n",
    "np.save('test_preds', test_preds)\n",
    "np.save('train_oof_shap', train_oof_shap)\n",
    "np.save('test_preds_shap', test_preds_shap)"
   ]
  },
  {
   "cell_type": "code",
   "execution_count": 13,
   "id": "bf9b3970",
   "metadata": {
    "execution": {
     "iopub.execute_input": "2023-07-09T20:43:08.617524Z",
     "iopub.status.busy": "2023-07-09T20:43:08.616778Z",
     "iopub.status.idle": "2023-07-09T20:43:13.526599Z",
     "shell.execute_reply": "2023-07-09T20:43:13.525644Z"
    },
    "papermill": {
     "duration": 4.920723,
     "end_time": "2023-07-09T20:43:13.529104",
     "exception": false,
     "start_time": "2023-07-09T20:43:08.608381",
     "status": "completed"
    },
    "tags": []
   },
   "outputs": [],
   "source": [
    "%matplotlib inline\n",
    "import cudf, cuml\n",
    "import cupy as cp\n",
    "\n",
    "from cuml.manifold import TSNE, UMAP\n",
    "import matplotlib.pyplot as plt\n",
    "from matplotlib.pyplot import ylim, xlim"
   ]
  },
  {
   "cell_type": "code",
   "execution_count": 14,
   "id": "b6212aa1",
   "metadata": {
    "execution": {
     "iopub.execute_input": "2023-07-09T20:43:13.546869Z",
     "iopub.status.busy": "2023-07-09T20:43:13.546206Z",
     "iopub.status.idle": "2023-07-09T20:43:18.622938Z",
     "shell.execute_reply": "2023-07-09T20:43:18.621961Z"
    },
    "papermill": {
     "duration": 5.087874,
     "end_time": "2023-07-09T20:43:18.625151",
     "exception": false,
     "start_time": "2023-07-09T20:43:13.537277",
     "status": "completed"
    },
    "tags": []
   },
   "outputs": [
    {
     "data": {
      "text/html": [
       "<div>\n",
       "<style scoped>\n",
       "    .dataframe tbody tr th:only-of-type {\n",
       "        vertical-align: middle;\n",
       "    }\n",
       "\n",
       "    .dataframe tbody tr th {\n",
       "        vertical-align: top;\n",
       "    }\n",
       "\n",
       "    .dataframe thead th {\n",
       "        text-align: right;\n",
       "    }\n",
       "</style>\n",
       "<table border=\"1\" class=\"dataframe\">\n",
       "  <thead>\n",
       "    <tr style=\"text-align: right;\">\n",
       "      <th></th>\n",
       "      <th>Id</th>\n",
       "      <th>AB</th>\n",
       "      <th>AF</th>\n",
       "      <th>AH</th>\n",
       "      <th>AM</th>\n",
       "      <th>AR</th>\n",
       "      <th>AX</th>\n",
       "      <th>AY</th>\n",
       "      <th>AZ</th>\n",
       "      <th>BC</th>\n",
       "      <th>...</th>\n",
       "      <th>FL</th>\n",
       "      <th>FR</th>\n",
       "      <th>FS</th>\n",
       "      <th>GB</th>\n",
       "      <th>GE</th>\n",
       "      <th>GF</th>\n",
       "      <th>GH</th>\n",
       "      <th>GI</th>\n",
       "      <th>GL</th>\n",
       "      <th>Class</th>\n",
       "    </tr>\n",
       "  </thead>\n",
       "  <tbody>\n",
       "    <tr>\n",
       "      <th>0</th>\n",
       "      <td>000ff2bfdfe9</td>\n",
       "      <td>0.209377</td>\n",
       "      <td>3109.03329</td>\n",
       "      <td>85.200147</td>\n",
       "      <td>22.394407</td>\n",
       "      <td>8.138688</td>\n",
       "      <td>0.699861</td>\n",
       "      <td>0.025578</td>\n",
       "      <td>9.812214</td>\n",
       "      <td>5.555634</td>\n",
       "      <td>...</td>\n",
       "      <td>7.298162</td>\n",
       "      <td>1.73855</td>\n",
       "      <td>0.094822</td>\n",
       "      <td>11.339138</td>\n",
       "      <td>72.611063</td>\n",
       "      <td>2003.810319</td>\n",
       "      <td>22.136229</td>\n",
       "      <td>69.834944</td>\n",
       "      <td>0.120343</td>\n",
       "      <td>1</td>\n",
       "    </tr>\n",
       "    <tr>\n",
       "      <th>1</th>\n",
       "      <td>007255e47698</td>\n",
       "      <td>0.145282</td>\n",
       "      <td>978.76416</td>\n",
       "      <td>85.200147</td>\n",
       "      <td>36.968889</td>\n",
       "      <td>8.138688</td>\n",
       "      <td>3.632190</td>\n",
       "      <td>0.025578</td>\n",
       "      <td>13.517790</td>\n",
       "      <td>1.229900</td>\n",
       "      <td>...</td>\n",
       "      <td>0.173229</td>\n",
       "      <td>0.49706</td>\n",
       "      <td>0.568932</td>\n",
       "      <td>9.292698</td>\n",
       "      <td>72.611063</td>\n",
       "      <td>27981.562750</td>\n",
       "      <td>29.135430</td>\n",
       "      <td>32.131996</td>\n",
       "      <td>21.978000</td>\n",
       "      <td>0</td>\n",
       "    </tr>\n",
       "    <tr>\n",
       "      <th>2</th>\n",
       "      <td>013f2bd269f5</td>\n",
       "      <td>0.470030</td>\n",
       "      <td>2635.10654</td>\n",
       "      <td>85.200147</td>\n",
       "      <td>32.360553</td>\n",
       "      <td>8.138688</td>\n",
       "      <td>6.732840</td>\n",
       "      <td>0.025578</td>\n",
       "      <td>12.824570</td>\n",
       "      <td>1.229900</td>\n",
       "      <td>...</td>\n",
       "      <td>7.709560</td>\n",
       "      <td>0.97556</td>\n",
       "      <td>1.198821</td>\n",
       "      <td>37.077772</td>\n",
       "      <td>88.609437</td>\n",
       "      <td>13676.957810</td>\n",
       "      <td>28.022851</td>\n",
       "      <td>35.192676</td>\n",
       "      <td>0.196941</td>\n",
       "      <td>0</td>\n",
       "    </tr>\n",
       "    <tr>\n",
       "      <th>3</th>\n",
       "      <td>043ac50845d5</td>\n",
       "      <td>0.252107</td>\n",
       "      <td>3819.65177</td>\n",
       "      <td>120.201618</td>\n",
       "      <td>77.112203</td>\n",
       "      <td>8.138688</td>\n",
       "      <td>3.685344</td>\n",
       "      <td>0.025578</td>\n",
       "      <td>11.053708</td>\n",
       "      <td>1.229900</td>\n",
       "      <td>...</td>\n",
       "      <td>6.122162</td>\n",
       "      <td>0.49706</td>\n",
       "      <td>0.284466</td>\n",
       "      <td>18.529584</td>\n",
       "      <td>82.416803</td>\n",
       "      <td>2094.262452</td>\n",
       "      <td>39.948656</td>\n",
       "      <td>90.493248</td>\n",
       "      <td>0.155829</td>\n",
       "      <td>0</td>\n",
       "    </tr>\n",
       "    <tr>\n",
       "      <th>4</th>\n",
       "      <td>044fb8a146ec</td>\n",
       "      <td>0.380297</td>\n",
       "      <td>3733.04844</td>\n",
       "      <td>85.200147</td>\n",
       "      <td>14.103738</td>\n",
       "      <td>8.138688</td>\n",
       "      <td>3.942255</td>\n",
       "      <td>0.054810</td>\n",
       "      <td>3.396778</td>\n",
       "      <td>102.151980</td>\n",
       "      <td>...</td>\n",
       "      <td>8.153058</td>\n",
       "      <td>48.50134</td>\n",
       "      <td>0.121914</td>\n",
       "      <td>16.408728</td>\n",
       "      <td>146.109943</td>\n",
       "      <td>8524.370502</td>\n",
       "      <td>45.381316</td>\n",
       "      <td>36.262628</td>\n",
       "      <td>0.096614</td>\n",
       "      <td>1</td>\n",
       "    </tr>\n",
       "  </tbody>\n",
       "</table>\n",
       "<p>5 rows × 58 columns</p>\n",
       "</div>"
      ],
      "text/plain": [
       "             Id        AB          AF          AH         AM        AR  \\\n",
       "0  000ff2bfdfe9  0.209377  3109.03329   85.200147  22.394407  8.138688   \n",
       "1  007255e47698  0.145282   978.76416   85.200147  36.968889  8.138688   \n",
       "2  013f2bd269f5  0.470030  2635.10654   85.200147  32.360553  8.138688   \n",
       "3  043ac50845d5  0.252107  3819.65177  120.201618  77.112203  8.138688   \n",
       "4  044fb8a146ec  0.380297  3733.04844   85.200147  14.103738  8.138688   \n",
       "\n",
       "         AX        AY         AZ          BC  ...        FL        FR  \\\n",
       "0  0.699861  0.025578   9.812214    5.555634  ...  7.298162   1.73855   \n",
       "1  3.632190  0.025578  13.517790    1.229900  ...  0.173229   0.49706   \n",
       "2  6.732840  0.025578  12.824570    1.229900  ...  7.709560   0.97556   \n",
       "3  3.685344  0.025578  11.053708    1.229900  ...  6.122162   0.49706   \n",
       "4  3.942255  0.054810   3.396778  102.151980  ...  8.153058  48.50134   \n",
       "\n",
       "         FS         GB          GE            GF         GH         GI  \\\n",
       "0  0.094822  11.339138   72.611063   2003.810319  22.136229  69.834944   \n",
       "1  0.568932   9.292698   72.611063  27981.562750  29.135430  32.131996   \n",
       "2  1.198821  37.077772   88.609437  13676.957810  28.022851  35.192676   \n",
       "3  0.284466  18.529584   82.416803   2094.262452  39.948656  90.493248   \n",
       "4  0.121914  16.408728  146.109943   8524.370502  45.381316  36.262628   \n",
       "\n",
       "          GL  Class  \n",
       "0   0.120343      1  \n",
       "1  21.978000      0  \n",
       "2   0.196941      0  \n",
       "3   0.155829      0  \n",
       "4   0.096614      1  \n",
       "\n",
       "[5 rows x 58 columns]"
      ]
     },
     "execution_count": 14,
     "metadata": {},
     "output_type": "execute_result"
    }
   ],
   "source": [
    "train_df = cudf.read_csv('/kaggle/input/icr-identify-age-related-conditions/train.csv')\n",
    "train_df.head()"
   ]
  },
  {
   "cell_type": "code",
   "execution_count": 15,
   "id": "d9da3abc",
   "metadata": {
    "execution": {
     "iopub.execute_input": "2023-07-09T20:43:18.643752Z",
     "iopub.status.busy": "2023-07-09T20:43:18.643472Z",
     "iopub.status.idle": "2023-07-09T20:43:18.651856Z",
     "shell.execute_reply": "2023-07-09T20:43:18.651007Z"
    },
    "papermill": {
     "duration": 0.020241,
     "end_time": "2023-07-09T20:43:18.654033",
     "exception": false,
     "start_time": "2023-07-09T20:43:18.633792",
     "status": "completed"
    },
    "tags": []
   },
   "outputs": [],
   "source": [
    "train = cp.load('/kaggle/working/train_oof_shap.npy')\n",
    "test = cp.load('/kaggle/working/test_preds_shap.npy')"
   ]
  },
  {
   "cell_type": "code",
   "execution_count": 16,
   "id": "6ce71581",
   "metadata": {
    "execution": {
     "iopub.execute_input": "2023-07-09T20:43:18.671937Z",
     "iopub.status.busy": "2023-07-09T20:43:18.671202Z",
     "iopub.status.idle": "2023-07-09T20:43:19.479304Z",
     "shell.execute_reply": "2023-07-09T20:43:19.478363Z"
    },
    "papermill": {
     "duration": 0.81935,
     "end_time": "2023-07-09T20:43:19.481648",
     "exception": false,
     "start_time": "2023-07-09T20:43:18.662298",
     "status": "completed"
    },
    "tags": []
   },
   "outputs": [
    {
     "data": {
      "text/plain": [
       "(622, 57)"
      ]
     },
     "execution_count": 16,
     "metadata": {},
     "output_type": "execute_result"
    }
   ],
   "source": [
    "train_test = cp.vstack([train, test])\n",
    "train_test.shape"
   ]
  },
  {
   "cell_type": "code",
   "execution_count": 17,
   "id": "0ade054a",
   "metadata": {
    "execution": {
     "iopub.execute_input": "2023-07-09T20:43:19.500460Z",
     "iopub.status.busy": "2023-07-09T20:43:19.499919Z",
     "iopub.status.idle": "2023-07-09T20:43:32.818807Z",
     "shell.execute_reply": "2023-07-09T20:43:32.817183Z"
    },
    "papermill": {
     "duration": 13.330539,
     "end_time": "2023-07-09T20:43:32.821053",
     "exception": false,
     "start_time": "2023-07-09T20:43:19.490514",
     "status": "completed"
    },
    "tags": []
   },
   "outputs": [
    {
     "name": "stderr",
     "output_type": "stream",
     "text": [
      "/opt/conda/lib/python3.10/site-packages/cuml/internals/api_decorators.py:344: UserWarning: Starting from version 22.04, the default method of TSNE is 'fft'.\n",
      "  return func(**kwargs)\n"
     ]
    },
    {
     "name": "stdout",
     "output_type": "stream",
     "text": [
      "CPU times: user 12 s, sys: 304 ms, total: 12.3 s\n",
      "Wall time: 13.3 s\n"
     ]
    }
   ],
   "source": [
    "%%time\n",
    "tsne = TSNE(n_components=2)\n",
    "train_2D = tsne.fit_transform(train_test)"
   ]
  },
  {
   "cell_type": "code",
   "execution_count": 18,
   "id": "bd4b9223",
   "metadata": {
    "execution": {
     "iopub.execute_input": "2023-07-09T20:43:32.843635Z",
     "iopub.status.busy": "2023-07-09T20:43:32.842807Z",
     "iopub.status.idle": "2023-07-09T20:43:33.114618Z",
     "shell.execute_reply": "2023-07-09T20:43:33.113690Z"
    },
    "papermill": {
     "duration": 0.287028,
     "end_time": "2023-07-09T20:43:33.116819",
     "exception": false,
     "start_time": "2023-07-09T20:43:32.829791",
     "status": "completed"
    },
    "tags": []
   },
   "outputs": [
    {
     "data": {
      "text/plain": [
       "<matplotlib.collections.PathCollection at 0x7ed10e7ab0d0>"
      ]
     },
     "execution_count": 18,
     "metadata": {},
     "output_type": "execute_result"
    },
    {
     "data": {
      "image/png": "[encoded data removed]",
      "text/plain": [
       "<Figure size 640x480 with 1 Axes>"
      ]
     },
     "metadata": {},
     "output_type": "display_data"
    }
   ],
   "source": [
    "plt.scatter(train_2D[:,0].get(), train_2D[:,1].get(), s = 0.8)"
   ]
  },
  {
   "cell_type": "code",
   "execution_count": 19,
   "id": "918238bc",
   "metadata": {
    "execution": {
     "iopub.execute_input": "2023-07-09T20:43:33.137130Z",
     "iopub.status.busy": "2023-07-09T20:43:33.136384Z",
     "iopub.status.idle": "2023-07-09T20:43:33.487721Z",
     "shell.execute_reply": "2023-07-09T20:43:33.486679Z"
    },
    "papermill": {
     "duration": 0.36398,
     "end_time": "2023-07-09T20:43:33.490141",
     "exception": false,
     "start_time": "2023-07-09T20:43:33.126161",
     "status": "completed"
    },
    "tags": []
   },
   "outputs": [
    {
     "name": "stdout",
     "output_type": "stream",
     "text": [
      "CPU times: user 336 ms, sys: 13.1 ms, total: 349 ms\n",
      "Wall time: 346 ms\n"
     ]
    }
   ],
   "source": [
    "%%time\n",
    "tsne = TSNE(n_components=2)\n",
    "train_2D = tsne.fit_transform(train)"
   ]
  },
  {
   "cell_type": "code",
   "execution_count": 20,
   "id": "8dcf5caa",
   "metadata": {
    "execution": {
     "iopub.execute_input": "2023-07-09T20:43:33.509991Z",
     "iopub.status.busy": "2023-07-09T20:43:33.509700Z",
     "iopub.status.idle": "2023-07-09T20:43:33.749014Z",
     "shell.execute_reply": "2023-07-09T20:43:33.748023Z"
    },
    "papermill": {
     "duration": 0.251468,
     "end_time": "2023-07-09T20:43:33.750979",
     "exception": false,
     "start_time": "2023-07-09T20:43:33.499511",
     "status": "completed"
    },
    "tags": []
   },
   "outputs": [
    {
     "data": {
      "text/plain": [
       "<matplotlib.collections.PathCollection at 0x7ed1ddfcd9f0>"
      ]
     },
     "execution_count": 20,
     "metadata": {},
     "output_type": "execute_result"
    },
    {
     "data": {
      "image/png": "[encoded data removed]",
      "text/plain": [
       "<Figure size 640x480 with 1 Axes>"
      ]
     },
     "metadata": {},
     "output_type": "display_data"
    }
   ],
   "source": [
    "plt.scatter(train_2D[:,0].get(), train_2D[:,1].get(), s = 0.8)"
   ]
  },
  {
   "cell_type": "code",
   "execution_count": 21,
   "id": "46ec3018",
   "metadata": {
    "execution": {
     "iopub.execute_input": "2023-07-09T20:43:33.771648Z",
     "iopub.status.busy": "2023-07-09T20:43:33.770875Z",
     "iopub.status.idle": "2023-07-09T20:43:34.049342Z",
     "shell.execute_reply": "2023-07-09T20:43:34.048367Z"
    },
    "papermill": {
     "duration": 0.292463,
     "end_time": "2023-07-09T20:43:34.053164",
     "exception": false,
     "start_time": "2023-07-09T20:43:33.760701",
     "status": "completed"
    },
    "tags": []
   },
   "outputs": [
    {
     "data": {
      "text/plain": [
       "<matplotlib.collections.PathCollection at 0x7ed1db541510>"
      ]
     },
     "execution_count": 21,
     "metadata": {},
     "output_type": "execute_result"
    },
    {
     "data": {
      "image/png": "[encoded data removed]",
      "text/plain": [
       "<Figure size 640x480 with 1 Axes>"
      ]
     },
     "metadata": {},
     "output_type": "display_data"
    }
   ],
   "source": [
    "plt.scatter(train_2D[:,0].get(), train_2D[:,1].get(), c=train_df['Class'].values.get(), s = 0.8)"
   ]
  },
  {
   "cell_type": "code",
   "execution_count": 22,
   "id": "1abec493",
   "metadata": {
    "execution": {
     "iopub.execute_input": "2023-07-09T20:43:34.090897Z",
     "iopub.status.busy": "2023-07-09T20:43:34.090604Z",
     "iopub.status.idle": "2023-07-09T20:43:35.622662Z",
     "shell.execute_reply": "2023-07-09T20:43:35.620637Z"
    },
    "papermill": {
     "duration": 1.552966,
     "end_time": "2023-07-09T20:43:35.624764",
     "exception": false,
     "start_time": "2023-07-09T20:43:34.071798",
     "status": "completed"
    },
    "tags": []
   },
   "outputs": [
    {
     "name": "stdout",
     "output_type": "stream",
     "text": [
      "CPU times: user 896 ms, sys: 129 ms, total: 1.02 s\n",
      "Wall time: 1.53 s\n"
     ]
    }
   ],
   "source": [
    "%%time\n",
    "umap = UMAP(n_components=2)\n",
    "train_2D = umap.fit_transform(train)"
   ]
  },
  {
   "cell_type": "code",
   "execution_count": 23,
   "id": "a1fe2508",
   "metadata": {
    "execution": {
     "iopub.execute_input": "2023-07-09T20:43:35.647210Z",
     "iopub.status.busy": "2023-07-09T20:43:35.646401Z",
     "iopub.status.idle": "2023-07-09T20:43:36.170602Z",
     "shell.execute_reply": "2023-07-09T20:43:36.169688Z"
    },
    "papermill": {
     "duration": 0.537613,
     "end_time": "2023-07-09T20:43:36.172794",
     "exception": false,
     "start_time": "2023-07-09T20:43:35.635181",
     "status": "completed"
    },
    "tags": []
   },
   "outputs": [
    {
     "data": {
      "text/plain": [
       "<matplotlib.collections.PathCollection at 0x7ed1db5a96c0>"
      ]
     },
     "execution_count": 23,
     "metadata": {},
     "output_type": "execute_result"
    },
    {
     "data": {
      "image/png": "[encoded data removed]",
      "text/plain": [
       "<Figure size 640x480 with 1 Axes>"
      ]
     },
     "metadata": {},
     "output_type": "display_data"
    }
   ],
   "source": [
    "plt.scatter(train_2D[:,0].get(), train_2D[:,1].get(), c=train_df['Class'].values.get(), s = 0.8)"
   ]
  }
 ],
 "metadata": {
  "kernelspec": {
   "display_name": "Python 3",
   "language": "python",
   "name": "python3"
  },
  "language_info": {
   "codemirror_mode": {
    "name": "ipython",
    "version": 3
   },
   "file_extension": ".py",
   "mimetype": "text/x-python",
   "name": "python",
   "nbconvert_exporter": "python",
   "pygments_lexer": "ipython3",
   "version": "3.10.10"
  },
  "papermill": {
   "default_parameters": {},
   "duration": 43.721518,
   "end_time": "2023-07-09T20:43:38.880565",
   "environment_variables": {},
   "exception": null,
   "input_path": "__notebook__.ipynb",
   "output_path": "__notebook__.ipynb",
   "parameters": {},
   "start_time": "2023-07-09T20:42:55.159047",
   "version": "2.4.0"
  }
 },
 "nbformat": 4,
 "nbformat_minor": 5
}
