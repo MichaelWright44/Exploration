{
 "cells": [
  {
   "cell_type": "code",
   "execution_count": 1,
   "id": "88fa595d",
   "metadata": {
    "execution": {
     "iopub.execute_input": "2023-07-23T22:44:03.915511Z",
     "iopub.status.busy": "2023-07-23T22:44:03.914694Z",
     "iopub.status.idle": "2023-07-23T22:44:08.070640Z",
     "shell.execute_reply": "2023-07-23T22:44:08.069651Z"
    },
    "papermill": {
     "duration": 4.168424,
     "end_time": "2023-07-23T22:44:08.073024",
     "exception": false,
     "start_time": "2023-07-23T22:44:03.904600",
     "status": "completed"
    },
    "tags": []
   },
   "outputs": [],
   "source": [
    "#Standard Imports\n",
    "import os\n",
    "\n",
    "#Third Party Imports\n",
    "from sklearn.metrics import accuracy_score, log_loss, roc_auc_score, make_scorer\n",
    "import xgboost as xgb\n",
    "#import fivecentplots as fcp #clean data vis library for easy pandas integration | will need to remove for submission\n",
    "from sklearn.preprocessing import LabelEncoder\n",
    "import numpy as np\n",
    "import pandas as pd\n",
    "from sklearn.pipeline import Pipeline\n",
    "import seaborn as sns\n",
    "from tqdm import tqdm\n",
    "from sklearn.model_selection import cross_val_score, KFold, train_test_split, GridSearchCV\n",
    "from sklearn.impute import KNNImputer\n",
    "\n",
    "from sklearn.ensemble import RandomForestClassifier\n",
    "from lightgbm import LGBMClassifier\n"
   ]
  },
  {
   "cell_type": "code",
   "execution_count": 2,
   "id": "8f9c8812",
   "metadata": {
    "execution": {
     "iopub.execute_input": "2023-07-23T22:44:08.088914Z",
     "iopub.status.busy": "2023-07-23T22:44:08.088587Z",
     "iopub.status.idle": "2023-07-23T22:44:08.155383Z",
     "shell.execute_reply": "2023-07-23T22:44:08.154204Z"
    },
    "papermill": {
     "duration": 0.078412,
     "end_time": "2023-07-23T22:44:08.158878",
     "exception": false,
     "start_time": "2023-07-23T22:44:08.080466",
     "status": "completed"
    },
    "tags": []
   },
   "outputs": [
    {
     "data": {
      "text/html": [
       "<div>\n",
       "<style scoped>\n",
       "    .dataframe tbody tr th:only-of-type {\n",
       "        vertical-align: middle;\n",
       "    }\n",
       "\n",
       "    .dataframe tbody tr th {\n",
       "        vertical-align: top;\n",
       "    }\n",
       "\n",
       "    .dataframe thead th {\n",
       "        text-align: right;\n",
       "    }\n",
       "</style>\n",
       "<table border=\"1\" class=\"dataframe\">\n",
       "  <thead>\n",
       "    <tr style=\"text-align: right;\">\n",
       "      <th></th>\n",
       "      <th>AB</th>\n",
       "      <th>AF</th>\n",
       "      <th>AH</th>\n",
       "      <th>AM</th>\n",
       "      <th>AR</th>\n",
       "      <th>AX</th>\n",
       "      <th>AY</th>\n",
       "      <th>AZ</th>\n",
       "      <th>BC</th>\n",
       "      <th>BD</th>\n",
       "      <th>...</th>\n",
       "      <th>FL</th>\n",
       "      <th>FR</th>\n",
       "      <th>FS</th>\n",
       "      <th>GB</th>\n",
       "      <th>GE</th>\n",
       "      <th>GF</th>\n",
       "      <th>GH</th>\n",
       "      <th>GI</th>\n",
       "      <th>GL</th>\n",
       "      <th>Class</th>\n",
       "    </tr>\n",
       "  </thead>\n",
       "  <tbody>\n",
       "    <tr>\n",
       "      <th>0</th>\n",
       "      <td>0.209377</td>\n",
       "      <td>3109.03329</td>\n",
       "      <td>85.200147</td>\n",
       "      <td>22.394407</td>\n",
       "      <td>8.138688</td>\n",
       "      <td>0.699861</td>\n",
       "      <td>0.025578</td>\n",
       "      <td>9.812214</td>\n",
       "      <td>5.555634</td>\n",
       "      <td>4126.58731</td>\n",
       "      <td>...</td>\n",
       "      <td>7.298162</td>\n",
       "      <td>1.73855</td>\n",
       "      <td>0.094822</td>\n",
       "      <td>11.339138</td>\n",
       "      <td>72.611063</td>\n",
       "      <td>2003.810319</td>\n",
       "      <td>22.136229</td>\n",
       "      <td>69.834944</td>\n",
       "      <td>0.120343</td>\n",
       "      <td>1</td>\n",
       "    </tr>\n",
       "    <tr>\n",
       "      <th>1</th>\n",
       "      <td>0.145282</td>\n",
       "      <td>978.76416</td>\n",
       "      <td>85.200147</td>\n",
       "      <td>36.968889</td>\n",
       "      <td>8.138688</td>\n",
       "      <td>3.632190</td>\n",
       "      <td>0.025578</td>\n",
       "      <td>13.517790</td>\n",
       "      <td>1.229900</td>\n",
       "      <td>5496.92824</td>\n",
       "      <td>...</td>\n",
       "      <td>0.173229</td>\n",
       "      <td>0.49706</td>\n",
       "      <td>0.568932</td>\n",
       "      <td>9.292698</td>\n",
       "      <td>72.611063</td>\n",
       "      <td>27981.562750</td>\n",
       "      <td>29.135430</td>\n",
       "      <td>32.131996</td>\n",
       "      <td>21.978000</td>\n",
       "      <td>0</td>\n",
       "    </tr>\n",
       "    <tr>\n",
       "      <th>2</th>\n",
       "      <td>0.470030</td>\n",
       "      <td>2635.10654</td>\n",
       "      <td>85.200147</td>\n",
       "      <td>32.360553</td>\n",
       "      <td>8.138688</td>\n",
       "      <td>6.732840</td>\n",
       "      <td>0.025578</td>\n",
       "      <td>12.824570</td>\n",
       "      <td>1.229900</td>\n",
       "      <td>5135.78024</td>\n",
       "      <td>...</td>\n",
       "      <td>7.709560</td>\n",
       "      <td>0.97556</td>\n",
       "      <td>1.198821</td>\n",
       "      <td>37.077772</td>\n",
       "      <td>88.609437</td>\n",
       "      <td>13676.957810</td>\n",
       "      <td>28.022851</td>\n",
       "      <td>35.192676</td>\n",
       "      <td>0.196941</td>\n",
       "      <td>0</td>\n",
       "    </tr>\n",
       "    <tr>\n",
       "      <th>3</th>\n",
       "      <td>0.252107</td>\n",
       "      <td>3819.65177</td>\n",
       "      <td>120.201618</td>\n",
       "      <td>77.112203</td>\n",
       "      <td>8.138688</td>\n",
       "      <td>3.685344</td>\n",
       "      <td>0.025578</td>\n",
       "      <td>11.053708</td>\n",
       "      <td>1.229900</td>\n",
       "      <td>4169.67738</td>\n",
       "      <td>...</td>\n",
       "      <td>6.122162</td>\n",
       "      <td>0.49706</td>\n",
       "      <td>0.284466</td>\n",
       "      <td>18.529584</td>\n",
       "      <td>82.416803</td>\n",
       "      <td>2094.262452</td>\n",
       "      <td>39.948656</td>\n",
       "      <td>90.493248</td>\n",
       "      <td>0.155829</td>\n",
       "      <td>0</td>\n",
       "    </tr>\n",
       "    <tr>\n",
       "      <th>4</th>\n",
       "      <td>0.380297</td>\n",
       "      <td>3733.04844</td>\n",
       "      <td>85.200147</td>\n",
       "      <td>14.103738</td>\n",
       "      <td>8.138688</td>\n",
       "      <td>3.942255</td>\n",
       "      <td>0.054810</td>\n",
       "      <td>3.396778</td>\n",
       "      <td>102.151980</td>\n",
       "      <td>5728.73412</td>\n",
       "      <td>...</td>\n",
       "      <td>8.153058</td>\n",
       "      <td>48.50134</td>\n",
       "      <td>0.121914</td>\n",
       "      <td>16.408728</td>\n",
       "      <td>146.109943</td>\n",
       "      <td>8524.370502</td>\n",
       "      <td>45.381316</td>\n",
       "      <td>36.262628</td>\n",
       "      <td>0.096614</td>\n",
       "      <td>1</td>\n",
       "    </tr>\n",
       "  </tbody>\n",
       "</table>\n",
       "<p>5 rows × 57 columns</p>\n",
       "</div>"
      ],
      "text/plain": [
       "         AB          AF          AH         AM        AR        AX        AY  \\\n",
       "0  0.209377  3109.03329   85.200147  22.394407  8.138688  0.699861  0.025578   \n",
       "1  0.145282   978.76416   85.200147  36.968889  8.138688  3.632190  0.025578   \n",
       "2  0.470030  2635.10654   85.200147  32.360553  8.138688  6.732840  0.025578   \n",
       "3  0.252107  3819.65177  120.201618  77.112203  8.138688  3.685344  0.025578   \n",
       "4  0.380297  3733.04844   85.200147  14.103738  8.138688  3.942255  0.054810   \n",
       "\n",
       "          AZ          BC         BD   ...        FL        FR        FS  \\\n",
       "0   9.812214    5.555634  4126.58731  ...  7.298162   1.73855  0.094822   \n",
       "1  13.517790    1.229900  5496.92824  ...  0.173229   0.49706  0.568932   \n",
       "2  12.824570    1.229900  5135.78024  ...  7.709560   0.97556  1.198821   \n",
       "3  11.053708    1.229900  4169.67738  ...  6.122162   0.49706  0.284466   \n",
       "4   3.396778  102.151980  5728.73412  ...  8.153058  48.50134  0.121914   \n",
       "\n",
       "          GB          GE            GF         GH         GI         GL  Class  \n",
       "0  11.339138   72.611063   2003.810319  22.136229  69.834944   0.120343      1  \n",
       "1   9.292698   72.611063  27981.562750  29.135430  32.131996  21.978000      0  \n",
       "2  37.077772   88.609437  13676.957810  28.022851  35.192676   0.196941      0  \n",
       "3  18.529584   82.416803   2094.262452  39.948656  90.493248   0.155829      0  \n",
       "4  16.408728  146.109943   8524.370502  45.381316  36.262628   0.096614      1  \n",
       "\n",
       "[5 rows x 57 columns]"
      ]
     },
     "execution_count": 2,
     "metadata": {},
     "output_type": "execute_result"
    }
   ],
   "source": [
    "train_raw = pd.read_csv('/kaggle/input/icr-identify-age-related-conditions/train.csv')\n",
    "test_raw = pd.read_csv('/kaggle/input/icr-identify-age-related-conditions/test.csv')\n",
    "\n",
    "train_ID = train_raw['Id']\n",
    "test_ID = test_raw['Id']\n",
    "\n",
    "train_raw = train_raw.drop(axis='columns', labels='Id')\n",
    "test_raw = test_raw.drop(axis='columns', labels='Id')\n",
    "\n",
    "#confirm data\n",
    "train_raw.head()"
   ]
  },
  {
   "cell_type": "code",
   "execution_count": 3,
   "id": "65d958e6",
   "metadata": {
    "execution": {
     "iopub.execute_input": "2023-07-23T22:44:08.175317Z",
     "iopub.status.busy": "2023-07-23T22:44:08.174961Z",
     "iopub.status.idle": "2023-07-23T22:44:08.197807Z",
     "shell.execute_reply": "2023-07-23T22:44:08.196810Z"
    },
    "papermill": {
     "duration": 0.033963,
     "end_time": "2023-07-23T22:44:08.200514",
     "exception": false,
     "start_time": "2023-07-23T22:44:08.166551",
     "status": "completed"
    },
    "tags": []
   },
   "outputs": [
    {
     "name": "stdout",
     "output_type": "stream",
     "text": [
      "NAN in AB:   0\n",
      "NAN in AF:   0\n",
      "NAN in AH:   0\n",
      "NAN in AM:   0\n",
      "NAN in AR:   0\n",
      "NAN in AX:   0\n",
      "NAN in AY:   0\n",
      "NAN in AZ:   0\n",
      "NAN in BC:   0\n",
      "NAN in BD :   0\n",
      "NAN in BN:   0\n",
      "NAN in BP:   0\n",
      "NAN in BQ:   60\n",
      "NAN in BR:   0\n",
      "NAN in BZ:   0\n",
      "NAN in CB:   2\n",
      "NAN in CC:   3\n",
      "NAN in CD :   0\n",
      "NAN in CF:   0\n",
      "NAN in CH:   0\n",
      "NAN in CL:   0\n",
      "NAN in CR:   0\n",
      "NAN in CS:   0\n",
      "NAN in CU:   0\n",
      "NAN in CW :   0\n",
      "NAN in DA:   0\n",
      "NAN in DE:   0\n",
      "NAN in DF:   0\n",
      "NAN in DH:   0\n",
      "NAN in DI:   0\n",
      "NAN in DL:   0\n",
      "NAN in DN:   0\n",
      "NAN in DU:   1\n",
      "NAN in DV:   0\n",
      "NAN in DY:   0\n",
      "NAN in EB:   0\n",
      "NAN in EE:   0\n",
      "NAN in EG:   0\n",
      "NAN in EH:   0\n",
      "NAN in EJ:   0\n",
      "NAN in EL:   60\n",
      "NAN in EP:   0\n",
      "NAN in EU:   0\n",
      "NAN in FC:   1\n",
      "NAN in FD :   0\n",
      "NAN in FE:   0\n",
      "NAN in FI:   0\n",
      "NAN in FL:   1\n",
      "NAN in FR:   0\n",
      "NAN in FS:   2\n",
      "NAN in GB:   0\n",
      "NAN in GE:   0\n",
      "NAN in GF:   0\n",
      "NAN in GH:   0\n",
      "NAN in GI:   0\n",
      "NAN in GL:   1\n",
      "NAN in Class:   0\n"
     ]
    }
   ],
   "source": [
    "for col in train_raw.columns:\n",
    "    print(f\"NAN in {col}:  \", train_raw[col].isna().sum().sum())"
   ]
  },
  {
   "cell_type": "code",
   "execution_count": 4,
   "id": "b609df71",
   "metadata": {
    "execution": {
     "iopub.execute_input": "2023-07-23T22:44:08.218544Z",
     "iopub.status.busy": "2023-07-23T22:44:08.217831Z",
     "iopub.status.idle": "2023-07-23T22:44:08.280492Z",
     "shell.execute_reply": "2023-07-23T22:44:08.276542Z"
    },
    "papermill": {
     "duration": 0.075644,
     "end_time": "2023-07-23T22:44:08.284398",
     "exception": false,
     "start_time": "2023-07-23T22:44:08.208754",
     "status": "completed"
    },
    "tags": []
   },
   "outputs": [
    {
     "name": "stdout",
     "output_type": "stream",
     "text": [
      "Categorical spread for EJ:\n",
      " B    395\n",
      "A    222\n",
      "Name: EJ, dtype: int64\n",
      "istribution of target:\n",
      " 0    509\n",
      "1    108\n",
      "Name: Class, dtype: int64\n"
     ]
    }
   ],
   "source": [
    "#Seperate out our target feature\n",
    "X = train_raw.iloc[:, :-1]\n",
    "y = train_raw.iloc[:, -1]\n",
    "\n",
    "#Now is a good time to confirm a few things about our data:\n",
    "# 1: lets check how our encoding looks and we can decide if we need a new approach\n",
    "# 2: lets check the distribution of our target feature\n",
    "\n",
    "print(\"Categorical spread for EJ:\\n\", X.EJ.value_counts())\n",
    "print(\"istribution of target:\\n\", y.value_counts())\n",
    "\n",
    "#impute NaN values\n",
    "imputer = KNNImputer(n_neighbors=2, weights='uniform')\n",
    "\n",
    "#Add encoding for our only categorical col\n",
    "encoder = LabelEncoder()\n",
    "X.EJ = encoder.fit_transform(X.EJ)\n",
    "X_imp = imputer.fit_transform(X)\n",
    "X = pd.DataFrame(X_imp, columns=X.columns)\n",
    "X.set_index(train_ID, inplace=True)\n",
    "\n",
    "#Now we'll generate our prediction CSV\n",
    "X_val = test_raw\n",
    "encoder = LabelEncoder()\n",
    "imputer = KNNImputer(n_neighbors=2, weights='uniform')\n",
    "X_val.EJ = encoder.fit_transform(X_val.EJ)\n",
    "X_val_imp = imputer.fit_transform(X_val)\n",
    "X_val = pd.DataFrame(X_val_imp, columns=X_val.columns)\n",
    "X_val.set_index(test_ID, inplace=True)\n",
    "\n",
    "#define problem specific balanced log loss function\n",
    "def balanced_log_loss(y_true, y_pred):\n",
    "    nc = np.bincount(y_true)\n",
    "    return log_loss(y_true, y_pred, sample_weight = 1/nc[y_true], eps=1e-15)"
   ]
  },
  {
   "cell_type": "raw",
   "id": "1ea91e08",
   "metadata": {
    "execution": {
     "iopub.execute_input": "2023-07-23T22:24:28.166507Z",
     "iopub.status.busy": "2023-07-23T22:24:28.165819Z",
     "iopub.status.idle": "2023-07-23T22:24:28.174464Z",
     "shell.execute_reply": "2023-07-23T22:24:28.173476Z",
     "shell.execute_reply.started": "2023-07-23T22:24:28.166474Z"
    },
    "papermill": {
     "duration": 0.019242,
     "end_time": "2023-07-23T22:44:08.323468",
     "exception": false,
     "start_time": "2023-07-23T22:44:08.304226",
     "status": "completed"
    },
    "tags": []
   },
   "source": [
    "%%time\n",
    "\n",
    "#HYPERPARAM TUNING, make sure to turn it off before submission!!!\n",
    "from xgboost import XGBClassifier\n",
    "\n",
    "# Define our classifier\n",
    "clf = XGBClassifier(\n",
    "    learning_rate=0.005,\n",
    "    objective='multi:softprob',\n",
    "    num_class=2,\n",
    "    eval_metric='auc',\n",
    "    tree_method='gpu_hist',\n",
    "    predictor='gpu_predictor',\n",
    "    gpu_id=0,\n",
    "    max_bin=623,\n",
    "    max_depth=3,\n",
    "    gamma=2,\n",
    "    reg_lambda=5,\n",
    "    colsample_bytree=0.75,\n",
    "    subsample=0.85,\n",
    "    min_child_weight=5,\n",
    "    n_jobs=-1  # Use all CPU cores\n",
    ")\n",
    "\n",
    "# Create a scorer\n",
    "balanced_log_loss_scorer = make_scorer(balanced_log_loss, greater_is_better=False, needs_proba=True)\n",
    "\n",
    "# Define our parameter grid\n",
    "param_grid = {\n",
    "    'max_depth': [1, 2, 3, 5, 7, 9],  # Increase max_depth for higher complexity\n",
    "    'gamma': [0.5, 1, 2],  # Vary the minimum loss reduction to create a new split\n",
    "    'reg_lambda': [1, 5, 10],  # Vary the L2 regularization term\n",
    "    'subsample': [0.6, 0.8, 1.0],  # Vary the fraction of observations to subsample\n",
    "    'colsample_bytree': [0.6, 0.8, 1.0]  # Vary the fraction of columns to sample\n",
    "}\n",
    "\n",
    "# Initialize GridSearchCV\n",
    "grid_clf = GridSearchCV(clf, param_grid, cv=4, scoring=balanced_log_loss_scorer)\n",
    "\n",
    "# Fit GridSearchCV\n",
    "grid_clf.fit(X, y)\n",
    "\n",
    "# Get the best parameters\n",
    "best_parameters = grid_clf.best_params_\n",
    "\n",
    "print(f\"Best parameters: {best_parameters}\")\n"
   ]
  },
  {
   "cell_type": "raw",
   "id": "5b95924f",
   "metadata": {
    "execution": {
     "iopub.execute_input": "2023-07-23T22:24:30.930967Z",
     "iopub.status.busy": "2023-07-23T22:24:30.930601Z",
     "iopub.status.idle": "2023-07-23T22:24:30.938571Z",
     "shell.execute_reply": "2023-07-23T22:24:30.937522Z",
     "shell.execute_reply.started": "2023-07-23T22:24:30.930938Z"
    },
    "papermill": {
     "duration": 0.020911,
     "end_time": "2023-07-23T22:44:08.365707",
     "exception": false,
     "start_time": "2023-07-23T22:44:08.344796",
     "status": "completed"
    },
    "tags": []
   },
   "source": [
    "#setting our tuned values up to use without the sklearn API for later\n",
    "best_parameters = {'colsample_bytree': 1.0, 'gamma': 0.5, 'max_depth': 7, 'reg_lambda': 1, 'subsample': 1.0}\n",
    "\n",
    "\"\"\"\n",
    "xgb_params=  {'learning_rate': 0.005,\n",
    "                'objective': 'multi:softprob',\n",
    "                'num_class': 2,\n",
    "                'eval_metric': 'auc',\n",
    "                'tree_method': 'gpu_hist',\n",
    "                'predictor': 'gpu_predictor',\n",
    "                'gpu_id': 0,\n",
    "                'max_bin': 623,\n",
    "                'max_depth': best_parameters['max_depth'],\n",
    "                'gamma': best_parameters['gamma'],\n",
    "                'reg_lambda': best_parameters['reg_lambda'],\n",
    "                'colsample_bytree': best_parameters['colsample_bytree'],\n",
    "                'subsample': best_parameters['subsample'],\n",
    "                'min_child_weight': 5,\n",
    "             }\n",
    "\"\"\"\n",
    "xgb_params= {'learning_rate': 0.7,\n",
    "                'max_depth': 2,\n",
    "                'tree_method': 'gpu_hist',\n",
    "                'predictor': 'gpu_predictor',\n",
    "                'gpu_id': 0,\n",
    "                'objective': 'multi:softprob',\n",
    "                'num_class': 2,\n",
    "                'min_child_weight': 7,\n",
    "                'max_bin': 100,\n",
    "            }"
   ]
  },
  {
   "cell_type": "raw",
   "id": "c9c7c274",
   "metadata": {
    "execution": {
     "iopub.execute_input": "2023-07-23T21:14:36.916035Z",
     "iopub.status.busy": "2023-07-23T21:14:36.915378Z",
     "iopub.status.idle": "2023-07-23T21:14:37.211338Z",
     "shell.execute_reply": "2023-07-23T21:14:37.210444Z",
     "shell.execute_reply.started": "2023-07-23T21:14:36.916003Z"
    },
    "papermill": {
     "duration": 0.008893,
     "end_time": "2023-07-23T22:44:08.391246",
     "exception": false,
     "start_time": "2023-07-23T22:44:08.382353",
     "status": "completed"
    },
    "tags": []
   },
   "source": [
    "%%time\n",
    "\n",
    "train_oof = np.zeros((len(y),))\n",
    "test_preds = 0\n",
    "train_oof_shap = np.zeros((len(y), X[X.columns].shape[1]+1))\n",
    "test_preds_shap = 0\n",
    "train_oof_shap.shape\n",
    "weights = np.zeros(len(y))\n",
    "\n",
    "NUM_FOLDS = 5\n",
    "early_stopping_rounds = 30\n",
    "kf = KFold(n_splits=NUM_FOLDS, shuffle=True, random_state=0)\n",
    "\n",
    "# List to store the best iteration of each fold\n",
    "best_iterations = []\n",
    "\n",
    "#finally we want to convert our testdata to an xgb.Dmatrix\n",
    "val_index = X_val.index\n",
    "X_val = xgb.DMatrix(X_val)\n",
    "\n",
    "for f, (train_ind, val_ind) in tqdm(enumerate(kf.split(X, y))):\n",
    "        #print(f'Fold {f}')\n",
    "        train_df, val_df = X.iloc[train_ind][X.columns], X.iloc[val_ind][X.columns]\n",
    "        train_target, val_target = y[train_ind], y[val_ind]\n",
    "        \n",
    "        weights = np.zeros(len(train_target))\n",
    "\n",
    "        # 0 is the majority class in this case by a fair ammount\n",
    "        weights[train_target == 0] = 1\n",
    "        weights[train_target == 1] = sum(train_target == 0) / sum(train_target == 1)\n",
    "        \n",
    "        train_df = xgb.DMatrix(train_df, label=train_target, weight=weights)\n",
    "        val_df = xgb.DMatrix(val_df, label=val_target)\n",
    "        \n",
    "        # The watchlist is used for early stopping\n",
    "        watchlist = [(train_df, 'train'), (val_df, 'eval')]\n",
    "\n",
    "        model = xgb.train(xgb_params, train_df, evals=watchlist, \n",
    "                          early_stopping_rounds=early_stopping_rounds, verbose_eval=False)\n",
    "        \n",
    "        # Append the best iteration of this fold to the list\n",
    "        best_iterations.append(model.best_iteration)\n",
    "        \n",
    "        temp_oof = model.predict(val_df, iteration_range=(0, model.best_iteration + 1))[:,1]\n",
    "        temp_oof_shap = model.predict(val_df, iteration_range=(0, model.best_iteration + 1), pred_contribs=True)[:,1]\n",
    "        temp_test = model.predict(X_val, iteration_range=(0, model.best_iteration + 1))[:,1]\n",
    "        temp_test_shap = model.predict(X_val, iteration_range=(0, model.best_iteration + 1), pred_contribs=True)[:,1]\n",
    "\n",
    "        train_oof[val_ind] = temp_oof\n",
    "        test_preds += temp_test/NUM_FOLDS\n",
    "        \n",
    "        train_oof_shap[val_ind, :] = temp_oof_shap\n",
    "        test_preds_shap += temp_test_shap/NUM_FOLDS\n",
    "        \n",
    "        \n",
    "        print(balanced_log_loss(val_target, temp_oof))\n",
    "        \n",
    "print(f\"Mean balanced log loss: {balanced_log_loss(y, train_oof)}\")\n",
    "\n",
    "median_best_iteration = round(np.median(best_iterations))\n",
    "print(f\"Median best iteration: {median_best_iteration}\")"
   ]
  },
  {
   "cell_type": "raw",
   "id": "aae05a70",
   "metadata": {
    "execution": {
     "iopub.execute_input": "2023-07-23T21:54:55.845271Z",
     "iopub.status.busy": "2023-07-23T21:54:55.844853Z",
     "iopub.status.idle": "2023-07-23T21:55:30.868833Z",
     "shell.execute_reply": "2023-07-23T21:55:30.867872Z",
     "shell.execute_reply.started": "2023-07-23T21:54:55.845239Z"
    },
    "papermill": {
     "duration": 0.008504,
     "end_time": "2023-07-23T22:44:08.408675",
     "exception": false,
     "start_time": "2023-07-23T22:44:08.400171",
     "status": "completed"
    },
    "tags": []
   },
   "source": [
    "%%time\n",
    "# RF HYPERPARAMETER TUNING\n",
    "# Define a grid of hyperparameters\n",
    "param_grid = {\n",
    "    'n_estimators': [9,120,125],\n",
    "    'max_depth': [None,1,3,20],\n",
    "    'min_samples_split': [2, 3, 4]\n",
    "}\n",
    "\n",
    "# Initialize your model\n",
    "rf_model = RandomForestClassifier(random_state=42)\n",
    "\n",
    "# We're going to use log_loss as our scoring metric, note that we use the 'make_scorer' function to make sure we're minimizing the metric\n",
    "balanced_log_loss_scorer = make_scorer(balanced_log_loss, greater_is_better=False, needs_proba=True)\n",
    "\n",
    "# Initialize GridSearchCV\n",
    "grid_search = GridSearchCV(estimator=rf_model, param_grid=param_grid, cv=5, scoring=balanced_log_loss_scorer, n_jobs=-1)\n",
    "\n",
    "# Fit GridSearchCV\n",
    "grid_search.fit(X, y)\n",
    "\n",
    "# Get the optimal parameters\n",
    "best_params = grid_search.best_params_\n",
    "\n",
    "# Output the best parameters\n",
    "print(f\"Optimal parameters: {best_params}\")\n",
    "\n",
    "# Train and test a RandomForestClassifier with the optimal parameters on the same train-test split\n",
    "optimal_rf_model = RandomForestClassifier(**best_params)"
   ]
  },
  {
   "cell_type": "raw",
   "id": "45aaa18f",
   "metadata": {
    "execution": {
     "iopub.execute_input": "2023-07-23T21:56:42.062331Z",
     "iopub.status.busy": "2023-07-23T21:56:42.061950Z",
     "iopub.status.idle": "2023-07-23T21:56:59.779265Z",
     "shell.execute_reply": "2023-07-23T21:56:59.778458Z",
     "shell.execute_reply.started": "2023-07-23T21:56:42.062301Z"
    },
    "papermill": {
     "duration": 0.007895,
     "end_time": "2023-07-23T22:44:08.425061",
     "exception": false,
     "start_time": "2023-07-23T22:44:08.417166",
     "status": "completed"
    },
    "tags": []
   },
   "source": [
    "%%time\n",
    "# LGBM HYPERPARAMETER TUNING\n",
    "# Define a grid of hyperparameters\n",
    "param_grid = {\n",
    "    'num_leaves': [6,7,8],\n",
    "    'max_depth': [2, 3, 4],\n",
    "    'learning_rate': [0.02, 0.05, 0.07],\n",
    "    'n_estimators': [9,100,120]\n",
    "}\n",
    "\n",
    "# Initialize your model\n",
    "lgb_model = LGBMClassifier(random_state=42)\n",
    "\n",
    "# We're going to use log_loss as our scoring metric, note that we use the 'make_scorer' function to make sure we're minimizing the metric\n",
    "balanced_log_loss_scorer = make_scorer(balanced_log_loss, greater_is_better=False, needs_proba=True)\n",
    "\n",
    "# Initialize GridSearchCV\n",
    "grid_search = GridSearchCV(estimator=lgb_model, param_grid=param_grid, cv=5, scoring=balanced_log_loss_scorer, n_jobs=-1)\n",
    "\n",
    "# Fit GridSearchCV\n",
    "grid_search.fit(X, y)\n",
    "\n",
    "# Get the optimal parameters\n",
    "best_params = grid_search.best_params_\n",
    "\n",
    "# Output the best parameters\n",
    "print(f\"Optimal parameters: {best_params}\")"
   ]
  },
  {
   "cell_type": "code",
   "execution_count": 5,
   "id": "ebd9c798",
   "metadata": {
    "execution": {
     "iopub.execute_input": "2023-07-23T22:44:08.442722Z",
     "iopub.status.busy": "2023-07-23T22:44:08.442332Z",
     "iopub.status.idle": "2023-07-23T22:44:26.769844Z",
     "shell.execute_reply": "2023-07-23T22:44:26.768969Z"
    },
    "papermill": {
     "duration": 18.339449,
     "end_time": "2023-07-23T22:44:26.772395",
     "exception": false,
     "start_time": "2023-07-23T22:44:08.432946",
     "status": "completed"
    },
    "tags": []
   },
   "outputs": [
    {
     "name": "stdout",
     "output_type": "stream",
     "text": [
      "Fold 0 log loss: 0.35821913286107665\n",
      "Fold 1 log loss: 0.46156309344135243\n",
      "Fold 2 log loss: 0.404855312920086\n",
      "Fold 3 log loss: 0.2667457258282674\n",
      "Fold 4 log loss: 0.2522961504372501\n",
      "Overall log loss: 0.34913648107487777\n",
      "CPU times: user 21.2 s, sys: 619 ms, total: 21.8 s\n",
      "Wall time: 18.3 s\n"
     ]
    }
   ],
   "source": [
    "%%time\n",
    "#for testing ONLY\n",
    "from sklearn.ensemble import RandomForestClassifier, StackingClassifier\n",
    "from sklearn.linear_model import LogisticRegression\n",
    "from xgboost import XGBClassifier\n",
    "from lightgbm import LGBMClassifier\n",
    "\n",
    "rf_params = {'max_depth': None, 'min_samples_split': 3, 'n_estimators': 120, 'class_weight': 'balanced',}\n",
    "lgb_params = {'learning_rate': 0.05, 'max_depth': 4, 'n_estimators': 120, 'num_leaves': 7, 'class_weight': 'balanced',}\n",
    "xgb_params= {'learning_rate': 0.7,\n",
    "                'max_depth': 2,\n",
    "                'tree_method': 'gpu_hist',\n",
    "                'predictor': 'gpu_predictor',\n",
    "                'gpu_id': 0,\n",
    "                'min_child_weight': 7,\n",
    "                'max_bin': 100,\n",
    "                'scale_pos_weight': 4.7, \n",
    "            }\n",
    "\n",
    "# Define the base models\n",
    "base_models = [\n",
    "    ('xgb', XGBClassifier(**xgb_params)),\n",
    "    ('rf', RandomForestClassifier(**rf_params)),\n",
    "    ('lgb', LGBMClassifier(**lgb_params))\n",
    "]\n",
    "\n",
    "# Define meta learner model\n",
    "meta_model = LogisticRegression()\n",
    "\n",
    "# Define the stacking ensemble\n",
    "stacking_model = StackingClassifier(estimators=base_models, cv=5)\n",
    "\n",
    "# For storing out-of-fold predictions\n",
    "train_oof = np.zeros((X.shape[0],))\n",
    "\n",
    "\n",
    "NUM_FOLDS = 5\n",
    "kf = KFold(n_splits=NUM_FOLDS, shuffle=True, random_state=0)\n",
    "\n",
    "# Same cross-validation scheme\n",
    "for f, (train_ind, val_ind) in enumerate(kf.split(X, y)):\n",
    "    train_df, val_df = X.iloc[train_ind], X.iloc[val_ind]\n",
    "    train_target, val_target = y[train_ind], y[val_ind]\n",
    "    \n",
    "    # Fit the stacking classifier and make predictions\n",
    "    stacking_model.fit(train_df, train_target)\n",
    "    \n",
    "    train_oof[val_ind] = stacking_model.predict_proba(val_df)[:, 1]\n",
    "    \n",
    "    print(f\"Fold {f} log loss: {balanced_log_loss(val_target, train_oof[val_ind])}\")\n",
    "\n",
    "print(f\"Overall log loss: {balanced_log_loss(y, train_oof)}\")\n"
   ]
  },
  {
   "cell_type": "code",
   "execution_count": 6,
   "id": "0f1fb965",
   "metadata": {
    "execution": {
     "iopub.execute_input": "2023-07-23T22:44:26.791430Z",
     "iopub.status.busy": "2023-07-23T22:44:26.790432Z",
     "iopub.status.idle": "2023-07-23T22:44:30.481886Z",
     "shell.execute_reply": "2023-07-23T22:44:30.480936Z"
    },
    "papermill": {
     "duration": 3.703097,
     "end_time": "2023-07-23T22:44:30.484197",
     "exception": false,
     "start_time": "2023-07-23T22:44:26.781100",
     "status": "completed"
    },
    "tags": []
   },
   "outputs": [
    {
     "data": {
      "text/html": [
       "<style>#sk-container-id-1 {color: black;background-color: white;}#sk-container-id-1 pre{padding: 0;}#sk-container-id-1 div.sk-toggleable {background-color: white;}#sk-container-id-1 label.sk-toggleable__label {cursor: pointer;display: block;width: 100%;margin-bottom: 0;padding: 0.3em;box-sizing: border-box;text-align: center;}#sk-container-id-1 label.sk-toggleable__label-arrow:before {content: \"▸\";float: left;margin-right: 0.25em;color: #696969;}#sk-container-id-1 label.sk-toggleable__label-arrow:hover:before {color: black;}#sk-container-id-1 div.sk-estimator:hover label.sk-toggleable__label-arrow:before {color: black;}#sk-container-id-1 div.sk-toggleable__content {max-height: 0;max-width: 0;overflow: hidden;text-align: left;background-color: #f0f8ff;}#sk-container-id-1 div.sk-toggleable__content pre {margin: 0.2em;color: black;border-radius: 0.25em;background-color: #f0f8ff;}#sk-container-id-1 input.sk-toggleable__control:checked~div.sk-toggleable__content {max-height: 200px;max-width: 100%;overflow: auto;}#sk-container-id-1 input.sk-toggleable__control:checked~label.sk-toggleable__label-arrow:before {content: \"▾\";}#sk-container-id-1 div.sk-estimator input.sk-toggleable__control:checked~label.sk-toggleable__label {background-color: #d4ebff;}#sk-container-id-1 div.sk-label input.sk-toggleable__control:checked~label.sk-toggleable__label {background-color: #d4ebff;}#sk-container-id-1 input.sk-hidden--visually {border: 0;clip: rect(1px 1px 1px 1px);clip: rect(1px, 1px, 1px, 1px);height: 1px;margin: -1px;overflow: hidden;padding: 0;position: absolute;width: 1px;}#sk-container-id-1 div.sk-estimator {font-family: monospace;background-color: #f0f8ff;border: 1px dotted black;border-radius: 0.25em;box-sizing: border-box;margin-bottom: 0.5em;}#sk-container-id-1 div.sk-estimator:hover {background-color: #d4ebff;}#sk-container-id-1 div.sk-parallel-item::after {content: \"\";width: 100%;border-bottom: 1px solid gray;flex-grow: 1;}#sk-container-id-1 div.sk-label:hover label.sk-toggleable__label {background-color: #d4ebff;}#sk-container-id-1 div.sk-serial::before {content: \"\";position: absolute;border-left: 1px solid gray;box-sizing: border-box;top: 0;bottom: 0;left: 50%;z-index: 0;}#sk-container-id-1 div.sk-serial {display: flex;flex-direction: column;align-items: center;background-color: white;padding-right: 0.2em;padding-left: 0.2em;position: relative;}#sk-container-id-1 div.sk-item {position: relative;z-index: 1;}#sk-container-id-1 div.sk-parallel {display: flex;align-items: stretch;justify-content: center;background-color: white;position: relative;}#sk-container-id-1 div.sk-item::before, #sk-container-id-1 div.sk-parallel-item::before {content: \"\";position: absolute;border-left: 1px solid gray;box-sizing: border-box;top: 0;bottom: 0;left: 50%;z-index: -1;}#sk-container-id-1 div.sk-parallel-item {display: flex;flex-direction: column;z-index: 1;position: relative;background-color: white;}#sk-container-id-1 div.sk-parallel-item:first-child::after {align-self: flex-end;width: 50%;}#sk-container-id-1 div.sk-parallel-item:last-child::after {align-self: flex-start;width: 50%;}#sk-container-id-1 div.sk-parallel-item:only-child::after {width: 0;}#sk-container-id-1 div.sk-dashed-wrapped {border: 1px dashed gray;margin: 0 0.4em 0.5em 0.4em;box-sizing: border-box;padding-bottom: 0.4em;background-color: white;}#sk-container-id-1 div.sk-label label {font-family: monospace;font-weight: bold;display: inline-block;line-height: 1.2em;}#sk-container-id-1 div.sk-label-container {text-align: center;}#sk-container-id-1 div.sk-container {/* jupyter's `normalize.less` sets `[hidden] { display: none; }` but bootstrap.min.css set `[hidden] { display: none !important; }` so we also need the `!important` here to be able to override the default hidden behavior on the sphinx rendered scikit-learn.org. See: https://github.com/scikit-learn/scikit-learn/issues/21755 */display: inline-block !important;position: relative;}#sk-container-id-1 div.sk-text-repr-fallback {display: none;}</style><div id=\"sk-container-id-1\" class=\"sk-top-container\"><div class=\"sk-text-repr-fallback\"><pre>StackingClassifier(cv=5,\n",
       "                   estimators=[(&#x27;xgb&#x27;,\n",
       "                                XGBClassifier(base_score=None, booster=None,\n",
       "                                              callbacks=None,\n",
       "                                              colsample_bylevel=None,\n",
       "                                              colsample_bynode=None,\n",
       "                                              colsample_bytree=None,\n",
       "                                              early_stopping_rounds=None,\n",
       "                                              enable_categorical=False,\n",
       "                                              eval_metric=None,\n",
       "                                              feature_types=None, gamma=None,\n",
       "                                              gpu_id=0, grow_policy=None,\n",
       "                                              importance_type=None,\n",
       "                                              interaction_constraints=None,\n",
       "                                              learnin...\n",
       "                                              min_child_weight=7, missing=nan,\n",
       "                                              monotone_constraints=None,\n",
       "                                              n_estimators=100, n_jobs=None,\n",
       "                                              num_parallel_tree=None,\n",
       "                                              predictor=&#x27;gpu_predictor&#x27;,\n",
       "                                              random_state=None, ...)),\n",
       "                               (&#x27;rf&#x27;,\n",
       "                                RandomForestClassifier(class_weight=&#x27;balanced&#x27;,\n",
       "                                                       min_samples_split=3,\n",
       "                                                       n_estimators=120)),\n",
       "                               (&#x27;lgb&#x27;,\n",
       "                                LGBMClassifier(class_weight=&#x27;balanced&#x27;,\n",
       "                                               learning_rate=0.05, max_depth=4,\n",
       "                                               n_estimators=120,\n",
       "                                               num_leaves=7))])</pre><b>In a Jupyter environment, please rerun this cell to show the HTML representation or trust the notebook. <br />On GitHub, the HTML representation is unable to render, please try loading this page with nbviewer.org.</b></div><div class=\"sk-container\" hidden><div class=\"sk-item sk-dashed-wrapped\"><div class=\"sk-label-container\"><div class=\"sk-label sk-toggleable\"><input class=\"sk-toggleable__control sk-hidden--visually\" id=\"sk-estimator-id-1\" type=\"checkbox\" ><label for=\"sk-estimator-id-1\" class=\"sk-toggleable__label sk-toggleable__label-arrow\">StackingClassifier</label><div class=\"sk-toggleable__content\"><pre>StackingClassifier(cv=5,\n",
       "                   estimators=[(&#x27;xgb&#x27;,\n",
       "                                XGBClassifier(base_score=None, booster=None,\n",
       "                                              callbacks=None,\n",
       "                                              colsample_bylevel=None,\n",
       "                                              colsample_bynode=None,\n",
       "                                              colsample_bytree=None,\n",
       "                                              early_stopping_rounds=None,\n",
       "                                              enable_categorical=False,\n",
       "                                              eval_metric=None,\n",
       "                                              feature_types=None, gamma=None,\n",
       "                                              gpu_id=0, grow_policy=None,\n",
       "                                              importance_type=None,\n",
       "                                              interaction_constraints=None,\n",
       "                                              learnin...\n",
       "                                              min_child_weight=7, missing=nan,\n",
       "                                              monotone_constraints=None,\n",
       "                                              n_estimators=100, n_jobs=None,\n",
       "                                              num_parallel_tree=None,\n",
       "                                              predictor=&#x27;gpu_predictor&#x27;,\n",
       "                                              random_state=None, ...)),\n",
       "                               (&#x27;rf&#x27;,\n",
       "                                RandomForestClassifier(class_weight=&#x27;balanced&#x27;,\n",
       "                                                       min_samples_split=3,\n",
       "                                                       n_estimators=120)),\n",
       "                               (&#x27;lgb&#x27;,\n",
       "                                LGBMClassifier(class_weight=&#x27;balanced&#x27;,\n",
       "                                               learning_rate=0.05, max_depth=4,\n",
       "                                               n_estimators=120,\n",
       "                                               num_leaves=7))])</pre></div></div></div><div class=\"sk-serial\"><div class=\"sk-item\"><div class=\"sk-parallel\"><div class=\"sk-parallel-item\"><div class=\"sk-item\"><div class=\"sk-label-container\"><div class=\"sk-label sk-toggleable\"><label>xgb</label></div></div><div class=\"sk-serial\"><div class=\"sk-item\"><div class=\"sk-estimator sk-toggleable\"><input class=\"sk-toggleable__control sk-hidden--visually\" id=\"sk-estimator-id-2\" type=\"checkbox\" ><label for=\"sk-estimator-id-2\" class=\"sk-toggleable__label sk-toggleable__label-arrow\">XGBClassifier</label><div class=\"sk-toggleable__content\"><pre>XGBClassifier(base_score=None, booster=None, callbacks=None,\n",
       "              colsample_bylevel=None, colsample_bynode=None,\n",
       "              colsample_bytree=None, early_stopping_rounds=None,\n",
       "              enable_categorical=False, eval_metric=None, feature_types=None,\n",
       "              gamma=None, gpu_id=0, grow_policy=None, importance_type=None,\n",
       "              interaction_constraints=None, learning_rate=0.7, max_bin=100,\n",
       "              max_cat_threshold=None, max_cat_to_onehot=None,\n",
       "              max_delta_step=None, max_depth=2, max_leaves=None,\n",
       "              min_child_weight=7, missing=nan, monotone_constraints=None,\n",
       "              n_estimators=100, n_jobs=None, num_parallel_tree=None,\n",
       "              predictor=&#x27;gpu_predictor&#x27;, random_state=None, ...)</pre></div></div></div></div></div></div><div class=\"sk-parallel-item\"><div class=\"sk-item\"><div class=\"sk-label-container\"><div class=\"sk-label sk-toggleable\"><label>rf</label></div></div><div class=\"sk-serial\"><div class=\"sk-item\"><div class=\"sk-estimator sk-toggleable\"><input class=\"sk-toggleable__control sk-hidden--visually\" id=\"sk-estimator-id-3\" type=\"checkbox\" ><label for=\"sk-estimator-id-3\" class=\"sk-toggleable__label sk-toggleable__label-arrow\">RandomForestClassifier</label><div class=\"sk-toggleable__content\"><pre>RandomForestClassifier(class_weight=&#x27;balanced&#x27;, min_samples_split=3,\n",
       "                       n_estimators=120)</pre></div></div></div></div></div></div><div class=\"sk-parallel-item\"><div class=\"sk-item\"><div class=\"sk-label-container\"><div class=\"sk-label sk-toggleable\"><label>lgb</label></div></div><div class=\"sk-serial\"><div class=\"sk-item\"><div class=\"sk-estimator sk-toggleable\"><input class=\"sk-toggleable__control sk-hidden--visually\" id=\"sk-estimator-id-4\" type=\"checkbox\" ><label for=\"sk-estimator-id-4\" class=\"sk-toggleable__label sk-toggleable__label-arrow\">LGBMClassifier</label><div class=\"sk-toggleable__content\"><pre>LGBMClassifier(class_weight=&#x27;balanced&#x27;, learning_rate=0.05, max_depth=4,\n",
       "               n_estimators=120, num_leaves=7)</pre></div></div></div></div></div></div></div></div><div class=\"sk-item\"><div class=\"sk-parallel\"><div class=\"sk-parallel-item\"><div class=\"sk-item\"><div class=\"sk-label-container\"><div class=\"sk-label sk-toggleable\"><label>final_estimator</label></div></div><div class=\"sk-serial\"><div class=\"sk-item\"><div class=\"sk-estimator sk-toggleable\"><input class=\"sk-toggleable__control sk-hidden--visually\" id=\"sk-estimator-id-5\" type=\"checkbox\" ><label for=\"sk-estimator-id-5\" class=\"sk-toggleable__label sk-toggleable__label-arrow\">LogisticRegression</label><div class=\"sk-toggleable__content\"><pre>LogisticRegression()</pre></div></div></div></div></div></div></div></div></div></div></div></div>"
      ],
      "text/plain": [
       "StackingClassifier(cv=5,\n",
       "                   estimators=[('xgb',\n",
       "                                XGBClassifier(base_score=None, booster=None,\n",
       "                                              callbacks=None,\n",
       "                                              colsample_bylevel=None,\n",
       "                                              colsample_bynode=None,\n",
       "                                              colsample_bytree=None,\n",
       "                                              early_stopping_rounds=None,\n",
       "                                              enable_categorical=False,\n",
       "                                              eval_metric=None,\n",
       "                                              feature_types=None, gamma=None,\n",
       "                                              gpu_id=0, grow_policy=None,\n",
       "                                              importance_type=None,\n",
       "                                              interaction_constraints=None,\n",
       "                                              learnin...\n",
       "                                              min_child_weight=7, missing=nan,\n",
       "                                              monotone_constraints=None,\n",
       "                                              n_estimators=100, n_jobs=None,\n",
       "                                              num_parallel_tree=None,\n",
       "                                              predictor='gpu_predictor',\n",
       "                                              random_state=None, ...)),\n",
       "                               ('rf',\n",
       "                                RandomForestClassifier(class_weight='balanced',\n",
       "                                                       min_samples_split=3,\n",
       "                                                       n_estimators=120)),\n",
       "                               ('lgb',\n",
       "                                LGBMClassifier(class_weight='balanced',\n",
       "                                               learning_rate=0.05, max_depth=4,\n",
       "                                               n_estimators=120,\n",
       "                                               num_leaves=7))])"
      ]
     },
     "execution_count": 6,
     "metadata": {},
     "output_type": "execute_result"
    }
   ],
   "source": [
    "#final training\n",
    "stacking_model.fit(X, y)"
   ]
  },
  {
   "cell_type": "code",
   "execution_count": 7,
   "id": "4b0aad5b",
   "metadata": {
    "execution": {
     "iopub.execute_input": "2023-07-23T22:44:30.518072Z",
     "iopub.status.busy": "2023-07-23T22:44:30.517524Z",
     "iopub.status.idle": "2023-07-23T22:44:30.602074Z",
     "shell.execute_reply": "2023-07-23T22:44:30.601244Z"
    },
    "papermill": {
     "duration": 0.104989,
     "end_time": "2023-07-23T22:44:30.604905",
     "exception": false,
     "start_time": "2023-07-23T22:44:30.499916",
     "status": "completed"
    },
    "tags": []
   },
   "outputs": [],
   "source": [
    "preds = stacking_model.predict_proba(X_val)\n",
    "\n",
    "submission = pd.DataFrame()\n",
    "submission[\"Id\"] = X_val.index\n",
    "\n",
    "submission[\"class_0\"] = preds[:,0]\n",
    "submission[\"class_1\"] = preds[:,1]\n"
   ]
  },
  {
   "cell_type": "code",
   "execution_count": 8,
   "id": "e8b2866a",
   "metadata": {
    "execution": {
     "iopub.execute_input": "2023-07-23T22:44:30.626929Z",
     "iopub.status.busy": "2023-07-23T22:44:30.626564Z",
     "iopub.status.idle": "2023-07-23T22:44:30.637869Z",
     "shell.execute_reply": "2023-07-23T22:44:30.636891Z"
    },
    "papermill": {
     "duration": 0.023704,
     "end_time": "2023-07-23T22:44:30.640139",
     "exception": false,
     "start_time": "2023-07-23T22:44:30.616435",
     "status": "completed"
    },
    "tags": []
   },
   "outputs": [
    {
     "data": {
      "text/html": [
       "<div>\n",
       "<style scoped>\n",
       "    .dataframe tbody tr th:only-of-type {\n",
       "        vertical-align: middle;\n",
       "    }\n",
       "\n",
       "    .dataframe tbody tr th {\n",
       "        vertical-align: top;\n",
       "    }\n",
       "\n",
       "    .dataframe thead th {\n",
       "        text-align: right;\n",
       "    }\n",
       "</style>\n",
       "<table border=\"1\" class=\"dataframe\">\n",
       "  <thead>\n",
       "    <tr style=\"text-align: right;\">\n",
       "      <th></th>\n",
       "      <th>Id</th>\n",
       "      <th>class_0</th>\n",
       "      <th>class_1</th>\n",
       "    </tr>\n",
       "  </thead>\n",
       "  <tbody>\n",
       "    <tr>\n",
       "      <th>0</th>\n",
       "      <td>00eed32682bb</td>\n",
       "      <td>0.839452</td>\n",
       "      <td>0.160548</td>\n",
       "    </tr>\n",
       "    <tr>\n",
       "      <th>1</th>\n",
       "      <td>010ebe33f668</td>\n",
       "      <td>0.839452</td>\n",
       "      <td>0.160548</td>\n",
       "    </tr>\n",
       "    <tr>\n",
       "      <th>2</th>\n",
       "      <td>02fa521e1838</td>\n",
       "      <td>0.839452</td>\n",
       "      <td>0.160548</td>\n",
       "    </tr>\n",
       "    <tr>\n",
       "      <th>3</th>\n",
       "      <td>040e15f562a2</td>\n",
       "      <td>0.839452</td>\n",
       "      <td>0.160548</td>\n",
       "    </tr>\n",
       "    <tr>\n",
       "      <th>4</th>\n",
       "      <td>046e85c7cc7f</td>\n",
       "      <td>0.839452</td>\n",
       "      <td>0.160548</td>\n",
       "    </tr>\n",
       "  </tbody>\n",
       "</table>\n",
       "</div>"
      ],
      "text/plain": [
       "             Id   class_0   class_1\n",
       "0  00eed32682bb  0.839452  0.160548\n",
       "1  010ebe33f668  0.839452  0.160548\n",
       "2  02fa521e1838  0.839452  0.160548\n",
       "3  040e15f562a2  0.839452  0.160548\n",
       "4  046e85c7cc7f  0.839452  0.160548"
      ]
     },
     "execution_count": 8,
     "metadata": {},
     "output_type": "execute_result"
    }
   ],
   "source": [
    "submission.head()"
   ]
  },
  {
   "cell_type": "code",
   "execution_count": 9,
   "id": "6466c4dc",
   "metadata": {
    "execution": {
     "iopub.execute_input": "2023-07-23T22:44:30.660429Z",
     "iopub.status.busy": "2023-07-23T22:44:30.659841Z",
     "iopub.status.idle": "2023-07-23T22:44:30.667453Z",
     "shell.execute_reply": "2023-07-23T22:44:30.666545Z"
    },
    "papermill": {
     "duration": 0.020128,
     "end_time": "2023-07-23T22:44:30.669717",
     "exception": false,
     "start_time": "2023-07-23T22:44:30.649589",
     "status": "completed"
    },
    "tags": []
   },
   "outputs": [],
   "source": [
    "submission.to_csv(\"submission.csv\",header=True,index=False)"
   ]
  },
  {
   "cell_type": "raw",
   "id": "6068de9b",
   "metadata": {
    "papermill": {
     "duration": 0.00859,
     "end_time": "2023-07-23T22:44:30.687994",
     "exception": false,
     "start_time": "2023-07-23T22:44:30.679404",
     "status": "completed"
    },
    "tags": []
   },
   "source": [
    "\n",
    "%%time\n",
    "#simple testing ~\n",
    "pipeline = Pipeline([\n",
    "    ('xgb', XGBClassifier(eval_metric='aucpr', scale_pos_weight = ratio))\n",
    "])\n",
    "\n",
    "# Specify the hyperparameters and their values\n",
    "param_grid = {\n",
    "    'xgb__n_estimators': [50, 100, 150],\n",
    "    'xgb__max_depth': [2, 4, 6],\n",
    "    'xgb__learning_rate': [0.01, 0.1, 0.2]\n",
    "}\n",
    "\n",
    "# Create a KFold object\n",
    "kf = KFold(n_splits=5, random_state=42, shuffle=True)\n",
    "\n",
    "# Create a GridSearchCV object\n",
    "grid_search = GridSearchCV(pipeline, param_grid, cv=kf, scoring='roc_auc')\n",
    "\n",
    "# Fit the GridSearchCV object to the data\n",
    "grid_search.fit(X, y)\n",
    "\n",
    "print(f\"Best parameters: {grid_search.best_params_}\")\n",
    "print(f\"Best score: {grid_search.best_score_:.2f}\")\n"
   ]
  },
  {
   "cell_type": "raw",
   "id": "8936f91e",
   "metadata": {
    "execution": {
     "iopub.execute_input": "2023-07-23T22:34:03.327992Z",
     "iopub.status.busy": "2023-07-23T22:34:03.327600Z",
     "iopub.status.idle": "2023-07-23T22:34:03.336262Z",
     "shell.execute_reply": "2023-07-23T22:34:03.335105Z",
     "shell.execute_reply.started": "2023-07-23T22:34:03.327960Z"
    },
    "papermill": {
     "duration": 0.008583,
     "end_time": "2023-07-23T22:44:30.705246",
     "exception": false,
     "start_time": "2023-07-23T22:44:30.696663",
     "status": "completed"
    },
    "tags": []
   },
   "source": [
    "np.save('train_oof', train_oof)\n",
    "np.save('test_preds', test_preds)\n",
    "np.save('train_oof_shap', train_oof_shap)\n",
    "np.save('test_preds_shap', test_preds_shap)"
   ]
  },
  {
   "cell_type": "raw",
   "id": "f8b9d829",
   "metadata": {
    "execution": {
     "iopub.execute_input": "2023-07-23T22:34:04.879647Z",
     "iopub.status.busy": "2023-07-23T22:34:04.878846Z",
     "iopub.status.idle": "2023-07-23T22:34:04.887007Z",
     "shell.execute_reply": "2023-07-23T22:34:04.885929Z",
     "shell.execute_reply.started": "2023-07-23T22:34:04.879605Z"
    },
    "papermill": {
     "duration": 0.008658,
     "end_time": "2023-07-23T22:44:30.722895",
     "exception": false,
     "start_time": "2023-07-23T22:44:30.714237",
     "status": "completed"
    },
    "tags": []
   },
   "source": [
    "%matplotlib inline\n",
    "import cudf, cuml\n",
    "import cupy as cp\n",
    "\n",
    "from cuml.manifold import TSNE, UMAP\n",
    "import matplotlib.pyplot as plt\n",
    "from matplotlib.pyplot import ylim, xlim"
   ]
  },
  {
   "cell_type": "raw",
   "id": "359deb83",
   "metadata": {
    "execution": {
     "iopub.execute_input": "2023-07-23T22:34:05.566288Z",
     "iopub.status.busy": "2023-07-23T22:34:05.565113Z",
     "iopub.status.idle": "2023-07-23T22:34:05.710091Z",
     "shell.execute_reply": "2023-07-23T22:34:05.709173Z",
     "shell.execute_reply.started": "2023-07-23T22:34:05.566243Z"
    },
    "papermill": {
     "duration": 0.009124,
     "end_time": "2023-07-23T22:44:30.740655",
     "exception": false,
     "start_time": "2023-07-23T22:44:30.731531",
     "status": "completed"
    },
    "tags": []
   },
   "source": [
    "train_df = cudf.read_csv('/kaggle/input/icr-identify-age-related-conditions/train.csv')\n",
    "train_df.head()"
   ]
  },
  {
   "cell_type": "raw",
   "id": "cb1b146a",
   "metadata": {
    "execution": {
     "iopub.execute_input": "2023-07-23T22:34:06.426750Z",
     "iopub.status.busy": "2023-07-23T22:34:06.426378Z",
     "iopub.status.idle": "2023-07-23T22:34:06.434260Z",
     "shell.execute_reply": "2023-07-23T22:34:06.433195Z",
     "shell.execute_reply.started": "2023-07-23T22:34:06.426721Z"
    },
    "papermill": {
     "duration": 0.009004,
     "end_time": "2023-07-23T22:44:30.759110",
     "exception": false,
     "start_time": "2023-07-23T22:44:30.750106",
     "status": "completed"
    },
    "tags": []
   },
   "source": [
    "train = cp.load('/kaggle/working/train_oof_shap.npy')\n",
    "test = cp.load('/kaggle/working/test_preds_shap.npy')"
   ]
  },
  {
   "cell_type": "raw",
   "id": "013335d3",
   "metadata": {
    "execution": {
     "iopub.execute_input": "2023-07-23T22:34:07.228639Z",
     "iopub.status.busy": "2023-07-23T22:34:07.227540Z",
     "iopub.status.idle": "2023-07-23T22:34:07.236672Z",
     "shell.execute_reply": "2023-07-23T22:34:07.235498Z",
     "shell.execute_reply.started": "2023-07-23T22:34:07.228603Z"
    },
    "papermill": {
     "duration": 0.008953,
     "end_time": "2023-07-23T22:44:30.777230",
     "exception": false,
     "start_time": "2023-07-23T22:44:30.768277",
     "status": "completed"
    },
    "tags": []
   },
   "source": [
    "train_test = cp.vstack([train, test])\n",
    "train_test.shape"
   ]
  },
  {
   "cell_type": "raw",
   "id": "eb042c66",
   "metadata": {
    "execution": {
     "iopub.execute_input": "2023-07-23T22:34:07.862769Z",
     "iopub.status.busy": "2023-07-23T22:34:07.862400Z",
     "iopub.status.idle": "2023-07-23T22:34:08.239164Z",
     "shell.execute_reply": "2023-07-23T22:34:08.238173Z",
     "shell.execute_reply.started": "2023-07-23T22:34:07.862740Z"
    },
    "papermill": {
     "duration": 0.008317,
     "end_time": "2023-07-23T22:44:30.794535",
     "exception": false,
     "start_time": "2023-07-23T22:44:30.786218",
     "status": "completed"
    },
    "tags": []
   },
   "source": [
    "%%time\n",
    "tsne = TSNE(n_components=2)\n",
    "train_2D = tsne.fit_transform(train_test)"
   ]
  },
  {
   "cell_type": "raw",
   "id": "02e428c4",
   "metadata": {
    "execution": {
     "iopub.execute_input": "2023-07-23T22:34:15.714786Z",
     "iopub.status.busy": "2023-07-23T22:34:15.714371Z",
     "iopub.status.idle": "2023-07-23T22:34:16.036280Z",
     "shell.execute_reply": "2023-07-23T22:34:16.035138Z",
     "shell.execute_reply.started": "2023-07-23T22:34:15.714753Z"
    },
    "papermill": {
     "duration": 0.008345,
     "end_time": "2023-07-23T22:44:30.811399",
     "exception": false,
     "start_time": "2023-07-23T22:44:30.803054",
     "status": "completed"
    },
    "tags": []
   },
   "source": [
    "plt.scatter(train_2D[:,0].get(), train_2D[:,1].get(), s = 0.8)"
   ]
  },
  {
   "cell_type": "raw",
   "id": "1208c7a1",
   "metadata": {
    "execution": {
     "iopub.execute_input": "2023-07-23T22:34:16.980575Z",
     "iopub.status.busy": "2023-07-23T22:34:16.980209Z",
     "iopub.status.idle": "2023-07-23T22:34:17.348214Z",
     "shell.execute_reply": "2023-07-23T22:34:17.347215Z",
     "shell.execute_reply.started": "2023-07-23T22:34:16.980546Z"
    },
    "papermill": {
     "duration": 0.008411,
     "end_time": "2023-07-23T22:44:30.828697",
     "exception": false,
     "start_time": "2023-07-23T22:44:30.820286",
     "status": "completed"
    },
    "tags": []
   },
   "source": [
    "%%time\n",
    "tsne = TSNE(n_components=2)\n",
    "train_2D = tsne.fit_transform(train)"
   ]
  },
  {
   "cell_type": "raw",
   "id": "b6ccc563",
   "metadata": {
    "execution": {
     "iopub.execute_input": "2023-07-23T22:34:17.880481Z",
     "iopub.status.busy": "2023-07-23T22:34:17.880073Z",
     "iopub.status.idle": "2023-07-23T22:34:18.514880Z",
     "shell.execute_reply": "2023-07-23T22:34:18.512842Z",
     "shell.execute_reply.started": "2023-07-23T22:34:17.880452Z"
    },
    "papermill": {
     "duration": 0.008464,
     "end_time": "2023-07-23T22:44:30.845923",
     "exception": false,
     "start_time": "2023-07-23T22:44:30.837459",
     "status": "completed"
    },
    "tags": []
   },
   "source": [
    "plt.scatter(train_2D[:,0].get(), train_2D[:,1].get(), s = 0.8)"
   ]
  },
  {
   "cell_type": "raw",
   "id": "4b30bf92",
   "metadata": {
    "execution": {
     "iopub.execute_input": "2023-07-23T22:34:19.200045Z",
     "iopub.status.busy": "2023-07-23T22:34:19.199334Z",
     "iopub.status.idle": "2023-07-23T22:34:19.484367Z",
     "shell.execute_reply": "2023-07-23T22:34:19.483375Z",
     "shell.execute_reply.started": "2023-07-23T22:34:19.200003Z"
    },
    "papermill": {
     "duration": 0.008472,
     "end_time": "2023-07-23T22:44:30.863211",
     "exception": false,
     "start_time": "2023-07-23T22:44:30.854739",
     "status": "completed"
    },
    "tags": []
   },
   "source": [
    "plt.scatter(train_2D[:,0].get(), train_2D[:,1].get(), c=train_df['Class'].values.get(), s = 0.8)"
   ]
  },
  {
   "cell_type": "raw",
   "id": "e1cae052",
   "metadata": {
    "execution": {
     "iopub.execute_input": "2023-07-23T22:34:20.262919Z",
     "iopub.status.busy": "2023-07-23T22:34:20.262541Z",
     "iopub.status.idle": "2023-07-23T22:34:20.299639Z",
     "shell.execute_reply": "2023-07-23T22:34:20.298630Z",
     "shell.execute_reply.started": "2023-07-23T22:34:20.262889Z"
    },
    "papermill": {
     "duration": 0.008679,
     "end_time": "2023-07-23T22:44:30.880546",
     "exception": false,
     "start_time": "2023-07-23T22:44:30.871867",
     "status": "completed"
    },
    "tags": []
   },
   "source": [
    "%%time\n",
    "umap = UMAP(n_components=2)\n",
    "train_2D = umap.fit_transform(train)"
   ]
  },
  {
   "cell_type": "raw",
   "id": "a0771949",
   "metadata": {
    "execution": {
     "iopub.execute_input": "2023-07-23T22:34:21.313368Z",
     "iopub.status.busy": "2023-07-23T22:34:21.312284Z",
     "iopub.status.idle": "2023-07-23T22:34:21.641113Z",
     "shell.execute_reply": "2023-07-23T22:34:21.640038Z",
     "shell.execute_reply.started": "2023-07-23T22:34:21.313327Z"
    },
    "papermill": {
     "duration": 0.008623,
     "end_time": "2023-07-23T22:44:30.897817",
     "exception": false,
     "start_time": "2023-07-23T22:44:30.889194",
     "status": "completed"
    },
    "tags": []
   },
   "source": [
    "plt.scatter(train_2D[:,0].get(), train_2D[:,1].get(), c=train_df['Class'].values.get(), s = 0.8)"
   ]
  }
 ],
 "metadata": {
  "kernelspec": {
   "display_name": "Python 3",
   "language": "python",
   "name": "python3"
  },
  "language_info": {
   "codemirror_mode": {
    "name": "ipython",
    "version": 3
   },
   "file_extension": ".py",
   "mimetype": "text/x-python",
   "name": "python",
   "nbconvert_exporter": "python",
   "pygments_lexer": "ipython3",
   "version": "3.10.10"
  },
  "papermill": {
   "default_parameters": {},
   "duration": 39.847428,
   "end_time": "2023-07-23T22:44:32.331073",
   "environment_variables": {},
   "exception": null,
   "input_path": "__notebook__.ipynb",
   "output_path": "__notebook__.ipynb",
   "parameters": {},
   "start_time": "2023-07-23T22:43:52.483645",
   "version": "2.4.0"
  }
 },
 "nbformat": 4,
 "nbformat_minor": 5
}
